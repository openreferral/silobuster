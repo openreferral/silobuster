{
 "cells": [
  {
   "cell_type": "code",
   "execution_count": 1,
   "id": "49dc1b89",
   "metadata": {},
   "outputs": [
    {
     "name": "stdout",
     "output_type": "stream",
     "text": [
      "\n",
      "        SELECT\n",
      "            o.id as organization_id,\n",
      "            o.name as o_name,\n",
      "            o.description as o_description,\n",
      "            o.url as o_url,\n",
      "            l.id as location_id,\n",
      "            l.name as l_name,\n",
      "            l.description as l_description,\n",
      "            l.latitude,\n",
      "            l.longitude,\n",
      "            a.address_1,\n",
      "            a.address_2,\n",
      "            a.city,\n",
      "            a.state_province,\n",
      "            a.postal_code\n",
      "        FROM organization o\n",
      "        JOIN location l on l.organization_id = o.id\n",
      "        JOIN address a on a.location_id = l.id\n",
      "        WHERE type = 'physical'\n",
      "        \n",
      "                    organization_id  \\\n",
      "0  46c4acdfa7407bb1f0de32a2467c7987   \n",
      "1  0311533a6d3626101e12996e914c1477   \n",
      "2  c5fce969171a54cfae5440cacfd45585   \n",
      "3  7536dcaf0707e39f30ec2936a5b6774e   \n",
      "4  b3fa2d0531dc59d40be538c89a15e383   \n",
      "\n",
      "                                              o_name  \\\n",
      "0                                    *REQUIRED* text   \n",
      "1  Depressive and Bipolar Support Alliance Whatco...   \n",
      "2           Bellingham Parks and Recreation Division   \n",
      "3                        Mount Baker School District   \n",
      "4                       Bellingham Technical College   \n",
      "\n",
      "                                       o_description  \\\n",
      "0                                    *REQUIRED* text   \n",
      "1  Peer-directed national organization focusing o...   \n",
      "2  The Parks and Recreation Department supports a...   \n",
      "3                            Public school district.   \n",
      "4  Bellingham Technical College provides student-...   \n",
      "\n",
      "                                 o_url                       location_id  \\\n",
      "0               http://some.domain.com  ae97066be6a14f53d572bcbab83d4ef4   \n",
      "1           http://www.dbsalliance.org  5cbaa27bd58a2b8b728caad9c8a554bf   \n",
      "2  https://cob.org/services/recreation  647b980c49850404ea2db47db8ec504c   \n",
      "3        http://www.mtbaker.wednet.edu  2cc46b37742f870c0904d2a6f8adcd2e   \n",
      "4                  https://www.btc.edu  52dbbe006552f49c9a32e5dee5e3f7ce   \n",
      "\n",
      "                                    l_name l_description  latitude  longitude  \\\n",
      "0                          *REQUIRED* text          None       NaN        NaN   \n",
      "1  Depressive and Bipolar Support Alliance          None       NaN        NaN   \n",
      "2     Bellingham Parks Recreation Division          None       NaN        NaN   \n",
      "3              Mount Baker School District          None       NaN        NaN   \n",
      "4             Bellingham Technical College          None       NaN        NaN   \n",
      "\n",
      "               address_1 address_2        city  \\\n",
      "0                   text      text        text   \n",
      "1    800 Chestnut Street  Suite 1C  Bellingham   \n",
      "2      210 Lottie Street            Bellingham   \n",
      "3       4956 Deming Road                Deming   \n",
      "4  3028 Lindbergh Avenue            Bellingham   \n",
      "\n",
      "                   state_province          postal_code  \n",
      "0  Two character state (All caps)  99999 or 99999-9999  \n",
      "1                              WA                98225  \n",
      "2                              WA                98225  \n",
      "3                              WA                98244  \n",
      "4                              WA                98225  \n",
      "Importing data ...\n"
     ]
    },
    {
     "name": "stderr",
     "output_type": "stream",
     "text": [
      "/tmp/ipykernel_15375/292313391.py:10: FutureWarning: The default value of regex will change from True to False in a future version.\n",
      "  df_final = pandas_dedupe.dedupe_dataframe(pg_feed.df, [\n",
      "o_name : bellingham technical college\n",
      "address_1 : 3028 lindbergh avenue\n",
      "address_2 : \n",
      "city : bellingham\n",
      "state_province : wa\n",
      "postal_code : 98225\n",
      "o_url : https://www.btc.edu\n",
      "l_description : None\n",
      "\n",
      "o_name : bellingham technical college\n",
      "address_1 : 3028 lindbergh ave\n",
      "address_2 : None\n",
      "city : bellingham\n",
      "state_province : wa\n",
      "postal_code : 98225\n",
      "o_url : \n",
      "l_description : \n",
      "\n",
      "0/10 positive, 0/10 negative\n",
      "Do these records refer to the same thing?\n",
      "(y)es / (n)o / (u)nsure / (f)inished\n"
     ]
    },
    {
     "name": "stdout",
     "output_type": "stream",
     "text": [
      "Starting active labeling...\n",
      "n\n"
     ]
    },
    {
     "name": "stderr",
     "output_type": "stream",
     "text": [
      "o_name : bellingham food bank\n",
      "address_1 : 1824 ellis street\n",
      "address_2 : \n",
      "city : bellingham\n",
      "state_province : wa\n",
      "postal_code : 98225\n",
      "o_url : http://bellinghamfoodbank.org\n",
      "l_description : None\n",
      "\n",
      "o_name : bellingham food bank\n",
      "address_1 : 1824 ellis st\n",
      "address_2 : None\n",
      "city : bellingham\n",
      "state_province : wa\n",
      "postal_code : 98225\n",
      "o_url : https://www.bellinghamfoodbank.org/\n",
      "l_description : \n",
      "\n",
      "0/10 positive, 1/10 negative\n",
      "Do these records refer to the same thing?\n",
      "(y)es / (n)o / (u)nsure / (f)inished / (p)revious\n"
     ]
    },
    {
     "name": "stdout",
     "output_type": "stream",
     "text": [
      "y\n"
     ]
    },
    {
     "name": "stderr",
     "output_type": "stream",
     "text": [
      "o_name : ferndale food bank\n",
      "address_1 : 1671 main street\n",
      "address_2 : wta transfer station property\n",
      "city : ferndale\n",
      "state_province : wa\n",
      "postal_code : 98248\n",
      "o_url : http://www.ferndalefoodbank.org\n",
      "l_description : None\n",
      "\n",
      "o_name : ferndale food bank\n",
      "address_1 : 1671 main st\n",
      "address_2 : None\n",
      "city : ferndale\n",
      "state_province : wa\n",
      "postal_code : 98248\n",
      "o_url : \n",
      "l_description : \n",
      "\n",
      "1/10 positive, 1/10 negative\n",
      "Do these records refer to the same thing?\n",
      "(y)es / (n)o / (u)nsure / (f)inished / (p)revious\n"
     ]
    },
    {
     "name": "stdout",
     "output_type": "stream",
     "text": [
      "y\n"
     ]
    },
    {
     "name": "stderr",
     "output_type": "stream",
     "text": [
      "o_name : blaine food bank\n",
      "address_1 : 500 c street\n",
      "address_2 : \n",
      "city : blaine\n",
      "state_province : wa\n",
      "postal_code : 98230\n",
      "o_url : https://www.blainefoodbank.org\n",
      "l_description : None\n",
      "\n",
      "o_name : blaine food bank\n",
      "address_1 : 500 c st\n",
      "address_2 : None\n",
      "city : blaine\n",
      "state_province : wa\n",
      "postal_code : 98230\n",
      "o_url : https://www.blainefoodbank.org/\n",
      "l_description : \n",
      "\n",
      "2/10 positive, 1/10 negative\n",
      "Do these records refer to the same thing?\n",
      "(y)es / (n)o / (u)nsure / (f)inished / (p)revious\n"
     ]
    },
    {
     "name": "stdout",
     "output_type": "stream",
     "text": [
      "n\n"
     ]
    },
    {
     "name": "stderr",
     "output_type": "stream",
     "text": [
      "o_name : project hope\n",
      "address_1 : 205 south british columbia avenue\n",
      "address_2 : suite 105\n",
      "city : lynden\n",
      "state_province : wa\n",
      "postal_code : 98264\n",
      "o_url : https://www.projecthopelynden.org\n",
      "l_description : None\n",
      "\n",
      "o_name : project hope\n",
      "address_1 : 205 s british columbia ave\n",
      "address_2 : None\n",
      "city : lynden\n",
      "state_province : wa\n",
      "postal_code : 98264\n",
      "o_url : https://www.projecthopelynden.org/project-hope-food-bank/\n",
      "l_description : \n",
      "\n",
      "2/10 positive, 2/10 negative\n",
      "Do these records refer to the same thing?\n",
      "(y)es / (n)o / (u)nsure / (f)inished / (p)revious\n"
     ]
    },
    {
     "name": "stdout",
     "output_type": "stream",
     "text": [
      "n\n"
     ]
    },
    {
     "name": "stderr",
     "output_type": "stream",
     "text": [
      "o_name : north sound cooling centers\n",
      "address_1 : 2095 main street\n",
      "address_2 : \n",
      "city : ferndale\n",
      "state_province : wa\n",
      "postal_code : 98248\n",
      "o_url : \n",
      "l_description : None\n",
      "\n",
      "o_name : north sound cooling centers\n",
      "address_1 : 2125 main street\n",
      "address_2 : \n",
      "city : ferndale\n",
      "state_province : wa\n",
      "postal_code : 98248\n",
      "o_url : \n",
      "l_description : None\n",
      "\n",
      "2/10 positive, 3/10 negative\n",
      "Do these records refer to the same thing?\n",
      "(y)es / (n)o / (u)nsure / (f)inished / (p)revious\n"
     ]
    },
    {
     "name": "stdout",
     "output_type": "stream",
     "text": [
      "n\n"
     ]
    },
    {
     "name": "stderr",
     "output_type": "stream",
     "text": [
      "o_name : nooksack valley school district\n",
      "address_1 : 3326 east badger road\n",
      "address_2 : \n",
      "city : everson\n",
      "state_province : wa\n",
      "postal_code : 98247\n",
      "o_url : https://www.nv.k12.wa.us\n",
      "l_description : None\n",
      "\n",
      "o_name : nooksack valley school\n",
      "address_1 : 3326 e badger rd\n",
      "address_2 : None\n",
      "city : everson\n",
      "state_province : wa\n",
      "postal_code : 98247\n",
      "o_url : \n",
      "l_description : \n",
      "\n",
      "2/10 positive, 4/10 negative\n",
      "Do these records refer to the same thing?\n",
      "(y)es / (n)o / (u)nsure / (f)inished / (p)revious\n"
     ]
    },
    {
     "name": "stdout",
     "output_type": "stream",
     "text": [
      "y\n"
     ]
    },
    {
     "name": "stderr",
     "output_type": "stream",
     "text": [
      "o_name : saint pauls episcopal church\n",
      "address_1 : 2116 walnut street\n",
      "address_2 : \n",
      "city : bellingham\n",
      "state_province : wa\n",
      "postal_code : 98225\n",
      "o_url : http://stpaulsbellingham.org\n",
      "l_description : None\n",
      "\n",
      "o_name : st. paul episcopal church - alms ministry\n",
      "address_1 : 2117 walnut st\n",
      "address_2 : None\n",
      "city : bellingham\n",
      "state_province : wa\n",
      "postal_code : 98225\n",
      "o_url : \n",
      "l_description : \n",
      "\n",
      "3/10 positive, 4/10 negative\n",
      "Do these records refer to the same thing?\n",
      "(y)es / (n)o / (u)nsure / (f)inished / (p)revious\n"
     ]
    },
    {
     "name": "stdout",
     "output_type": "stream",
     "text": [
      "y\n"
     ]
    },
    {
     "name": "stderr",
     "output_type": "stream",
     "text": [
      "o_name : washington state department of labor industries\n",
      "address_1 : 1720 ellis st\n",
      "address_2 : suite 200\n",
      "city : bellingham\n",
      "state_province : wa\n",
      "postal_code : 98225\n",
      "o_url : http://lni.wa.gov\n",
      "l_description : None\n",
      "\n",
      "o_name : usda\n",
      "address_1 : 1701 ellis street\n",
      "address_2 : suite 221\n",
      "city : bellingham\n",
      "state_province : wa\n",
      "postal_code : 98225\n",
      "o_url : \n",
      "l_description : None\n",
      "\n",
      "4/10 positive, 4/10 negative\n",
      "Do these records refer to the same thing?\n",
      "(y)es / (n)o / (u)nsure / (f)inished / (p)revious\n"
     ]
    },
    {
     "name": "stdout",
     "output_type": "stream",
     "text": [
      "n\n"
     ]
    },
    {
     "name": "stderr",
     "output_type": "stream",
     "text": [
      "o_name : united way of whatcom county\n",
      "address_1 : 1500 cornwall avenue\n",
      "address_2 : suite 203\n",
      "city : bellingham\n",
      "state_province : wa\n",
      "postal_code : 98225\n",
      "o_url : http://www.unitedwaywhatcom.org\n",
      "l_description : None\n",
      "\n",
      "o_name : north sound cooling centers\n",
      "address_1 : 1530 cornwall avenue\n",
      "address_2 : \n",
      "city : bellingham\n",
      "state_province : wa\n",
      "postal_code : 98225\n",
      "o_url : \n",
      "l_description : None\n",
      "\n",
      "4/10 positive, 5/10 negative\n",
      "Do these records refer to the same thing?\n",
      "(y)es / (n)o / (u)nsure / (f)inished / (p)revious\n"
     ]
    },
    {
     "name": "stdout",
     "output_type": "stream",
     "text": [
      "y\n"
     ]
    },
    {
     "name": "stderr",
     "output_type": "stream",
     "text": [
      "o_name : we care of whatcom county\n",
      "address_1 : 3550 meridian street\n",
      "address_2 : suite 2\n",
      "city : bellingham\n",
      "state_province : wa\n",
      "postal_code : 98225\n",
      "o_url : \n",
      "l_description : None\n",
      "\n",
      "o_name : lake whatcom residential and treatment center\n",
      "address_1 : 3600 meridian street\n",
      "address_2 : \n",
      "city : bellingham\n",
      "state_province : wa\n",
      "postal_code : 98225\n",
      "o_url : http://lwrtc.org\n",
      "l_description : None\n",
      "\n",
      "5/10 positive, 5/10 negative\n",
      "Do these records refer to the same thing?\n",
      "(y)es / (n)o / (u)nsure / (f)inished / (p)revious\n"
     ]
    },
    {
     "name": "stdout",
     "output_type": "stream",
     "text": [
      "f\n"
     ]
    },
    {
     "name": "stderr",
     "output_type": "stream",
     "text": [
      "Finished labeling\n"
     ]
    },
    {
     "name": "stdout",
     "output_type": "stream",
     "text": [
      "Clustering...\n",
      "# duplicate sets 133\n"
     ]
    }
   ],
   "source": [
    "import pandas as pd\n",
    "import pandas_dedupe\n",
    "\n",
    "from feeds.postgres_feed import PostgresFeed\n",
    "\n",
    "pg_feed = PostgresFeed.from_main()\n",
    "print(pg_feed.query)\n",
    "print (pg_feed.df.head(5))\n",
    "\n",
    "# The Levenshtein distance is used for fields identified as 'String'. However, it appears we \n",
    "# can't use \"has missing\" with Strings. Where fields may be empty, use type of \"Test\" instead.\n",
    "df_final = pandas_dedupe.dedupe_dataframe(pg_feed.df, [\n",
    "    ('o_name', 'String', 'has missing'),\n",
    "    ('address_1', 'String', 'has missing'), \n",
    "    ('address_2','Text', 'has missing'), \n",
    "    ('city','String','has missing'), \n",
    "    ('state_province','String','has missing'), \n",
    "    ('postal_code','String','has missing'), \n",
    "    ('o_url','Text','has missing'), \n",
    "    ('l_description','Text','has missing')\n",
    "])\n",
    "\n",
    "df_final.to_csv('deduplication_output.csv')"
   ]
  },
  {
   "cell_type": "code",
   "execution_count": null,
   "id": "89cc550f",
   "metadata": {},
   "outputs": [],
   "source": []
  },
  {
   "cell_type": "code",
   "execution_count": null,
   "id": "02c05d1e",
   "metadata": {},
   "outputs": [],
   "source": []
  }
 ],
 "metadata": {
  "kernelspec": {
   "display_name": "Python 3.9.14 64-bit",
   "language": "python",
   "name": "python3"
  },
  "language_info": {
   "codemirror_mode": {
    "name": "ipython",
    "version": 3
   },
   "file_extension": ".py",
   "mimetype": "text/x-python",
   "name": "python",
   "nbconvert_exporter": "python",
   "pygments_lexer": "ipython3",
   "version": "3.9.14"
  },
  "vscode": {
   "interpreter": {
    "hash": "eb8673203dacbf360bb25dbbbce6c01807a3892e8ccb661bc147eb426e52f1f0"
   }
  }
 },
 "nbformat": 4,
 "nbformat_minor": 5
}
