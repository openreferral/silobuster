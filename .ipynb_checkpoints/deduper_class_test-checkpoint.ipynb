{
 "cells": [
  {
   "cell_type": "code",
   "execution_count": 1,
   "id": "a6c03349",
   "metadata": {},
   "outputs": [],
   "source": [
    "\n",
    "from connectors.postgres_connector import PostgresConnector\n",
    "from feeds.postgres_feed import PostgresFeed\n",
    "\n",
    "import dedupe\n",
    "\n",
    "pg_conn = PostgresConnector(db='jameycdb', username='jameyc', password='UXZSXXXSFZeU8XKw', host='silobuster-db-do-user-12298230-0.b.db.ondigitalocean.com', port=25060)\n",
    "# select_qry = \"SELECT id, name, address FROM what_location WHERE address is not null and not address = '' and name is not null and not name = ''\"\n",
    "# select_qry2 = \"SELECT id, name, address FROM what_location\"\n",
    "\n",
    "select_qry = \"SELECT id, name, address_1, address_2, city, state_province, postal_code, url, description, duplicate_id, duplicate_type FROM organizations_normalized WHERE name IS NOT NULL AND NOT name = '' AND address_1 IS NOT NULL AND NOT address_1 = '' AND city IS NOT NULL AND NOT city = ''\"\n",
    "raw_def = [\n",
    "    {\"field\": \"name\", \"type\": \"String\"},\n",
    "    {\"field\": \"address_1\", \"type\": \"String\", \"has missing\": True},\n",
    "    {\"field\": \"address_2\", \"type\": \"Exists\", \"has missing\": True},\n",
    "    {\"field\": \"city\", \"type\": \"String\", \"has missing\": True},\n",
    "    {\"field\": \"state_province\", \"type\": \"String\", \"has missing\": True},\n",
    "    {\"field\": \"postal_code\", \"type\": \"Exists\", \"has missing\": True},\n",
    "    {\"field\": \"url\", \"type\": \"Exists\", \"has missing\": True}\n",
    "]\n",
    "\n",
    "\n",
    "pg_feed = PostgresFeed.from_manual(connector=pg_conn, query=select_qry, column_definition=raw_def, primary_key='id')\n",
    "\n",
    "# select_qry = \"SELECT name, address FROM what_location WHERE address is not null and not address = '' and name is not null and not name = ''\"\n",
    "deduper = dedupe.Dedupe(pg_feed.variable_definition)\n",
    "\n"
   ]
  },
  {
   "cell_type": "code",
   "execution_count": 2,
   "id": "63a2a7c0",
   "metadata": {},
   "outputs": [],
   "source": [
    "#deduper.prepare_training(pg_feed.formatted_data, sample_size=100000, blocked_proportion=1)\n",
    "deduper.prepare_training(pg_feed.formatted_data)"
   ]
  },
  {
   "cell_type": "code",
   "execution_count": 3,
   "id": "a06aa97f",
   "metadata": {},
   "outputs": [],
   "source": [
    "#distinct_pairs = []\n",
    "#while True:\n",
    "#    try:\n",
    "#        pair = deduper.uncertain_pairs()\n",
    "#        distinct_pairs.extend(pair)\n",
    "#    except IndexError as e:\n",
    "#        break\n",
    "#    except Exception as e:\n",
    "#        raise\n",
    "\n",
    "#deduper.mark_pairs({\n",
    "#    \"match\": [],\n",
    "#    \"distinct\": distinct_pairs\n",
    "#})\n",
    "#print (distinct_pairs)"
   ]
  },
  {
   "cell_type": "code",
   "execution_count": null,
   "id": "56e7cecb",
   "metadata": {},
   "outputs": [],
   "source": []
  },
  {
   "cell_type": "code",
   "execution_count": 4,
   "id": "d301eb76",
   "metadata": {
    "scrolled": true
   },
   "outputs": [
    {
     "name": "stdout",
     "output_type": "stream",
     "text": [
      "Starting active labeling...\n"
     ]
    }
   ],
   "source": [
    "print(\"Starting active labeling...\")"
   ]
  },
  {
   "cell_type": "code",
   "execution_count": 5,
   "id": "992d1c23",
   "metadata": {},
   "outputs": [
    {
     "name": "stderr",
     "output_type": "stream",
     "text": [
      "name : new way ministries\n",
      "address_1 : 205 south british columbia avenue\n",
      "address_2 : \n",
      "city : lynden\n",
      "state_province : wa\n",
      "postal_code : 98264\n",
      "url : http://www.christianhopeassociation.org\n",
      "\n",
      "name : new way ministries\n",
      "address_1 : 205 south british columbia ave\n",
      "address_2 : \n",
      "city : lynden\n",
      "state_province : wa\n",
      "postal_code : 98264\n",
      "url : http://www.christianhopeassociation.org\n",
      "\n",
      "0/10 positive, 0/10 negative\n",
      "Do these records refer to the same thing?\n",
      "(y)es / (n)o / (u)nsure / (f)inished\n"
     ]
    },
    {
     "name": "stdout",
     "output_type": "stream",
     "text": [
      "y\n"
     ]
    },
    {
     "name": "stderr",
     "output_type": "stream",
     "text": [
      "name : whatcom family ymca\n",
      "address_1 : 1256 north state str\n",
      "address_2 : \n",
      "city : bellingham\n",
      "state_province : wa\n",
      "postal_code : 98225\n",
      "url : http://whatcomymca.org\n",
      "\n",
      "name : whatcom family ymca\n",
      "address_1 : 1256 north state st\n",
      "address_2 : \n",
      "city : bellingham\n",
      "state_province : wa\n",
      "postal_code : 98225\n",
      "url : http://whatcomymca.org\n",
      "\n",
      "1/10 positive, 0/10 negative\n",
      "Do these records refer to the same thing?\n",
      "(y)es / (n)o / (u)nsure / (f)inished / (p)revious\n"
     ]
    },
    {
     "name": "stdout",
     "output_type": "stream",
     "text": [
      "y\n"
     ]
    },
    {
     "name": "stderr",
     "output_type": "stream",
     "text": [
      "name : salvation army - bellingham\n",
      "address_1 : 1515 birchwood ave\n",
      "address_2 : \n",
      "city : bellingham\n",
      "state_province : wa\n",
      "postal_code : 98225\n",
      "url : https://bellingham.salvationarmy.org\n",
      "\n",
      "name : salvation army - bellingham\n",
      "address_1 : 1515 birchwood aven\n",
      "address_2 : \n",
      "city : bellingham\n",
      "state_province : wa\n",
      "postal_code : 98225\n",
      "url : https://bellingham.salvationarmy.org\n",
      "\n",
      "2/10 positive, 0/10 negative\n",
      "Do these records refer to the same thing?\n",
      "(y)es / (n)o / (u)nsure / (f)inished / (p)revious\n"
     ]
    },
    {
     "name": "stdout",
     "output_type": "stream",
     "text": [
      "y\n"
     ]
    },
    {
     "name": "stderr",
     "output_type": "stream",
     "text": [
      "name : salvation army - bellingham\n",
      "address_1 : 1515 birchwood ave\n",
      "address_2 : \n",
      "city : bellingham\n",
      "state_province : wa\n",
      "postal_code : 98225\n",
      "url : https://bellingham.salvationarmy.org\n",
      "\n",
      "name : salvation army - bellingham\n",
      "address_1 : 1515 birchwood aven\n",
      "address_2 : \n",
      "city : bellingham\n",
      "state_province : wa\n",
      "postal_code : 98225\n",
      "url : https://bellingham.salvationarmy.org\n",
      "\n",
      "3/10 positive, 0/10 negative\n",
      "Do these records refer to the same thing?\n",
      "(y)es / (n)o / (u)nsure / (f)inished / (p)revious\n"
     ]
    },
    {
     "name": "stdout",
     "output_type": "stream",
     "text": [
      "y\n"
     ]
    },
    {
     "name": "stderr",
     "output_type": "stream",
     "text": [
      "name : opportunity council in whatcom county\n",
      "address_1 : 1111 cornwall avenue\n",
      "address_2 : suite c\n",
      "city : bellingham\n",
      "state_province : wa\n",
      "postal_code : 98225\n",
      "url : http://www.oppco.org\n",
      "\n",
      "name : opportunity council in whatcom county\n",
      "address_1 : 1111 cornwall aven\n",
      "address_2 : suite c\n",
      "city : bellingham\n",
      "state_province : wa\n",
      "postal_code : 98225\n",
      "url : http://www.oppco.org\n",
      "\n",
      "4/10 positive, 0/10 negative\n",
      "Do these records refer to the same thing?\n",
      "(y)es / (n)o / (u)nsure / (f)inished / (p)revious\n"
     ]
    },
    {
     "name": "stdout",
     "output_type": "stream",
     "text": [
      "y\n"
     ]
    },
    {
     "name": "stderr",
     "output_type": "stream",
     "text": [
      "name : whatcom county\n",
      "address_1 : 332 north commercial street\n",
      "address_2 : suite 220\n",
      "city : bellingham\n",
      "state_province : wa\n",
      "postal_code : 98225\n",
      "url : http://www.co.whatcom.wa.us\n",
      "\n",
      "name : whatcom county\n",
      "address_1 : 332 north commercial st\n",
      "address_2 : suite 220\n",
      "city : bellingham\n",
      "state_province : wa\n",
      "postal_code : 98225\n",
      "url : http://www.co.whatcom.wa.us\n",
      "\n",
      "5/10 positive, 0/10 negative\n",
      "Do these records refer to the same thing?\n",
      "(y)es / (n)o / (u)nsure / (f)inished / (p)revious\n"
     ]
    },
    {
     "name": "stdout",
     "output_type": "stream",
     "text": [
      "y\n"
     ]
    },
    {
     "name": "stderr",
     "output_type": "stream",
     "text": [
      "name : blaine community/senior center\n",
      "address_1 : 763 g st\n",
      "address_2 : \n",
      "city : blaine\n",
      "state_province : wa\n",
      "postal_code : 98230\n",
      "url : https://www.blaineseniorcenter.org\n",
      "\n",
      "name : blaine community/senior center\n",
      "address_1 : 763 g str.\n",
      "address_2 : \n",
      "city : blaine\n",
      "state_province : wa\n",
      "postal_code : 98230\n",
      "url : https://www.blaineseniorcenter.org\n",
      "\n",
      "6/10 positive, 0/10 negative\n",
      "Do these records refer to the same thing?\n",
      "(y)es / (n)o / (u)nsure / (f)inished / (p)revious\n"
     ]
    },
    {
     "name": "stdout",
     "output_type": "stream",
     "text": [
      "y\n"
     ]
    },
    {
     "name": "stderr",
     "output_type": "stream",
     "text": [
      "name : blaine community/senior center\n",
      "address_1 : 763 g street\n",
      "address_2 : \n",
      "city : blaine\n",
      "state_province : wa\n",
      "postal_code : 98230\n",
      "url : https://www.blaineseniorcenter.org\n",
      "\n",
      "name : blaine community/senior center\n",
      "address_1 : 763 g st\n",
      "address_2 : \n",
      "city : blaine\n",
      "state_province : wa\n",
      "postal_code : 98230\n",
      "url : https://www.blaineseniorcenter.org\n",
      "\n",
      "7/10 positive, 0/10 negative\n",
      "Do these records refer to the same thing?\n",
      "(y)es / (n)o / (u)nsure / (f)inished / (p)revious\n"
     ]
    },
    {
     "name": "stdout",
     "output_type": "stream",
     "text": [
      "y\n"
     ]
    },
    {
     "name": "stderr",
     "output_type": "stream",
     "text": [
      "name : *required* text\n",
      "address_1 : text\n",
      "address_2 : text\n",
      "city : text\n",
      "state_province : two character state (all caps)\n",
      "postal_code : 99999 or 99999-9999\n",
      "url : http://some.domain.com\n",
      "\n",
      "name : *required* text\n",
      "address_1 : text\n",
      "address_2 : text\n",
      "city : text\n",
      "state_province : two character state (all caps)\n",
      "postal_code : 99999 or 99999-9999\n",
      "url : http://some.domain.com\n",
      "\n",
      "8/10 positive, 0/10 negative\n",
      "Do these records refer to the same thing?\n",
      "(y)es / (n)o / (u)nsure / (f)inished / (p)revious\n"
     ]
    },
    {
     "name": "stdout",
     "output_type": "stream",
     "text": [
      "y\n"
     ]
    },
    {
     "name": "stderr",
     "output_type": "stream",
     "text": [
      "name : *required* text\n",
      "address_1 : text\n",
      "address_2 : text\n",
      "city : text\n",
      "state_province : two character state (all caps)\n",
      "postal_code : 99999 or 99999-9999\n",
      "url : http://some.domain.com\n",
      "\n",
      "name : *required* text\n",
      "address_1 : text\n",
      "address_2 : text\n",
      "city : text\n",
      "state_province : two character state (all caps)\n",
      "postal_code : 99999 or 99999-9999\n",
      "url : http://some.domain.com\n",
      "\n",
      "9/10 positive, 0/10 negative\n",
      "Do these records refer to the same thing?\n",
      "(y)es / (n)o / (u)nsure / (f)inished / (p)revious\n"
     ]
    },
    {
     "name": "stdout",
     "output_type": "stream",
     "text": [
      "y\n"
     ]
    },
    {
     "name": "stderr",
     "output_type": "stream",
     "text": [
      "name : seattle goodwill\n",
      "address_1 : seattle goodwill industries\n",
      "address_2 : 1765 6th ave. s.\n",
      "city : seattle\n",
      "state_province : wa\n",
      "postal_code : 98134\n",
      "url : https://seattlegoodwill.org/\n",
      "\n",
      "name : seattle goodwill\n",
      "address_1 : seattle goodwill industries\n",
      "address_2 : 1765 6th ave. s.\n",
      "city : seattle\n",
      "state_province : wa\n",
      "postal_code : 98134\n",
      "url : https://seattlegoodwill.org/\n",
      "\n",
      "10/10 positive, 0/10 negative\n",
      "Do these records refer to the same thing?\n",
      "(y)es / (n)o / (u)nsure / (f)inished / (p)revious\n"
     ]
    },
    {
     "name": "stdout",
     "output_type": "stream",
     "text": [
      "y\n"
     ]
    },
    {
     "name": "stderr",
     "output_type": "stream",
     "text": [
      "name : western washington university\n",
      "address_1 : career services center\n",
      "address_2 : wwu 516 high st\n",
      "city : bellingham\n",
      "state_province : wa\n",
      "postal_code : 98225\n",
      "url : http://www.wwu.edu\n",
      "\n",
      "name : western washington university\n",
      "address_1 : career services center\n",
      "address_2 : wwu 516 high st\n",
      "city : bellingham\n",
      "state_province : wa\n",
      "postal_code : 98225\n",
      "url : http://www.wwu.edu\n",
      "\n",
      "11/10 positive, 0/10 negative\n",
      "Do these records refer to the same thing?\n",
      "(y)es / (n)o / (u)nsure / (f)inished / (p)revious\n"
     ]
    },
    {
     "name": "stdout",
     "output_type": "stream",
     "text": [
      "y\n"
     ]
    },
    {
     "name": "stderr",
     "output_type": "stream",
     "text": [
      "name : salvation army - bellingham\n",
      "address_1 : 1515 birchwood avenue\n",
      "address_2 : \n",
      "city : bellingham\n",
      "state_province : wa\n",
      "postal_code : 98225\n",
      "url : https://bellingham.salvationarmy.org\n",
      "\n",
      "name : salvation army - bellingham\n",
      "address_1 : 1515 birchwood aven\n",
      "address_2 : \n",
      "city : bellingham\n",
      "state_province : wa\n",
      "postal_code : 98225\n",
      "url : https://bellingham.salvationarmy.org\n",
      "\n",
      "12/10 positive, 0/10 negative\n",
      "Do these records refer to the same thing?\n",
      "(y)es / (n)o / (u)nsure / (f)inished / (p)revious\n"
     ]
    },
    {
     "name": "stdout",
     "output_type": "stream",
     "text": [
      "y\n"
     ]
    },
    {
     "name": "stderr",
     "output_type": "stream",
     "text": [
      "name : salvation army - bellingham\n",
      "address_1 : 1515 birchwood avenue\n",
      "address_2 : \n",
      "city : bellingham\n",
      "state_province : wa\n",
      "postal_code : 98225\n",
      "url : https://bellingham.salvationarmy.org\n",
      "\n",
      "name : salvation army - bellingham\n",
      "address_1 : 1515 birchwood ave\n",
      "address_2 : \n",
      "city : bellingham\n",
      "state_province : wa\n",
      "postal_code : 98225\n",
      "url : https://bellingham.salvationarmy.org\n",
      "\n",
      "13/10 positive, 0/10 negative\n",
      "Do these records refer to the same thing?\n",
      "(y)es / (n)o / (u)nsure / (f)inished / (p)revious\n"
     ]
    },
    {
     "name": "stdout",
     "output_type": "stream",
     "text": [
      "y\n"
     ]
    },
    {
     "name": "stderr",
     "output_type": "stream",
     "text": [
      "name : foothills food bank\n",
      "address_1 : 8255 kendall road\n",
      "address_2 : \n",
      "city : maple falls\n",
      "state_province : wa\n",
      "postal_code : 98266\n",
      "url : http://www.foothillsfoodbank.org\n",
      "\n",
      "name : foothills food bank\n",
      "address_1 : 8251 kendall road\n",
      "address_2 : \n",
      "city : sumas\n",
      "state_province : wa\n",
      "postal_code : 98295\n",
      "url : http://www.foothillsfoodbank.org\n",
      "\n",
      "14/10 positive, 0/10 negative\n",
      "Do these records refer to the same thing?\n",
      "(y)es / (n)o / (u)nsure / (f)inished / (p)revious\n"
     ]
    },
    {
     "name": "stdout",
     "output_type": "stream",
     "text": [
      "n\n"
     ]
    },
    {
     "name": "stderr",
     "output_type": "stream",
     "text": [
      "name : whatcom hospice\n",
      "address_1 : 3001 squalicum parkway\n",
      "address_2 : suite 11\n",
      "city : bellingham\n",
      "state_province : wa\n",
      "postal_code : 98225\n",
      "url : http://whatcomhospice.org\n",
      "\n",
      "name : whatcom hospice\n",
      "address_1 : 2901 squalicum parkway\n",
      "address_2 : \n",
      "city : bellingham\n",
      "state_province : wa\n",
      "postal_code : 98225\n",
      "url : http://whatcomhospice.org\n",
      "\n",
      "14/10 positive, 1/10 negative\n",
      "Do these records refer to the same thing?\n",
      "(y)es / (n)o / (u)nsure / (f)inished / (p)revious\n"
     ]
    },
    {
     "name": "stdout",
     "output_type": "stream",
     "text": [
      "n\n"
     ]
    },
    {
     "name": "stderr",
     "output_type": "stream",
     "text": [
      "name : whatcom hospice\n",
      "address_1 : 3001 squalicum parkway\n",
      "address_2 : suite 11\n",
      "city : bellingham\n",
      "state_province : wa\n",
      "postal_code : 98225\n",
      "url : http://whatcomhospice.org\n",
      "\n",
      "name : whatcom hospice\n",
      "address_1 : 2901 squalicum parkway\n",
      "address_2 : \n",
      "city : bellingham\n",
      "state_province : wa\n",
      "postal_code : 98225\n",
      "url : http://whatcomhospice.org\n",
      "\n",
      "14/10 positive, 2/10 negative\n",
      "Do these records refer to the same thing?\n",
      "(y)es / (n)o / (u)nsure / (f)inished / (p)revious\n"
     ]
    },
    {
     "name": "stdout",
     "output_type": "stream",
     "text": [
      "n\n"
     ]
    },
    {
     "name": "stderr",
     "output_type": "stream",
     "text": [
      "name : volunteer center of whatcom county\n",
      "address_1 : 1419 cornwall avenue\n",
      "address_2 : \n",
      "city : bellingham\n",
      "state_province : wa\n",
      "postal_code : 98225\n",
      "url : http://www.whatcomvolunteer.org\n",
      "\n",
      "name : volunteer center of whatcom county\n",
      "address_1 : 1111 cornwall avenue\n",
      "address_2 : \n",
      "city : bellingham\n",
      "state_province : wa\n",
      "postal_code : 98225\n",
      "url : http://www.whatcomvolunteer.org\n",
      "\n",
      "14/10 positive, 3/10 negative\n",
      "Do these records refer to the same thing?\n",
      "(y)es / (n)o / (u)nsure / (f)inished / (p)revious\n"
     ]
    },
    {
     "name": "stdout",
     "output_type": "stream",
     "text": [
      "n\n"
     ]
    },
    {
     "name": "stderr",
     "output_type": "stream",
     "text": [
      "name : volunteer center of whatcom county\n",
      "address_1 : 1419 cornwall avenue\n",
      "address_2 : \n",
      "city : bellingham\n",
      "state_province : wa\n",
      "postal_code : 98225\n",
      "url : http://www.whatcomvolunteer.org\n",
      "\n",
      "name : volunteer center of whatcom county\n",
      "address_1 : 1111 cornwall avenue\n",
      "address_2 : \n",
      "city : bellingham\n",
      "state_province : wa\n",
      "postal_code : 98225\n",
      "url : http://www.whatcomvolunteer.org\n",
      "\n",
      "14/10 positive, 4/10 negative\n",
      "Do these records refer to the same thing?\n",
      "(y)es / (n)o / (u)nsure / (f)inished / (p)revious\n"
     ]
    },
    {
     "name": "stdout",
     "output_type": "stream",
     "text": [
      "n\n"
     ]
    },
    {
     "name": "stderr",
     "output_type": "stream",
     "text": [
      "name : volunteer center of whatcom county\n",
      "address_1 : 1419 cornwall avenue\n",
      "address_2 : \n",
      "city : bellingham\n",
      "state_province : wa\n",
      "postal_code : 98225\n",
      "url : http://www.whatcomvolunteer.org\n",
      "\n",
      "name : volunteer center of whatcom county\n",
      "address_1 : 1111 cornwall avenue\n",
      "address_2 : \n",
      "city : bellingham\n",
      "state_province : wa\n",
      "postal_code : 98225\n",
      "url : http://www.whatcomvolunteer.org\n",
      "\n",
      "14/10 positive, 5/10 negative\n",
      "Do these records refer to the same thing?\n",
      "(y)es / (n)o / (u)nsure / (f)inished / (p)revious\n"
     ]
    },
    {
     "name": "stdout",
     "output_type": "stream",
     "text": [
      "n\n"
     ]
    },
    {
     "name": "stderr",
     "output_type": "stream",
     "text": [
      "name : lutheran counseling network\n",
      "address_1 : 2600 lakeway drive\n",
      "address_2 : christ the servant lutheran church\n",
      "city : bellingham\n",
      "state_province : wa\n",
      "postal_code : 98229\n",
      "url : http://www.lutherancounseling.net\n",
      "\n",
      "name : northwest regional council\n",
      "address_1 : 600 lakeway drive\n",
      "address_2 : suite 100\n",
      "city : bellingham\n",
      "state_province : wa\n",
      "postal_code : 98225\n",
      "url : http://www.nwrcwa.org\n",
      "\n",
      "14/10 positive, 6/10 negative\n",
      "Do these records refer to the same thing?\n",
      "(y)es / (n)o / (u)nsure / (f)inished / (p)revious\n"
     ]
    },
    {
     "name": "stdout",
     "output_type": "stream",
     "text": [
      "n\n"
     ]
    },
    {
     "name": "stderr",
     "output_type": "stream",
     "text": [
      "name : lutheran counseling network\n",
      "address_1 : 2600 lakeway drive\n",
      "address_2 : christ the servant lutheran church\n",
      "city : bellingham\n",
      "state_province : wa\n",
      "postal_code : 98229\n",
      "url : http://www.lutherancounseling.net\n",
      "\n",
      "name : northwest regional council\n",
      "address_1 : 600 lakeway drive\n",
      "address_2 : suite 100\n",
      "city : bellingham\n",
      "state_province : wa\n",
      "postal_code : 98225\n",
      "url : http://www.nwrcwa.org\n",
      "\n",
      "14/10 positive, 7/10 negative\n",
      "Do these records refer to the same thing?\n",
      "(y)es / (n)o / (u)nsure / (f)inished / (p)revious\n"
     ]
    },
    {
     "name": "stdout",
     "output_type": "stream",
     "text": [
      "n\n"
     ]
    },
    {
     "name": "stderr",
     "output_type": "stream",
     "text": [
      "name : volunteer center of whatcom county\n",
      "address_1 : 1419 cornwall avenue\n",
      "address_2 : \n",
      "city : bellingham\n",
      "state_province : wa\n",
      "postal_code : 98225\n",
      "url : http://www.whatcomvolunteer.org\n",
      "\n",
      "name : volunteer center of whatcom county\n",
      "address_1 : 1111 cornwall avenue\n",
      "address_2 : \n",
      "city : bellingham\n",
      "state_province : wa\n",
      "postal_code : 98225\n",
      "url : http://www.whatcomvolunteer.org\n",
      "\n",
      "14/10 positive, 8/10 negative\n",
      "Do these records refer to the same thing?\n",
      "(y)es / (n)o / (u)nsure / (f)inished / (p)revious\n"
     ]
    },
    {
     "name": "stdout",
     "output_type": "stream",
     "text": [
      "n\n"
     ]
    },
    {
     "name": "stderr",
     "output_type": "stream",
     "text": [
      "name : north sound cooling centers\n",
      "address_1 : 2095 main street\n",
      "address_2 : \n",
      "city : ferndale\n",
      "state_province : wa\n",
      "postal_code : 98248\n",
      "url : \n",
      "\n",
      "name : north sound cooling centers\n",
      "address_1 : 2125 main street\n",
      "address_2 : \n",
      "city : ferndale\n",
      "state_province : wa\n",
      "postal_code : 98248\n",
      "url : \n",
      "\n",
      "14/10 positive, 9/10 negative\n",
      "Do these records refer to the same thing?\n",
      "(y)es / (n)o / (u)nsure / (f)inished / (p)revious\n"
     ]
    },
    {
     "name": "stdout",
     "output_type": "stream",
     "text": [
      "n\n"
     ]
    },
    {
     "name": "stderr",
     "output_type": "stream",
     "text": [
      "name : pioneer human services\n",
      "address_1 : 2026 division street\n",
      "address_2 : \n",
      "city : bellingham\n",
      "state_province : wa\n",
      "postal_code : 98226\n",
      "url : http://pioneerhumanservices.org\n",
      "\n",
      "name : pioneer human services\n",
      "address_1 : 2030 division st\n",
      "address_2 : \n",
      "city : bellingham\n",
      "state_province : wa\n",
      "postal_code : 98226\n",
      "url : http://pioneerhumanservices.org\n",
      "\n",
      "14/10 positive, 10/10 negative\n",
      "Do these records refer to the same thing?\n",
      "(y)es / (n)o / (u)nsure / (f)inished / (p)revious\n"
     ]
    },
    {
     "name": "stdout",
     "output_type": "stream",
     "text": [
      "n\n"
     ]
    },
    {
     "name": "stderr",
     "output_type": "stream",
     "text": [
      "name : lummi nation\n",
      "address_1 : 2665 kwina road\n",
      "address_2 : \n",
      "city : bellingham\n",
      "state_province : wa\n",
      "postal_code : 98226\n",
      "url : https://www.lummi-nsn.gov\n",
      "\n",
      "name : lummi nation\n",
      "address_1 : 2616 kwina road\n",
      "address_2 : \n",
      "city : bellingham\n",
      "state_province : wa\n",
      "postal_code : 98226\n",
      "url : https://www.lummi-nsn.gov\n",
      "\n",
      "14/10 positive, 11/10 negative\n",
      "Do these records refer to the same thing?\n",
      "(y)es / (n)o / (u)nsure / (f)inished / (p)revious\n"
     ]
    },
    {
     "name": "stdout",
     "output_type": "stream",
     "text": [
      "y\n"
     ]
    },
    {
     "name": "stderr",
     "output_type": "stream",
     "text": [
      "name : salvation army - bellingham\n",
      "address_1 : 2912 northwest avenue\n",
      "address_2 : \n",
      "city : bellingham\n",
      "state_province : wa\n",
      "postal_code : 98225\n",
      "url : https://bellingham.salvationarmy.org\n",
      "\n",
      "name : salvation army (bellingham)\n",
      "address_1 : 2912 northwest ave\n",
      "address_2 : \n",
      "city : bellingham\n",
      "state_province : wa\n",
      "postal_code : 98225\n",
      "url : \n",
      "\n",
      "15/10 positive, 11/10 negative\n",
      "Do these records refer to the same thing?\n",
      "(y)es / (n)o / (u)nsure / (f)inished / (p)revious\n"
     ]
    },
    {
     "name": "stdout",
     "output_type": "stream",
     "text": [
      "y\n"
     ]
    },
    {
     "name": "stderr",
     "output_type": "stream",
     "text": [
      "name : planned parenthood\n",
      "address_1 : 1530 ellis st\n",
      "address_2 : \n",
      "city : bellingham\n",
      "state_province : wa\n",
      "postal_code : 98225\n",
      "url : http://ppgnhi.org\n",
      "\n",
      "name : planned parenthood (bellingham)\n",
      "address_1 : 1530 ellis st\n",
      "address_2 : \n",
      "city : bellingham\n",
      "state_province : wa\n",
      "postal_code : 98225\n",
      "url : https://www.plannedparenthood.org/health-center/washington/bellingham/98225/bellingham-health-center-2454-91780\n",
      "\n",
      "16/10 positive, 11/10 negative\n",
      "Do these records refer to the same thing?\n",
      "(y)es / (n)o / (u)nsure / (f)inished / (p)revious\n"
     ]
    },
    {
     "name": "stdout",
     "output_type": "stream",
     "text": [
      "y\n"
     ]
    },
    {
     "name": "stderr",
     "output_type": "stream",
     "text": [
      "name : ferndale community service cooperative\n",
      "address_1 : 5694 2nd avenue\n",
      "address_2 : \n",
      "city : ferndale\n",
      "state_province : wa\n",
      "postal_code : 98248\n",
      "url : http://www.ferndalecsc.org\n",
      "\n",
      "name : ferndale community service cooperative - resource center\n",
      "address_1 : 5694 2nd aven\n",
      "address_2 : \n",
      "city : ferndale\n",
      "state_province : wa\n",
      "postal_code : 98248\n",
      "url : \n",
      "\n",
      "17/10 positive, 11/10 negative\n",
      "Do these records refer to the same thing?\n",
      "(y)es / (n)o / (u)nsure / (f)inished / (p)revious\n"
     ]
    },
    {
     "name": "stdout",
     "output_type": "stream",
     "text": [
      "y\n"
     ]
    },
    {
     "name": "stderr",
     "output_type": "stream",
     "text": [
      "name : ferndale community service cooperative\n",
      "address_1 : 5694 2nd avenue\n",
      "address_2 : \n",
      "city : ferndale\n",
      "state_province : wa\n",
      "postal_code : 98248\n",
      "url : http://www.ferndalecsc.org\n",
      "\n",
      "name : ferndale community service cooperative - resource center\n",
      "address_1 : 5694 2nd ave\n",
      "address_2 : \n",
      "city : ferndale\n",
      "state_province : wa\n",
      "postal_code : 98248\n",
      "url : \n",
      "\n",
      "18/10 positive, 11/10 negative\n",
      "Do these records refer to the same thing?\n",
      "(y)es / (n)o / (u)nsure / (f)inished / (p)revious\n"
     ]
    },
    {
     "name": "stdout",
     "output_type": "stream",
     "text": [
      "y\n"
     ]
    },
    {
     "name": "stderr",
     "output_type": "stream",
     "text": [
      "name : whatcom county courts\n",
      "address_1 : 5694 2nd ave.\n",
      "address_2 : \n",
      "city : ferndale\n",
      "state_province : wa\n",
      "postal_code : 98248\n",
      "url : http://www.courts.wa.gov/court_dir/orgs/296.html\n",
      "\n",
      "name : ferndale community service cooperative - resource center\n",
      "address_1 : 5694 2nd ave\n",
      "address_2 : \n",
      "city : ferndale\n",
      "state_province : wa\n",
      "postal_code : 98248\n",
      "url : \n",
      "\n",
      "19/10 positive, 11/10 negative\n",
      "Do these records refer to the same thing?\n",
      "(y)es / (n)o / (u)nsure / (f)inished / (p)revious\n"
     ]
    },
    {
     "name": "stdout",
     "output_type": "stream",
     "text": [
      "n\n"
     ]
    },
    {
     "name": "stderr",
     "output_type": "stream",
     "text": [
      "name : whatcom county courts\n",
      "address_1 : 205 4th street\n",
      "address_2 : \n",
      "city : lynden\n",
      "state_province : wa\n",
      "postal_code : 98264\n",
      "url : http://www.courts.wa.gov/court_dir/orgs/296.html\n",
      "\n",
      "name : whatcom county courts\n",
      "address_1 : 300 4th street\n",
      "address_2 : \n",
      "city : lynden\n",
      "state_province : wa\n",
      "postal_code : 98264\n",
      "url : http://www.courts.wa.gov/court_dir/orgs/296.html\n",
      "\n",
      "19/10 positive, 12/10 negative\n",
      "Do these records refer to the same thing?\n",
      "(y)es / (n)o / (u)nsure / (f)inished / (p)revious\n"
     ]
    },
    {
     "name": "stdout",
     "output_type": "stream",
     "text": [
      "n\n"
     ]
    },
    {
     "name": "stderr",
     "output_type": "stream",
     "text": [
      "name : ideal option\n",
      "address_1 : 3800 byron ave\n",
      "address_2 : suite 122\n",
      "city : bellingham\n",
      "state_province : wa\n",
      "postal_code : 98229\n",
      "url : https://www.idealoption.com/\n",
      "\n",
      "name : veterans affairs puget sound health care system\n",
      "address_1 : 3800 byron ave\n",
      "address_2 : suite 124\n",
      "city : bellingham\n",
      "state_province : wa\n",
      "postal_code : 98229\n",
      "url : http://www.pugetsound.va.gov/\n",
      "\n",
      "19/10 positive, 13/10 negative\n",
      "Do these records refer to the same thing?\n",
      "(y)es / (n)o / (u)nsure / (f)inished / (p)revious\n"
     ]
    },
    {
     "name": "stdout",
     "output_type": "stream",
     "text": [
      "n\n"
     ]
    },
    {
     "name": "stderr",
     "output_type": "stream",
     "text": [
      "name : whatcom county\n",
      "address_1 : 311 grand ave\n",
      "address_2 : \n",
      "city : bellingham\n",
      "state_province : wa\n",
      "postal_code : 98225\n",
      "url : http://www.co.whatcom.wa.us\n",
      "\n",
      "name : whatcom unified emergency coordination center\n",
      "address_1 : 311 grand avenue\n",
      "address_2 : \n",
      "city : bellingham\n",
      "state_province : wa\n",
      "postal_code : 98225\n",
      "url : http://www.whatcomready.org\n",
      "\n",
      "19/10 positive, 14/10 negative\n",
      "Do these records refer to the same thing?\n",
      "(y)es / (n)o / (u)nsure / (f)inished / (p)revious\n"
     ]
    },
    {
     "name": "stdout",
     "output_type": "stream",
     "text": [
      "n\n"
     ]
    },
    {
     "name": "stderr",
     "output_type": "stream",
     "text": [
      "name : bellingham food bank\n",
      "address_1 : 4173 meridian street\n",
      "address_2 : \n",
      "city : bellingham\n",
      "state_province : wa\n",
      "postal_code : 98226\n",
      "url : http://bellinghamfoodbank.org\n",
      "\n",
      "name : satellite food bank at christ the king community church\n",
      "address_1 : 4173 meridian street\n",
      "address_2 : \n",
      "city : bellingham\n",
      "state_province : wa\n",
      "postal_code : 98226\n",
      "url : \n",
      "\n",
      "19/10 positive, 15/10 negative\n",
      "Do these records refer to the same thing?\n",
      "(y)es / (n)o / (u)nsure / (f)inished / (p)revious\n"
     ]
    },
    {
     "name": "stdout",
     "output_type": "stream",
     "text": [
      "p\n"
     ]
    },
    {
     "name": "stderr",
     "output_type": "stream",
     "text": [
      "name : whatcom county\n",
      "address_1 : 311 grand ave\n",
      "address_2 : \n",
      "city : bellingham\n",
      "state_province : wa\n",
      "postal_code : 98225\n",
      "url : http://www.co.whatcom.wa.us\n",
      "\n",
      "name : whatcom unified emergency coordination center\n",
      "address_1 : 311 grand avenue\n",
      "address_2 : \n",
      "city : bellingham\n",
      "state_province : wa\n",
      "postal_code : 98225\n",
      "url : http://www.whatcomready.org\n",
      "\n",
      "19/10 positive, 14/10 negative\n",
      "Do these records refer to the same thing?\n",
      "(y)es / (n)o / (u)nsure / (f)inished\n"
     ]
    },
    {
     "name": "stdout",
     "output_type": "stream",
     "text": [
      "n\n"
     ]
    },
    {
     "name": "stderr",
     "output_type": "stream",
     "text": [
      "name : bellingham food bank\n",
      "address_1 : 4173 meridian street\n",
      "address_2 : \n",
      "city : bellingham\n",
      "state_province : wa\n",
      "postal_code : 98226\n",
      "url : http://bellinghamfoodbank.org\n",
      "\n",
      "name : satellite food bank at christ the king community church\n",
      "address_1 : 4173 meridian street\n",
      "address_2 : \n",
      "city : bellingham\n",
      "state_province : wa\n",
      "postal_code : 98226\n",
      "url : \n",
      "\n",
      "19/10 positive, 15/10 negative\n",
      "Do these records refer to the same thing?\n",
      "(y)es / (n)o / (u)nsure / (f)inished / (p)revious\n"
     ]
    },
    {
     "name": "stdout",
     "output_type": "stream",
     "text": [
      "u\n"
     ]
    },
    {
     "name": "stderr",
     "output_type": "stream",
     "text": [
      "name : blaine community/senior center\n",
      "address_1 : 763 g st.\n",
      "address_2 : \n",
      "city : blaine\n",
      "state_province : wa\n",
      "postal_code : 98230\n",
      "url : https://www.blaineseniorcenter.org\n",
      "\n",
      "name : blaine community/senior center\n",
      "address_1 : 763 g str.\n",
      "address_2 : \n",
      "city : blaine\n",
      "state_province : wa\n",
      "postal_code : 98230\n",
      "url : https://www.blaineseniorcenter.org\n",
      "\n",
      "19/10 positive, 15/10 negative\n",
      "Do these records refer to the same thing?\n",
      "(y)es / (n)o / (u)nsure / (f)inished / (p)revious\n"
     ]
    },
    {
     "name": "stdout",
     "output_type": "stream",
     "text": [
      "y\n"
     ]
    },
    {
     "name": "stderr",
     "output_type": "stream",
     "text": [
      "name : nooksack valley school district\n",
      "address_1 : 3326 east badger road\n",
      "address_2 : \n",
      "city : everson\n",
      "state_province : wa\n",
      "postal_code : 98247\n",
      "url : https://www.nv.k12.wa.us\n",
      "\n",
      "name : nooksack valley school\n",
      "address_1 : 3326 e badger rd\n",
      "address_2 : \n",
      "city : everson\n",
      "state_province : wa\n",
      "postal_code : 98247\n",
      "url : \n",
      "\n",
      "21/10 positive, 16/10 negative\n",
      "Do these records refer to the same thing?\n",
      "(y)es / (n)o / (u)nsure / (f)inished / (p)revious\n"
     ]
    },
    {
     "name": "stdout",
     "output_type": "stream",
     "text": [
      "y\n"
     ]
    },
    {
     "name": "stderr",
     "output_type": "stream",
     "text": [
      "name : boys and girls clubs of whatcom county\n",
      "address_1 : 8800 bender road\n",
      "address_2 : \n",
      "city : lynden\n",
      "state_province : wa\n",
      "postal_code : 98264\n",
      "url : http://www.whatcomclubs.org\n",
      "\n",
      "name : boys and girls clubs of whatcom county\n",
      "address_1 : 8800 bender rd.\n",
      "address_2 : \n",
      "city : lynden\n",
      "state_province : wa\n",
      "postal_code : 98264\n",
      "url : http://www.whatcomclubs.org\n",
      "\n",
      "22/10 positive, 16/10 negative\n",
      "Do these records refer to the same thing?\n",
      "(y)es / (n)o / (u)nsure / (f)inished / (p)revious\n"
     ]
    },
    {
     "name": "stdout",
     "output_type": "stream",
     "text": [
      "y\n"
     ]
    },
    {
     "name": "stderr",
     "output_type": "stream",
     "text": [
      "name : north sound cooling centers\n",
      "address_1 : 2095 main str\n",
      "address_2 : \n",
      "city : ferndale\n",
      "state_province : wa\n",
      "postal_code : 98248\n",
      "url : \n",
      "\n",
      "name : north sound cooling centers\n",
      "address_1 : 2125 main street\n",
      "address_2 : \n",
      "city : ferndale\n",
      "state_province : wa\n",
      "postal_code : 98248\n",
      "url : \n",
      "\n",
      "23/10 positive, 16/10 negative\n",
      "Do these records refer to the same thing?\n",
      "(y)es / (n)o / (u)nsure / (f)inished / (p)revious\n"
     ]
    },
    {
     "name": "stdout",
     "output_type": "stream",
     "text": [
      "y\n"
     ]
    },
    {
     "name": "stderr",
     "output_type": "stream",
     "text": [
      "name : sea mar community health centers\n",
      "address_1 : 1603 east illinois street\n",
      "address_2 : \n",
      "city : bellingham\n",
      "state_province : wa\n",
      "postal_code : 98226\n",
      "url : https://www.seamar.org/\n",
      "\n",
      "name : sea mar community health centers\n",
      "address_1 : 1603 e illinois\n",
      "address_2 : \n",
      "city : bellingham\n",
      "state_province : wa\n",
      "postal_code : 98226\n",
      "url : https://www.seamar.org/\n",
      "\n",
      "24/10 positive, 16/10 negative\n",
      "Do these records refer to the same thing?\n",
      "(y)es / (n)o / (u)nsure / (f)inished / (p)revious\n"
     ]
    },
    {
     "name": "stdout",
     "output_type": "stream",
     "text": [
      "y\n"
     ]
    },
    {
     "name": "stderr",
     "output_type": "stream",
     "text": [
      "name : brigid collins family support center\n",
      "address_1 : 1231 n garden st suite 200\n",
      "address_2 : \n",
      "city : bellingham\n",
      "state_province : wa\n",
      "postal_code : 98225\n",
      "url : http://www.brigidcollins.org\n",
      "\n",
      "name : brigid collins family support center (bellingham)\n",
      "address_1 : 1231 n garden st,#200\n",
      "address_2 : \n",
      "city : bellingham\n",
      "state_province : wa\n",
      "postal_code : 98225\n",
      "url : \n",
      "\n",
      "25/10 positive, 16/10 negative\n",
      "Do these records refer to the same thing?\n",
      "(y)es / (n)o / (u)nsure / (f)inished / (p)revious\n"
     ]
    },
    {
     "name": "stdout",
     "output_type": "stream",
     "text": [
      "p\n"
     ]
    },
    {
     "name": "stderr",
     "output_type": "stream",
     "text": [
      "name : sea mar community health centers\n",
      "address_1 : 1603 east illinois street\n",
      "address_2 : \n",
      "city : bellingham\n",
      "state_province : wa\n",
      "postal_code : 98226\n",
      "url : https://www.seamar.org/\n",
      "\n",
      "name : sea mar community health centers\n",
      "address_1 : 1603 e illinois\n",
      "address_2 : \n",
      "city : bellingham\n",
      "state_province : wa\n",
      "postal_code : 98226\n",
      "url : https://www.seamar.org/\n",
      "\n",
      "24/10 positive, 16/10 negative\n",
      "Do these records refer to the same thing?\n",
      "(y)es / (n)o / (u)nsure / (f)inished\n"
     ]
    },
    {
     "name": "stdout",
     "output_type": "stream",
     "text": [
      "p\n"
     ]
    },
    {
     "name": "stderr",
     "output_type": "stream",
     "text": [
      "(y)es / (n)o / (u)nsure / (f)inished\n"
     ]
    },
    {
     "name": "stdout",
     "output_type": "stream",
     "text": [
      "p\n"
     ]
    },
    {
     "name": "stderr",
     "output_type": "stream",
     "text": [
      "(y)es / (n)o / (u)nsure / (f)inished\n"
     ]
    },
    {
     "name": "stdout",
     "output_type": "stream",
     "text": [
      "y\n"
     ]
    },
    {
     "name": "stderr",
     "output_type": "stream",
     "text": [
      "name : brigid collins family support center\n",
      "address_1 : 1231 n garden st suite 200\n",
      "address_2 : \n",
      "city : bellingham\n",
      "state_province : wa\n",
      "postal_code : 98225\n",
      "url : http://www.brigidcollins.org\n",
      "\n",
      "name : brigid collins family support center (bellingham)\n",
      "address_1 : 1231 n garden st,#200\n",
      "address_2 : \n",
      "city : bellingham\n",
      "state_province : wa\n",
      "postal_code : 98225\n",
      "url : \n",
      "\n",
      "25/10 positive, 16/10 negative\n",
      "Do these records refer to the same thing?\n",
      "(y)es / (n)o / (u)nsure / (f)inished / (p)revious\n"
     ]
    },
    {
     "name": "stdout",
     "output_type": "stream",
     "text": [
      "y\n"
     ]
    },
    {
     "name": "stderr",
     "output_type": "stream",
     "text": [
      "name : arc of whatcom county\n",
      "address_1 : 2602 mcleod road\n",
      "address_2 : \n",
      "city : bellingham\n",
      "state_province : wa\n",
      "postal_code : 98225\n",
      "url : http://www.arcwhatcom.org\n",
      "\n",
      "name : arc of whatcom county\n",
      "address_1 : 2602 mcleod rd\n",
      "address_2 : \n",
      "city : bellingham\n",
      "state_province : wa\n",
      "postal_code : 98225\n",
      "url : \n",
      "\n",
      "26/10 positive, 16/10 negative\n",
      "Do these records refer to the same thing?\n",
      "(y)es / (n)o / (u)nsure / (f)inished / (p)revious\n"
     ]
    },
    {
     "name": "stdout",
     "output_type": "stream",
     "text": [
      "y\n"
     ]
    },
    {
     "name": "stderr",
     "output_type": "stream",
     "text": [
      "name : arc of whatcom county\n",
      "address_1 : 2602 mcleod road\n",
      "address_2 : \n",
      "city : bellingham\n",
      "state_province : wa\n",
      "postal_code : 98225\n",
      "url : http://www.arcwhatcom.org\n",
      "\n",
      "name : arc of whatcom county\n",
      "address_1 : 2602 mcleod rd\n",
      "address_2 : \n",
      "city : bellingham\n",
      "state_province : wa\n",
      "postal_code : 98225\n",
      "url : \n",
      "\n",
      "27/10 positive, 16/10 negative\n",
      "Do these records refer to the same thing?\n",
      "(y)es / (n)o / (u)nsure / (f)inished / (p)revious\n"
     ]
    },
    {
     "name": "stdout",
     "output_type": "stream",
     "text": [
      "y\n"
     ]
    },
    {
     "name": "stderr",
     "output_type": "stream",
     "text": [
      "name : old town christian ministries\n",
      "address_1 : 1704 north state street\n",
      "address_2 : \n",
      "city : bellingham\n",
      "state_province : wa\n",
      "postal_code : 98225\n",
      "url : \n",
      "\n",
      "name : old town christian ministries\n",
      "address_1 : 1704 north state str\n",
      "address_2 : \n",
      "city : bellingham\n",
      "state_province : wa\n",
      "postal_code : 98225\n",
      "url : \n",
      "\n",
      "28/10 positive, 16/10 negative\n",
      "Do these records refer to the same thing?\n",
      "(y)es / (n)o / (u)nsure / (f)inished / (p)revious\n"
     ]
    },
    {
     "name": "stdout",
     "output_type": "stream",
     "text": [
      "y\n"
     ]
    },
    {
     "name": "stderr",
     "output_type": "stream",
     "text": [
      "name : compass health (bellingham - mcleod rd)\n",
      "address_1 : 3645 e mcleod rd\n",
      "address_2 : \n",
      "city : bellingham\n",
      "state_province : wa\n",
      "postal_code : 98226\n",
      "url : \n",
      "\n",
      "name : compass health (bellingham - mcleod rd)\n",
      "address_1 : 3645 e mcleod road\n",
      "address_2 : \n",
      "city : bellingham\n",
      "state_province : wa\n",
      "postal_code : 98226\n",
      "url : \n",
      "\n",
      "29/10 positive, 16/10 negative\n",
      "Do these records refer to the same thing?\n",
      "(y)es / (n)o / (u)nsure / (f)inished / (p)revious\n"
     ]
    },
    {
     "name": "stdout",
     "output_type": "stream",
     "text": [
      "y\n"
     ]
    },
    {
     "name": "stderr",
     "output_type": "stream",
     "text": [
      "name : north sound cooling centers\n",
      "address_1 : 2095 main street\n",
      "address_2 : \n",
      "city : ferndale\n",
      "state_province : wa\n",
      "postal_code : 98248\n",
      "url : \n",
      "\n",
      "name : north sound cooling centers\n",
      "address_1 : 2125 main st.\n",
      "address_2 : \n",
      "city : ferndale\n",
      "state_province : wa\n",
      "postal_code : 98248\n",
      "url : \n",
      "\n",
      "30/10 positive, 16/10 negative\n",
      "Do these records refer to the same thing?\n",
      "(y)es / (n)o / (u)nsure / (f)inished / (p)revious\n"
     ]
    },
    {
     "name": "stdout",
     "output_type": "stream",
     "text": [
      "u\n"
     ]
    },
    {
     "name": "stderr",
     "output_type": "stream",
     "text": [
      "name : north sound cooling centers\n",
      "address_1 : 2095 main str\n",
      "address_2 : \n",
      "city : ferndale\n",
      "state_province : wa\n",
      "postal_code : 98248\n",
      "url : \n",
      "\n",
      "name : north sound cooling centers\n",
      "address_1 : 2125 main st.\n",
      "address_2 : \n",
      "city : ferndale\n",
      "state_province : wa\n",
      "postal_code : 98248\n",
      "url : \n",
      "\n",
      "30/10 positive, 16/10 negative\n",
      "Do these records refer to the same thing?\n",
      "(y)es / (n)o / (u)nsure / (f)inished / (p)revious\n"
     ]
    },
    {
     "name": "stdout",
     "output_type": "stream",
     "text": [
      "u\n"
     ]
    },
    {
     "name": "stderr",
     "output_type": "stream",
     "text": [
      "name : sea mar community health centers\n",
      "address_1 : 1764 iowa street\n",
      "address_2 : \n",
      "city : bellingham\n",
      "state_province : wa\n",
      "postal_code : 98229\n",
      "url : https://www.seamar.org/\n",
      "\n",
      "name : sea mar community health center (downtown bellingham wic)\n",
      "address_1 : 1764 iowa st\n",
      "address_2 : \n",
      "city : bellingham\n",
      "state_province : wa\n",
      "postal_code : 98229\n",
      "url : \n",
      "\n",
      "31/10 positive, 17/10 negative\n",
      "Do these records refer to the same thing?\n",
      "(y)es / (n)o / (u)nsure / (f)inished / (p)revious\n"
     ]
    },
    {
     "name": "stdout",
     "output_type": "stream",
     "text": [
      "y\n"
     ]
    },
    {
     "name": "stderr",
     "output_type": "stream",
     "text": [
      "name : sea mar community health centers\n",
      "address_1 : 1764 iowa street\n",
      "address_2 : \n",
      "city : bellingham\n",
      "state_province : wa\n",
      "postal_code : 98229\n",
      "url : https://www.seamar.org/\n",
      "\n",
      "name : sea mar community health center (downtown bellingham wic)\n",
      "address_1 : 1764 iowa st\n",
      "address_2 : \n",
      "city : bellingham\n",
      "state_province : wa\n",
      "postal_code : 98229\n",
      "url : \n",
      "\n",
      "33/10 positive, 18/10 negative\n",
      "Do these records refer to the same thing?\n",
      "(y)es / (n)o / (u)nsure / (f)inished / (p)revious\n"
     ]
    },
    {
     "name": "stdout",
     "output_type": "stream",
     "text": [
      "y\n"
     ]
    },
    {
     "name": "stderr",
     "output_type": "stream",
     "text": [
      "name : sea mar community health centers\n",
      "address_1 : 4455 cordata parkway\n",
      "address_2 : \n",
      "city : bellingham\n",
      "state_province : wa\n",
      "postal_code : 98226\n",
      "url : https://www.seamar.org/\n",
      "\n",
      "name : sea mar community health center (bellingham)\n",
      "address_1 : 4455 cordata pkwy\n",
      "address_2 : \n",
      "city : bellingham\n",
      "state_province : wa\n",
      "postal_code : 98226\n",
      "url : https://www.seamar.org/whatcom-medical-bellingham.html\n",
      "\n",
      "34/10 positive, 18/10 negative\n",
      "Do these records refer to the same thing?\n",
      "(y)es / (n)o / (u)nsure / (f)inished / (p)revious\n"
     ]
    },
    {
     "name": "stdout",
     "output_type": "stream",
     "text": [
      "y\n"
     ]
    },
    {
     "name": "stderr",
     "output_type": "stream",
     "text": [
      "name : sea mar community health centers\n",
      "address_1 : 4455 cordata parkway\n",
      "address_2 : \n",
      "city : bellingham\n",
      "state_province : wa\n",
      "postal_code : 98226\n",
      "url : https://www.seamar.org/\n",
      "\n",
      "name : sea mar community health center (bellingham)\n",
      "address_1 : 4455 cordata pkwy\n",
      "address_2 : \n",
      "city : bellingham\n",
      "state_province : wa\n",
      "postal_code : 98226\n",
      "url : https://www.seamar.org/whatcom-medical-bellingham.html\n",
      "\n",
      "35/10 positive, 18/10 negative\n",
      "Do these records refer to the same thing?\n",
      "(y)es / (n)o / (u)nsure / (f)inished / (p)revious\n"
     ]
    },
    {
     "name": "stdout",
     "output_type": "stream",
     "text": [
      "y\n"
     ]
    },
    {
     "name": "stderr",
     "output_type": "stream",
     "text": [
      "name : western washington university\n",
      "address_1 : 516 high street\n",
      "address_2 : room 540\n",
      "city : bellingham\n",
      "state_province : wa\n",
      "postal_code : 98225\n",
      "url : http://www.wwu.edu\n",
      "\n",
      "name : western washington university\n",
      "address_1 : 516 high str.\n",
      "address_2 : \n",
      "city : bellingham\n",
      "state_province : wa\n",
      "postal_code : 98225\n",
      "url : http://www.wwu.edu\n",
      "\n",
      "36/10 positive, 18/10 negative\n",
      "Do these records refer to the same thing?\n",
      "(y)es / (n)o / (u)nsure / (f)inished / (p)revious\n"
     ]
    },
    {
     "name": "stdout",
     "output_type": "stream",
     "text": [
      "y\n"
     ]
    },
    {
     "name": "stderr",
     "output_type": "stream",
     "text": [
      "name : western washington university\n",
      "address_1 : 516 high street\n",
      "address_2 : \n",
      "city : bellingham\n",
      "state_province : wa\n",
      "postal_code : 98225\n",
      "url : http://www.wwu.edu\n",
      "\n",
      "name : western washington university\n",
      "address_1 : 516 high str.\n",
      "address_2 : old main 265 ms 9006\n",
      "city : bellingham\n",
      "state_province : wa\n",
      "postal_code : 98225\n",
      "url : http://www.wwu.edu\n",
      "\n",
      "37/10 positive, 18/10 negative\n",
      "Do these records refer to the same thing?\n",
      "(y)es / (n)o / (u)nsure / (f)inished / (p)revious\n"
     ]
    },
    {
     "name": "stdout",
     "output_type": "stream",
     "text": [
      "y\n"
     ]
    },
    {
     "name": "stderr",
     "output_type": "stream",
     "text": [
      "name : united way of whatcom county\n",
      "address_1 : 1500 cornwall ave. ste 203\n",
      "address_2 : \n",
      "city : bellingham\n",
      "state_province : wa\n",
      "postal_code : 98225\n",
      "url : http://www.unitedwaywhatcom.org\n",
      "\n",
      "name : united way of whatcom county\n",
      "address_1 : 1500 cornwall avenue\n",
      "address_2 : suite 203\n",
      "city : bellingham\n",
      "state_province : wa\n",
      "postal_code : 98225\n",
      "url : http://www.unitedwaywhatcom.org\n",
      "\n",
      "38/10 positive, 18/10 negative\n",
      "Do these records refer to the same thing?\n",
      "(y)es / (n)o / (u)nsure / (f)inished / (p)revious\n"
     ]
    },
    {
     "name": "stdout",
     "output_type": "stream",
     "text": [
      "y\n"
     ]
    },
    {
     "name": "stderr",
     "output_type": "stream",
     "text": [
      "name : lummi nation\n",
      "address_1 : 2830 kwina rd\n",
      "address_2 : \n",
      "city : bellingham\n",
      "state_province : wa\n",
      "postal_code : 98226\n",
      "url : https://www.lummi-nsn.gov\n",
      "\n",
      "name : lummi nation\n",
      "address_1 : 2592 kwina road\n",
      "address_2 : \n",
      "city : bellingham\n",
      "state_province : wa\n",
      "postal_code : 98226\n",
      "url : https://www.lummi-nsn.gov\n",
      "\n",
      "39/10 positive, 18/10 negative\n",
      "Do these records refer to the same thing?\n",
      "(y)es / (n)o / (u)nsure / (f)inished / (p)revious\n"
     ]
    },
    {
     "name": "stdout",
     "output_type": "stream",
     "text": [
      "u\n"
     ]
    },
    {
     "name": "stderr",
     "output_type": "stream",
     "text": [
      "name : new way ministries\n",
      "address_1 : 205 south british columbia avenue\n",
      "address_2 : \n",
      "city : lynden\n",
      "state_province : wa\n",
      "postal_code : 98264\n",
      "url : http://www.christianhopeassociation.org\n",
      "\n",
      "name : new way ministries\n",
      "address_1 : 205 south bc avenue\n",
      "address_2 : suite 105\n",
      "city : lynden\n",
      "state_province : wa\n",
      "postal_code : 98264\n",
      "url : http://www.christianhopeassociation.org\n",
      "\n",
      "39/10 positive, 18/10 negative\n",
      "Do these records refer to the same thing?\n",
      "(y)es / (n)o / (u)nsure / (f)inished / (p)revious\n"
     ]
    },
    {
     "name": "stdout",
     "output_type": "stream",
     "text": [
      "y\n"
     ]
    },
    {
     "name": "stderr",
     "output_type": "stream",
     "text": [
      "name : foothills food bank\n",
      "address_1 : 8255 kendall road\n",
      "address_2 : \n",
      "city : maple falls\n",
      "state_province : wa\n",
      "postal_code : 98266\n",
      "url : http://www.foothillsfoodbank.org\n",
      "\n",
      "name : foothills food bank (saint peter’s church)\n",
      "address_1 : east whatcom regional resource center,8255 kendal road\n",
      "address_2 : \n",
      "city : maple falls\n",
      "state_province : wa\n",
      "postal_code : 98266\n",
      "url : \n",
      "\n",
      "41/10 positive, 19/10 negative\n",
      "Do these records refer to the same thing?\n",
      "(y)es / (n)o / (u)nsure / (f)inished / (p)revious\n"
     ]
    },
    {
     "name": "stdout",
     "output_type": "stream",
     "text": [
      "y\n"
     ]
    },
    {
     "name": "stderr",
     "output_type": "stream",
     "text": [
      "name : new way ministries\n",
      "address_1 : 205 south british columbia ave\n",
      "address_2 : \n",
      "city : lynden\n",
      "state_province : wa\n",
      "postal_code : 98264\n",
      "url : http://www.christianhopeassociation.org\n",
      "\n",
      "name : new way ministries\n",
      "address_1 : 205 south bc ave.\n",
      "address_2 : suite 105\n",
      "city : lynden\n",
      "state_province : wa\n",
      "postal_code : 98264\n",
      "url : http://www.christianhopeassociation.org\n",
      "\n",
      "42/10 positive, 19/10 negative\n",
      "Do these records refer to the same thing?\n",
      "(y)es / (n)o / (u)nsure / (f)inished / (p)revious\n"
     ]
    },
    {
     "name": "stdout",
     "output_type": "stream",
     "text": [
      "y\n"
     ]
    },
    {
     "name": "stderr",
     "output_type": "stream",
     "text": [
      "name : sea mar community health centers\n",
      "address_1 : 1603 east illinois street\n",
      "address_2 : \n",
      "city : bellingham\n",
      "state_province : wa\n",
      "postal_code : 98226\n",
      "url : https://www.seamar.org/\n",
      "\n",
      "name : sea mar community health center (downtown bellingham wic)\n",
      "address_1 : 1764 iowa st\n",
      "address_2 : \n",
      "city : bellingham\n",
      "state_province : wa\n",
      "postal_code : 98229\n",
      "url : \n",
      "\n",
      "43/10 positive, 19/10 negative\n",
      "Do these records refer to the same thing?\n",
      "(y)es / (n)o / (u)nsure / (f)inished / (p)revious\n"
     ]
    },
    {
     "name": "stdout",
     "output_type": "stream",
     "text": [
      "n\n"
     ]
    },
    {
     "name": "stderr",
     "output_type": "stream",
     "text": [
      "name : washington state department of children, youth & families' child welfare system\n",
      "address_1 : 1720 ellis st., suite 100\n",
      "address_2 : \n",
      "city : bellingham\n",
      "state_province : wa\n",
      "postal_code : 98225\n",
      "url : https://www.dcyf.wa.gov\n",
      "\n",
      "name : usda\n",
      "address_1 : 1701 ellis street\n",
      "address_2 : suite 221\n",
      "city : bellingham\n",
      "state_province : wa\n",
      "postal_code : 98225\n",
      "url : \n",
      "\n",
      "43/10 positive, 20/10 negative\n",
      "Do these records refer to the same thing?\n",
      "(y)es / (n)o / (u)nsure / (f)inished / (p)revious\n"
     ]
    },
    {
     "name": "stdout",
     "output_type": "stream",
     "text": [
      "n\n"
     ]
    },
    {
     "name": "stderr",
     "output_type": "stream",
     "text": [
      "name : catholic community services of western washington in whatcom county\n",
      "address_1 : 1133 railroad avenue\n",
      "address_2 : suite 100\n",
      "city : bellingham\n",
      "state_province : wa\n",
      "postal_code : 98225\n",
      "url : http://www.ccsww.org\n",
      "\n",
      "name : catholic community services (whatcom county)\n",
      "address_1 : 1133 railroad ave,# 100\n",
      "address_2 : \n",
      "city : bellingham\n",
      "state_province : wa\n",
      "postal_code : 98225\n",
      "url : \n",
      "\n",
      "43/10 positive, 21/10 negative\n",
      "Do these records refer to the same thing?\n",
      "(y)es / (n)o / (u)nsure / (f)inished / (p)revious\n"
     ]
    },
    {
     "name": "stdout",
     "output_type": "stream",
     "text": [
      "y\n"
     ]
    },
    {
     "name": "stderr",
     "output_type": "stream",
     "text": [
      "name : ferndale school district\n",
      "address_1 : po box 698\n",
      "address_2 : \n",
      "city : ferndale\n",
      "state_province : wa\n",
      "postal_code : 98248\n",
      "url : http://www.ferndalesd.org\n",
      "\n",
      "name : ferndale school district\n",
      "address_1 : early learning center,5275 nw dr,#26\n",
      "address_2 : \n",
      "city : ferndale\n",
      "state_province : wa\n",
      "postal_code : 98248\n",
      "url : \n",
      "\n",
      "44/10 positive, 21/10 negative\n",
      "Do these records refer to the same thing?\n",
      "(y)es / (n)o / (u)nsure / (f)inished / (p)revious\n"
     ]
    },
    {
     "name": "stdout",
     "output_type": "stream",
     "text": [
      "n\n"
     ]
    },
    {
     "name": "stderr",
     "output_type": "stream",
     "text": [
      "name : new way ministries\n",
      "address_1 : 205 south british columbia ave\n",
      "address_2 : \n",
      "city : lynden\n",
      "state_province : wa\n",
      "postal_code : 98264\n",
      "url : http://www.christianhopeassociation.org\n",
      "\n",
      "name : new way ministries\n",
      "address_1 : 205 south bc avenue\n",
      "address_2 : suite 105\n",
      "city : lynden\n",
      "state_province : wa\n",
      "postal_code : 98264\n",
      "url : http://www.christianhopeassociation.org\n",
      "\n",
      "44/10 positive, 22/10 negative\n",
      "Do these records refer to the same thing?\n",
      "(y)es / (n)o / (u)nsure / (f)inished / (p)revious\n"
     ]
    },
    {
     "name": "stdout",
     "output_type": "stream",
     "text": [
      "y\n"
     ]
    },
    {
     "name": "stderr",
     "output_type": "stream",
     "text": [
      "name : lummi nation\n",
      "address_1 : 2616 kwina road\n",
      "address_2 : \n",
      "city : bellingham\n",
      "state_province : wa\n",
      "postal_code : 98226\n",
      "url : https://www.lummi-nsn.gov\n",
      "\n",
      "name : lummi nation\n",
      "address_1 : 2830 kwina rd\n",
      "address_2 : \n",
      "city : bellingham\n",
      "state_province : wa\n",
      "postal_code : 98226\n",
      "url : https://www.lummi-nsn.gov\n",
      "\n",
      "45/10 positive, 22/10 negative\n",
      "Do these records refer to the same thing?\n",
      "(y)es / (n)o / (u)nsure / (f)inished / (p)revious\n"
     ]
    },
    {
     "name": "stdout",
     "output_type": "stream",
     "text": [
      "u\n"
     ]
    },
    {
     "name": "stderr",
     "output_type": "stream",
     "text": [
      "name : lummi nation\n",
      "address_1 : 2616 kwina road\n",
      "address_2 : \n",
      "city : bellingham\n",
      "state_province : wa\n",
      "postal_code : 98226\n",
      "url : https://www.lummi-nsn.gov\n",
      "\n",
      "name : lummi nation\n",
      "address_1 : 2830 kwina rd\n",
      "address_2 : \n",
      "city : bellingham\n",
      "state_province : wa\n",
      "postal_code : 98226\n",
      "url : https://www.lummi-nsn.gov\n",
      "\n",
      "45/10 positive, 22/10 negative\n",
      "Do these records refer to the same thing?\n",
      "(y)es / (n)o / (u)nsure / (f)inished / (p)revious\n"
     ]
    },
    {
     "name": "stdout",
     "output_type": "stream",
     "text": [
      "u\n"
     ]
    },
    {
     "name": "stderr",
     "output_type": "stream",
     "text": [
      "name : lummi nation\n",
      "address_1 : 2665 kwina road\n",
      "address_2 : \n",
      "city : bellingham\n",
      "state_province : wa\n",
      "postal_code : 98226\n",
      "url : https://www.lummi-nsn.gov\n",
      "\n",
      "name : lummi nation\n",
      "address_1 : 2830 kwina rd\n",
      "address_2 : \n",
      "city : bellingham\n",
      "state_province : wa\n",
      "postal_code : 98226\n",
      "url : https://www.lummi-nsn.gov\n",
      "\n",
      "46/10 positive, 23/10 negative\n",
      "Do these records refer to the same thing?\n",
      "(y)es / (n)o / (u)nsure / (f)inished / (p)revious\n"
     ]
    },
    {
     "name": "stdout",
     "output_type": "stream",
     "text": [
      "u\n"
     ]
    },
    {
     "name": "stderr",
     "output_type": "stream",
     "text": [
      "name : whatcom county\n",
      "address_1 : 311 grand avenue\n",
      "address_2 : \n",
      "city : bellingham\n",
      "state_province : wa\n",
      "postal_code : 98225\n",
      "url : http://www.co.whatcom.wa.us\n",
      "\n",
      "name : whatcom unified emergency coordination center\n",
      "address_1 : 311 grand avenue\n",
      "address_2 : \n",
      "city : bellingham\n",
      "state_province : wa\n",
      "postal_code : 98225\n",
      "url : http://www.whatcomready.org\n",
      "\n",
      "47/10 positive, 24/10 negative\n",
      "Do these records refer to the same thing?\n",
      "(y)es / (n)o / (u)nsure / (f)inished / (p)revious\n"
     ]
    },
    {
     "name": "stdout",
     "output_type": "stream",
     "text": [
      "n\n"
     ]
    },
    {
     "name": "stderr",
     "output_type": "stream",
     "text": [
      "name : northwest youth services\n",
      "address_1 : 1020 north state str\n",
      "address_2 : \n",
      "city : bellingham\n",
      "state_province : wa\n",
      "postal_code : 98225\n",
      "url : http://www.nwys.org/\n",
      "\n",
      "name : northwest youth services\n",
      "address_1 : 1020 n. state street\n",
      "address_2 : \n",
      "city : bellingham\n",
      "state_province : wa\n",
      "postal_code : 98225\n",
      "url : http://www.nwys.org/\n",
      "\n",
      "48/10 positive, 26/10 negative\n",
      "Do these records refer to the same thing?\n",
      "(y)es / (n)o / (u)nsure / (f)inished / (p)revious\n"
     ]
    },
    {
     "name": "stdout",
     "output_type": "stream",
     "text": [
      "y\n"
     ]
    },
    {
     "name": "stderr",
     "output_type": "stream",
     "text": [
      "name : north sound cooling centers\n",
      "address_1 : 7506 kendall road\n",
      "address_2 : \n",
      "city : maple falls\n",
      "state_province : wa\n",
      "postal_code : 98266\n",
      "url : \n",
      "\n",
      "name : north sound cooling centers\n",
      "address_1 : 8251 kendall rd.\n",
      "address_2 : \n",
      "city : maple falls\n",
      "state_province : wa\n",
      "postal_code : 98266\n",
      "url : \n",
      "\n",
      "49/10 positive, 26/10 negative\n",
      "Do these records refer to the same thing?\n",
      "(y)es / (n)o / (u)nsure / (f)inished / (p)revious\n"
     ]
    },
    {
     "name": "stdout",
     "output_type": "stream",
     "text": [
      "n\n"
     ]
    },
    {
     "name": "stderr",
     "output_type": "stream",
     "text": [
      "name : brigid collins family support center\n",
      "address_1 : 1231 north garden street\n",
      "address_2 : suite 200\n",
      "city : bellingham\n",
      "state_province : wa\n",
      "postal_code : 98225\n",
      "url : http://www.brigidcollins.org\n",
      "\n",
      "name : brigid collins family support center\n",
      "address_1 : 1231 n garden st suite 200\n",
      "address_2 : \n",
      "city : bellingham\n",
      "state_province : wa\n",
      "postal_code : 98225\n",
      "url : http://www.brigidcollins.org\n",
      "\n",
      "49/10 positive, 27/10 negative\n",
      "Do these records refer to the same thing?\n",
      "(y)es / (n)o / (u)nsure / (f)inished / (p)revious\n"
     ]
    },
    {
     "name": "stdout",
     "output_type": "stream",
     "text": [
      "y\n"
     ]
    },
    {
     "name": "stderr",
     "output_type": "stream",
     "text": [
      "name : washington state department of labor & industries\n",
      "address_1 : 1720 ellis st\n",
      "address_2 : suite 200\n",
      "city : bellingham\n",
      "state_province : wa\n",
      "postal_code : 98225\n",
      "url : http://lni.wa.gov\n",
      "\n",
      "name : washington state department of children, youth & families' child welfare system\n",
      "address_1 : 1720 ellis st., suite 100\n",
      "address_2 : \n",
      "city : bellingham\n",
      "state_province : wa\n",
      "postal_code : 98225\n",
      "url : https://www.dcyf.wa.gov\n",
      "\n",
      "50/10 positive, 27/10 negative\n",
      "Do these records refer to the same thing?\n",
      "(y)es / (n)o / (u)nsure / (f)inished / (p)revious\n"
     ]
    },
    {
     "name": "stdout",
     "output_type": "stream",
     "text": [
      "n\n"
     ]
    },
    {
     "name": "stderr",
     "output_type": "stream",
     "text": [
      "name : unity care northwest\n",
      "address_1 : 6060 portal way\n",
      "address_2 : \n",
      "city : ferndale\n",
      "state_province : wa\n",
      "postal_code : 98248\n",
      "url : http://unitycarenw.org\n",
      "\n",
      "name : unity care nw (ferndale health center)\n",
      "address_1 : 6060 portal way\n",
      "address_2 : \n",
      "city : ferndale\n",
      "state_province : wa\n",
      "postal_code : 98248\n",
      "url : \n",
      "\n",
      "50/10 positive, 28/10 negative\n",
      "Do these records refer to the same thing?\n",
      "(y)es / (n)o / (u)nsure / (f)inished / (p)revious\n"
     ]
    },
    {
     "name": "stdout",
     "output_type": "stream",
     "text": [
      "y\n"
     ]
    },
    {
     "name": "stderr",
     "output_type": "stream",
     "text": [
      "name : catholic community services of western washington in whatcom county\n",
      "address_1 : 1133 railroad avenue\n",
      "address_2 : suite 100\n",
      "city : bellingham\n",
      "state_province : wa\n",
      "postal_code : 98225\n",
      "url : http://www.ccsww.org\n",
      "\n",
      "name : hope house\n",
      "address_1 : 1133 railroad avenue\n",
      "address_2 : #100\n",
      "city : bellingham\n",
      "state_province : wa\n",
      "postal_code : 98225\n",
      "url : https://www.assumption.org/hope-house.html\n",
      "\n",
      "51/10 positive, 28/10 negative\n",
      "Do these records refer to the same thing?\n",
      "(y)es / (n)o / (u)nsure / (f)inished / (p)revious\n"
     ]
    },
    {
     "name": "stdout",
     "output_type": "stream",
     "text": [
      "n\n"
     ]
    },
    {
     "name": "stderr",
     "output_type": "stream",
     "text": [
      "name : whatcom county courts\n",
      "address_1 : 2014 c st.\n",
      "address_2 : \n",
      "city : bellingham\n",
      "state_province : wa\n",
      "postal_code : 98225\n",
      "url : http://www.courts.wa.gov/court_dir/orgs/296.html\n",
      "\n",
      "name : whatcom county courts\n",
      "address_1 : 1020 n state st\n",
      "address_2 : \n",
      "city : bellingham\n",
      "state_province : wa\n",
      "postal_code : 98225\n",
      "url : http://www.courts.wa.gov/court_dir/orgs/296.html\n",
      "\n",
      "51/10 positive, 29/10 negative\n",
      "Do these records refer to the same thing?\n",
      "(y)es / (n)o / (u)nsure / (f)inished / (p)revious\n"
     ]
    },
    {
     "name": "stdout",
     "output_type": "stream",
     "text": [
      "n\n"
     ]
    },
    {
     "name": "stderr",
     "output_type": "stream",
     "text": [
      "name : catholic community services of western washington in whatcom county\n",
      "address_1 : 1133 railroad avenue\n",
      "address_2 : suite 100\n",
      "city : bellingham\n",
      "state_province : wa\n",
      "postal_code : 98225\n",
      "url : http://www.ccsww.org\n",
      "\n",
      "name : hope house\n",
      "address_1 : 1133 railroad avenue\n",
      "address_2 : #100\n",
      "city : bellingham\n",
      "state_province : wa\n",
      "postal_code : 98225\n",
      "url : https://www.assumption.org/hope-house.html\n",
      "\n",
      "51/10 positive, 30/10 negative\n",
      "Do these records refer to the same thing?\n",
      "(y)es / (n)o / (u)nsure / (f)inished / (p)revious\n"
     ]
    },
    {
     "name": "stdout",
     "output_type": "stream",
     "text": [
      "n\n"
     ]
    },
    {
     "name": "stderr",
     "output_type": "stream",
     "text": [
      "name : catholic community services of western washington in whatcom county\n",
      "address_1 : 1133 railroad ave no  100\n",
      "address_2 : \n",
      "city : bellingham\n",
      "state_province : wa\n",
      "postal_code : 98225\n",
      "url : http://www.ccsww.org\n",
      "\n",
      "name : catholic community services (whatcom county)\n",
      "address_1 : 1133 railroad ave,# 100\n",
      "address_2 : \n",
      "city : bellingham\n",
      "state_province : wa\n",
      "postal_code : 98225\n",
      "url : \n",
      "\n",
      "51/10 positive, 31/10 negative\n",
      "Do these records refer to the same thing?\n",
      "(y)es / (n)o / (u)nsure / (f)inished / (p)revious\n"
     ]
    },
    {
     "name": "stdout",
     "output_type": "stream",
     "text": [
      "y\n"
     ]
    },
    {
     "name": "stderr",
     "output_type": "stream",
     "text": [
      "name : unity care northwest\n",
      "address_1 : 220 unity street\n",
      "address_2 : \n",
      "city : bellingham\n",
      "state_province : wa\n",
      "postal_code : 98225\n",
      "url : http://unitycarenw.org\n",
      "\n",
      "name : unity care nw (bellingham health center)\n",
      "address_1 : 220 unity st\n",
      "address_2 : \n",
      "city : bellingham\n",
      "state_province : wa\n",
      "postal_code : 98225\n",
      "url : \n",
      "\n",
      "52/10 positive, 31/10 negative\n",
      "Do these records refer to the same thing?\n",
      "(y)es / (n)o / (u)nsure / (f)inished / (p)revious\n"
     ]
    },
    {
     "name": "stdout",
     "output_type": "stream",
     "text": [
      "y\n"
     ]
    },
    {
     "name": "stderr",
     "output_type": "stream",
     "text": [
      "name : catholic community services of western washington in whatcom county\n",
      "address_1 : 1133 railroad ave no  100\n",
      "address_2 : \n",
      "city : bellingham\n",
      "state_province : wa\n",
      "postal_code : 98225\n",
      "url : http://www.ccsww.org\n",
      "\n",
      "name : catholic community services (whatcom county)\n",
      "address_1 : 1133 railroad ave,# 100\n",
      "address_2 : \n",
      "city : bellingham\n",
      "state_province : wa\n",
      "postal_code : 98225\n",
      "url : \n",
      "\n",
      "53/10 positive, 31/10 negative\n",
      "Do these records refer to the same thing?\n",
      "(y)es / (n)o / (u)nsure / (f)inished / (p)revious\n"
     ]
    },
    {
     "name": "stdout",
     "output_type": "stream",
     "text": [
      "y\n"
     ]
    },
    {
     "name": "stderr",
     "output_type": "stream",
     "text": [
      "name : unity care northwest\n",
      "address_1 : 1616 cornwall avenue\n",
      "address_2 : \n",
      "city : bellingham\n",
      "state_province : wa\n",
      "postal_code : 98225\n",
      "url : http://unitycarenw.org\n",
      "\n",
      "name : unity care nw (bellingham, cornwall ave)\n",
      "address_1 : 1616 cornwall ave,ste. 205\n",
      "address_2 : \n",
      "city : bellingham\n",
      "state_province : wa\n",
      "postal_code : 98225\n",
      "url : \n",
      "\n",
      "54/10 positive, 31/10 negative\n",
      "Do these records refer to the same thing?\n",
      "(y)es / (n)o / (u)nsure / (f)inished / (p)revious\n"
     ]
    },
    {
     "name": "stdout",
     "output_type": "stream",
     "text": [
      "y\n"
     ]
    },
    {
     "name": "stderr",
     "output_type": "stream",
     "text": [
      "name : saint paul's episcopal church\n",
      "address_1 : 2116 walnut str.\n",
      "address_2 : \n",
      "city : bellingham\n",
      "state_province : wa\n",
      "postal_code : 98225\n",
      "url : http://stpaulsbellingham.org\n",
      "\n",
      "name : st. paul episcopal church - alms ministry\n",
      "address_1 : 2117 walnut st\n",
      "address_2 : \n",
      "city : bellingham\n",
      "state_province : wa\n",
      "postal_code : 98225\n",
      "url : \n",
      "\n",
      "55/10 positive, 31/10 negative\n",
      "Do these records refer to the same thing?\n",
      "(y)es / (n)o / (u)nsure / (f)inished / (p)revious\n"
     ]
    },
    {
     "name": "stdout",
     "output_type": "stream",
     "text": [
      "u\n"
     ]
    },
    {
     "name": "stderr",
     "output_type": "stream",
     "text": [
      "name : alcoholics anonymous' western washington area 72\n",
      "address_1 : 702 kentucky st\n",
      "address_2 : suite no 535\n",
      "city : bellingham\n",
      "state_province : wa\n",
      "postal_code : 98225\n",
      "url : http://www.area72aa.org\n",
      "\n",
      "name : hope house\n",
      "address_1 : 207 kentucky st\n",
      "address_2 : \n",
      "city : bellingham\n",
      "state_province : wa\n",
      "postal_code : 98226\n",
      "url : \n",
      "\n",
      "55/10 positive, 31/10 negative\n",
      "Do these records refer to the same thing?\n",
      "(y)es / (n)o / (u)nsure / (f)inished / (p)revious\n"
     ]
    },
    {
     "name": "stdout",
     "output_type": "stream",
     "text": [
      "n\n"
     ]
    },
    {
     "name": "stderr",
     "output_type": "stream",
     "text": [
      "name : whatcom county\n",
      "address_1 : 215 north commercial street\n",
      "address_2 : \n",
      "city : bellingham\n",
      "state_province : wa\n",
      "postal_code : 98225\n",
      "url : http://www.co.whatcom.wa.us\n",
      "\n",
      "name : whatcom county\n",
      "address_1 : 332 north commercial street\n",
      "address_2 : suite 220\n",
      "city : bellingham\n",
      "state_province : wa\n",
      "postal_code : 98225\n",
      "url : http://www.co.whatcom.wa.us\n",
      "\n",
      "56/10 positive, 33/10 negative\n",
      "Do these records refer to the same thing?\n",
      "(y)es / (n)o / (u)nsure / (f)inished / (p)revious\n"
     ]
    },
    {
     "name": "stdout",
     "output_type": "stream",
     "text": [
      "n\n"
     ]
    },
    {
     "name": "stderr",
     "output_type": "stream",
     "text": [
      "name : whatcom county\n",
      "address_1 : 215 north commercial street\n",
      "address_2 : \n",
      "city : bellingham\n",
      "state_province : wa\n",
      "postal_code : 98225\n",
      "url : http://www.co.whatcom.wa.us\n",
      "\n",
      "name : whatcom county\n",
      "address_1 : 332 north commercial st\n",
      "address_2 : suite 220\n",
      "city : bellingham\n",
      "state_province : wa\n",
      "postal_code : 98225\n",
      "url : http://www.co.whatcom.wa.us\n",
      "\n",
      "56/10 positive, 34/10 negative\n",
      "Do these records refer to the same thing?\n",
      "(y)es / (n)o / (u)nsure / (f)inished / (p)revious\n"
     ]
    },
    {
     "name": "stdout",
     "output_type": "stream",
     "text": [
      "n\n"
     ]
    },
    {
     "name": "stderr",
     "output_type": "stream",
     "text": [
      "name : whatcom county courts\n",
      "address_1 : 205 4th street\n",
      "address_2 : \n",
      "city : lynden\n",
      "state_province : wa\n",
      "postal_code : 98264\n",
      "url : http://www.courts.wa.gov/court_dir/orgs/296.html\n",
      "\n",
      "name : whatcom county courts\n",
      "address_1 : 300 4th str\n",
      "address_2 : \n",
      "city : lynden\n",
      "state_province : wa\n",
      "postal_code : 98264\n",
      "url : http://www.courts.wa.gov/court_dir/orgs/296.html\n",
      "\n",
      "56/10 positive, 35/10 negative\n",
      "Do these records refer to the same thing?\n",
      "(y)es / (n)o / (u)nsure / (f)inished / (p)revious\n"
     ]
    },
    {
     "name": "stdout",
     "output_type": "stream",
     "text": [
      "n\n"
     ]
    },
    {
     "name": "stderr",
     "output_type": "stream",
     "text": [
      "name : saint paul's episcopal church\n",
      "address_1 : 2116 walnut str.\n",
      "address_2 : \n",
      "city : bellingham\n",
      "state_province : wa\n",
      "postal_code : 98225\n",
      "url : http://stpaulsbellingham.org\n",
      "\n",
      "name : st. paul episcopal church - alms ministry\n",
      "address_1 : 2117 walnut st.\n",
      "address_2 : \n",
      "city : bellingham\n",
      "state_province : wa\n",
      "postal_code : 98225\n",
      "url : \n",
      "\n",
      "56/10 positive, 36/10 negative\n",
      "Do these records refer to the same thing?\n",
      "(y)es / (n)o / (u)nsure / (f)inished / (p)revious\n"
     ]
    },
    {
     "name": "stdout",
     "output_type": "stream",
     "text": [
      "n\n"
     ]
    },
    {
     "name": "stderr",
     "output_type": "stream",
     "text": [
      "name : new way ministries\n",
      "address_1 : 205 south british columbia avenue\n",
      "address_2 : \n",
      "city : lynden\n",
      "state_province : wa\n",
      "postal_code : 98264\n",
      "url : http://www.christianhopeassociation.org\n",
      "\n",
      "name : new way ministries\n",
      "address_1 : 205 south bc ave.\n",
      "address_2 : suite 105\n",
      "city : lynden\n",
      "state_province : wa\n",
      "postal_code : 98264\n",
      "url : http://www.christianhopeassociation.org\n",
      "\n",
      "56/10 positive, 37/10 negative\n",
      "Do these records refer to the same thing?\n",
      "(y)es / (n)o / (u)nsure / (f)inished / (p)revious\n"
     ]
    },
    {
     "name": "stdout",
     "output_type": "stream",
     "text": [
      "y\n"
     ]
    },
    {
     "name": "stderr",
     "output_type": "stream",
     "text": [
      "name : whatcom county sheriff's office\n",
      "address_1 : 311 grand avenue\n",
      "address_2 : \n",
      "city : bellingham\n",
      "state_province : wa\n",
      "postal_code : 98225\n",
      "url : http://www.co.whatcom.wa.us/sheriff/\n",
      "\n",
      "name : whatcom county courts\n",
      "address_1 : 311 grand avenue\n",
      "address_2 : suite 401\n",
      "city : bellingham\n",
      "state_province : wa\n",
      "postal_code : 98225\n",
      "url : http://www.courts.wa.gov/court_dir/orgs/296.html\n",
      "\n",
      "57/10 positive, 37/10 negative\n",
      "Do these records refer to the same thing?\n",
      "(y)es / (n)o / (u)nsure / (f)inished / (p)revious\n"
     ]
    },
    {
     "name": "stdout",
     "output_type": "stream",
     "text": [
      "n\n"
     ]
    },
    {
     "name": "stderr",
     "output_type": "stream",
     "text": [
      "name : whatcom county courts\n",
      "address_1 : 311 grand avenue\n",
      "address_2 : suite 401\n",
      "city : bellingham\n",
      "state_province : wa\n",
      "postal_code : 98225\n",
      "url : http://www.courts.wa.gov/court_dir/orgs/296.html\n",
      "\n",
      "name : whatcom county sheriff's office\n",
      "address_1 : 311 grand avenue\n",
      "address_2 : \n",
      "city : bellingham\n",
      "state_province : wa\n",
      "postal_code : 98225\n",
      "url : http://www.co.whatcom.wa.us/sheriff/\n",
      "\n",
      "57/10 positive, 38/10 negative\n",
      "Do these records refer to the same thing?\n",
      "(y)es / (n)o / (u)nsure / (f)inished / (p)revious\n"
     ]
    },
    {
     "name": "stdout",
     "output_type": "stream",
     "text": [
      "n\n"
     ]
    },
    {
     "name": "stderr",
     "output_type": "stream",
     "text": [
      "name : whatcom county sheriff's office\n",
      "address_1 : 311 grand avenue\n",
      "address_2 : \n",
      "city : bellingham\n",
      "state_province : wa\n",
      "postal_code : 98225\n",
      "url : http://www.co.whatcom.wa.us/sheriff/\n",
      "\n",
      "name : whatcom county courts\n",
      "address_1 : 311 grand avenue\n",
      "address_2 : suite 301\n",
      "city : bellingham\n",
      "state_province : wa\n",
      "postal_code : 98225\n",
      "url : http://www.courts.wa.gov/court_dir/orgs/296.html\n",
      "\n",
      "57/10 positive, 39/10 negative\n",
      "Do these records refer to the same thing?\n",
      "(y)es / (n)o / (u)nsure / (f)inished / (p)revious\n"
     ]
    },
    {
     "name": "stdout",
     "output_type": "stream",
     "text": [
      "n\n"
     ]
    },
    {
     "name": "stderr",
     "output_type": "stream",
     "text": [
      "name : ferndale school district\n",
      "address_1 : 6041 vista drive\n",
      "address_2 : \n",
      "city : ferndale\n",
      "state_province : wa\n",
      "postal_code : 98248\n",
      "url : http://www.ferndalesd.org\n",
      "\n",
      "name : ferndale school district\n",
      "address_1 : early learning center,5275 nw dr,#26\n",
      "address_2 : \n",
      "city : ferndale\n",
      "state_province : wa\n",
      "postal_code : 98248\n",
      "url : \n",
      "\n",
      "57/10 positive, 40/10 negative\n",
      "Do these records refer to the same thing?\n",
      "(y)es / (n)o / (u)nsure / (f)inished / (p)revious\n"
     ]
    },
    {
     "name": "stdout",
     "output_type": "stream",
     "text": [
      "n\n"
     ]
    },
    {
     "name": "stderr",
     "output_type": "stream",
     "text": [
      "name : bellingham public library\n",
      "address_1 : cs 9710\n",
      "address_2 : \n",
      "city : bellingham\n",
      "state_province : wa\n",
      "postal_code : 98227\n",
      "url : http://www.bellinghampubliclibrary.org\n",
      "\n",
      "name : bellingham public library\n",
      "address_1 : 210 central aven\n",
      "address_2 : \n",
      "city : bellingham\n",
      "state_province : wa\n",
      "postal_code : 98227\n",
      "url : \n",
      "\n",
      "57/10 positive, 41/10 negative\n",
      "Do these records refer to the same thing?\n",
      "(y)es / (n)o / (u)nsure / (f)inished / (p)revious\n"
     ]
    },
    {
     "name": "stdout",
     "output_type": "stream",
     "text": [
      "y\n"
     ]
    },
    {
     "name": "stderr",
     "output_type": "stream",
     "text": [
      "name : whatcom county courts\n",
      "address_1 : 311 grand avenue\n",
      "address_2 : suite 501\n",
      "city : bellingham\n",
      "state_province : wa\n",
      "postal_code : 98225\n",
      "url : http://www.courts.wa.gov/court_dir/orgs/296.html\n",
      "\n",
      "name : whatcom county sheriff's office\n",
      "address_1 : 311 grand avenue\n",
      "address_2 : \n",
      "city : bellingham\n",
      "state_province : wa\n",
      "postal_code : 98225\n",
      "url : http://www.co.whatcom.wa.us/sheriff/\n",
      "\n",
      "58/10 positive, 41/10 negative\n",
      "Do these records refer to the same thing?\n",
      "(y)es / (n)o / (u)nsure / (f)inished / (p)revious\n"
     ]
    },
    {
     "name": "stdout",
     "output_type": "stream",
     "text": [
      "n\n"
     ]
    },
    {
     "name": "stderr",
     "output_type": "stream",
     "text": [
      "name : bellingham public library\n",
      "address_1 : cs 9710\n",
      "address_2 : \n",
      "city : bellingham\n",
      "state_province : wa\n",
      "postal_code : 98227\n",
      "url : http://www.bellinghampubliclibrary.org\n",
      "\n",
      "name : bellingham public library\n",
      "address_1 : 210 central ave\n",
      "address_2 : \n",
      "city : bellingham\n",
      "state_province : wa\n",
      "postal_code : 98227\n",
      "url : \n",
      "\n",
      "58/10 positive, 42/10 negative\n",
      "Do these records refer to the same thing?\n",
      "(y)es / (n)o / (u)nsure / (f)inished / (p)revious\n"
     ]
    },
    {
     "name": "stdout",
     "output_type": "stream",
     "text": [
      "y\n"
     ]
    },
    {
     "name": "stderr",
     "output_type": "stream",
     "text": [
      "name : bellingham public library\n",
      "address_1 : cs 9710\n",
      "address_2 : \n",
      "city : bellingham\n",
      "state_province : wa\n",
      "postal_code : 98227\n",
      "url : http://www.bellinghampubliclibrary.org\n",
      "\n",
      "name : bellingham public library\n",
      "address_1 : 210 central ave\n",
      "address_2 : \n",
      "city : bellingham\n",
      "state_province : wa\n",
      "postal_code : 98227\n",
      "url : \n",
      "\n",
      "59/10 positive, 42/10 negative\n",
      "Do these records refer to the same thing?\n",
      "(y)es / (n)o / (u)nsure / (f)inished / (p)revious\n"
     ]
    },
    {
     "name": "stdout",
     "output_type": "stream",
     "text": [
      "y\n"
     ]
    },
    {
     "name": "stderr",
     "output_type": "stream",
     "text": [
      "name : whatcom county\n",
      "address_1 : 311 grand ave\n",
      "address_2 : \n",
      "city : bellingham\n",
      "state_province : wa\n",
      "postal_code : 98225\n",
      "url : http://www.co.whatcom.wa.us\n",
      "\n",
      "name : whatcom county dental resource list\n",
      "address_1 : 800 e chestnut ll suite 2\n",
      "address_2 : \n",
      "city : bellingham\n",
      "state_province : wa\n",
      "postal_code : 98227\n",
      "url : \n",
      "\n",
      "60/10 positive, 42/10 negative\n",
      "Do these records refer to the same thing?\n",
      "(y)es / (n)o / (u)nsure / (f)inished / (p)revious\n"
     ]
    },
    {
     "name": "stdout",
     "output_type": "stream",
     "text": [
      "n\n"
     ]
    },
    {
     "name": "stderr",
     "output_type": "stream",
     "text": [
      "name : sea mar community health centers\n",
      "address_1 : 4455 cordata parkway\n",
      "address_2 : \n",
      "city : bellingham\n",
      "state_province : wa\n",
      "postal_code : 98226\n",
      "url : https://www.seamar.org/\n",
      "\n",
      "name : sea mar community health center (downtown bellingham wic)\n",
      "address_1 : 1764 iowa st\n",
      "address_2 : \n",
      "city : bellingham\n",
      "state_province : wa\n",
      "postal_code : 98229\n",
      "url : \n",
      "\n",
      "60/10 positive, 43/10 negative\n",
      "Do these records refer to the same thing?\n",
      "(y)es / (n)o / (u)nsure / (f)inished / (p)revious\n"
     ]
    },
    {
     "name": "stdout",
     "output_type": "stream",
     "text": [
      "n\n"
     ]
    },
    {
     "name": "stderr",
     "output_type": "stream",
     "text": [
      "name : bellingham public library\n",
      "address_1 : 1117 12th st.\n",
      "address_2 : \n",
      "city : bellingham\n",
      "state_province : wa\n",
      "postal_code : 98225\n",
      "url : http://www.bellinghampubliclibrary.org\n",
      "\n",
      "name : bellingham public library\n",
      "address_1 : 210 central ave\n",
      "address_2 : \n",
      "city : bellingham\n",
      "state_province : wa\n",
      "postal_code : 98227\n",
      "url : \n",
      "\n",
      "60/10 positive, 44/10 negative\n",
      "Do these records refer to the same thing?\n",
      "(y)es / (n)o / (u)nsure / (f)inished / (p)revious\n"
     ]
    },
    {
     "name": "stdout",
     "output_type": "stream",
     "text": [
      "n\n"
     ]
    },
    {
     "name": "stderr",
     "output_type": "stream",
     "text": [
      "name : salvation army - bellingham\n",
      "address_1 : 1515 birchwood avenue\n",
      "address_2 : \n",
      "city : bellingham\n",
      "state_province : wa\n",
      "postal_code : 98225\n",
      "url : https://bellingham.salvationarmy.org\n",
      "\n",
      "name : salvation army (bellingham)\n",
      "address_1 : 2912 northwest ave\n",
      "address_2 : \n",
      "city : bellingham\n",
      "state_province : wa\n",
      "postal_code : 98225\n",
      "url : \n",
      "\n",
      "60/10 positive, 45/10 negative\n",
      "Do these records refer to the same thing?\n",
      "(y)es / (n)o / (u)nsure / (f)inished / (p)revious\n"
     ]
    },
    {
     "name": "stdout",
     "output_type": "stream",
     "text": [
      "n\n"
     ]
    },
    {
     "name": "stderr",
     "output_type": "stream",
     "text": [
      "name : north sound cooling centers\n",
      "address_1 : 210 central avenue\n",
      "address_2 : \n",
      "city : bellingham\n",
      "state_province : wa\n",
      "postal_code : 98225\n",
      "url : \n",
      "\n",
      "name : north sound cooling centers\n",
      "address_1 : 1530 cornwall avenue\n",
      "address_2 : \n",
      "city : bellingham\n",
      "state_province : wa\n",
      "postal_code : 98225\n",
      "url : \n",
      "\n",
      "60/10 positive, 46/10 negative\n",
      "Do these records refer to the same thing?\n",
      "(y)es / (n)o / (u)nsure / (f)inished / (p)revious\n"
     ]
    },
    {
     "name": "stdout",
     "output_type": "stream",
     "text": [
      "n\n"
     ]
    },
    {
     "name": "stderr",
     "output_type": "stream",
     "text": [
      "name : north sound cooling centers\n",
      "address_1 : 210 central avenue\n",
      "address_2 : \n",
      "city : bellingham\n",
      "state_province : wa\n",
      "postal_code : 98225\n",
      "url : \n",
      "\n",
      "name : north sound cooling centers\n",
      "address_1 : 1530 cornwall avenue\n",
      "address_2 : \n",
      "city : bellingham\n",
      "state_province : wa\n",
      "postal_code : 98225\n",
      "url : \n",
      "\n",
      "60/10 positive, 47/10 negative\n",
      "Do these records refer to the same thing?\n",
      "(y)es / (n)o / (u)nsure / (f)inished / (p)revious\n"
     ]
    },
    {
     "name": "stdout",
     "output_type": "stream",
     "text": [
      "n\n"
     ]
    },
    {
     "name": "stderr",
     "output_type": "stream",
     "text": [
      "name : bellingham food bank\n",
      "address_1 : 4173 meridian street\n",
      "address_2 : \n",
      "city : bellingham\n",
      "state_province : wa\n",
      "postal_code : 98226\n",
      "url : http://bellinghamfoodbank.org\n",
      "\n",
      "name : bellingham food bank\n",
      "address_1 : 1175 jersey street\n",
      "address_2 : \n",
      "city : bellingham\n",
      "state_province : wa\n",
      "postal_code : 98225\n",
      "url : http://bellinghamfoodbank.org\n",
      "\n",
      "60/10 positive, 48/10 negative\n",
      "Do these records refer to the same thing?\n",
      "(y)es / (n)o / (u)nsure / (f)inished / (p)revious\n"
     ]
    },
    {
     "name": "stdout",
     "output_type": "stream",
     "text": [
      "n\n"
     ]
    },
    {
     "name": "stderr",
     "output_type": "stream",
     "text": [
      "name : whatcom county sheriff's office\n",
      "address_1 : 311 grand avenue\n",
      "address_2 : \n",
      "city : bellingham\n",
      "state_province : wa\n",
      "postal_code : 98225\n",
      "url : http://www.co.whatcom.wa.us/sheriff/\n",
      "\n",
      "name : whatcom county courts\n",
      "address_1 : 311 grand avenue\n",
      "address_2 : suite 501\n",
      "city : bellingham\n",
      "state_province : wa\n",
      "postal_code : 98225\n",
      "url : http://www.courts.wa.gov/court_dir/orgs/296.html\n",
      "\n",
      "60/10 positive, 49/10 negative\n",
      "Do these records refer to the same thing?\n",
      "(y)es / (n)o / (u)nsure / (f)inished / (p)revious\n"
     ]
    },
    {
     "name": "stdout",
     "output_type": "stream",
     "text": [
      "n\n"
     ]
    },
    {
     "name": "stderr",
     "output_type": "stream",
     "text": [
      "name : whatcom county sheriff's office\n",
      "address_1 : 311 grand avenue\n",
      "address_2 : \n",
      "city : bellingham\n",
      "state_province : wa\n",
      "postal_code : 98225\n",
      "url : http://www.co.whatcom.wa.us/sheriff/\n",
      "\n",
      "name : whatcom county courts\n",
      "address_1 : 311 grand avenue\n",
      "address_2 : suite 501\n",
      "city : bellingham\n",
      "state_province : wa\n",
      "postal_code : 98225\n",
      "url : http://www.courts.wa.gov/court_dir/orgs/296.html\n",
      "\n",
      "60/10 positive, 50/10 negative\n",
      "Do these records refer to the same thing?\n",
      "(y)es / (n)o / (u)nsure / (f)inished / (p)revious\n"
     ]
    },
    {
     "name": "stdout",
     "output_type": "stream",
     "text": [
      "n\n"
     ]
    },
    {
     "name": "stderr",
     "output_type": "stream",
     "text": [
      "name : whatcom county courts\n",
      "address_1 : 1020 north state street\n",
      "address_2 : \n",
      "city : bellingham\n",
      "state_province : wa\n",
      "postal_code : 98225\n",
      "url : http://www.courts.wa.gov/court_dir/orgs/296.html\n",
      "\n",
      "name : whatcom county courts\n",
      "address_1 : 2014 c street\n",
      "address_2 : \n",
      "city : bellingham\n",
      "state_province : wa\n",
      "postal_code : 98225\n",
      "url : http://www.courts.wa.gov/court_dir/orgs/296.html\n",
      "\n",
      "60/10 positive, 51/10 negative\n",
      "Do these records refer to the same thing?\n",
      "(y)es / (n)o / (u)nsure / (f)inished / (p)revious\n"
     ]
    },
    {
     "name": "stdout",
     "output_type": "stream",
     "text": [
      "n\n"
     ]
    },
    {
     "name": "stderr",
     "output_type": "stream",
     "text": [
      "name : salvation army - bellingham\n",
      "address_1 : 1515 birchwood ave\n",
      "address_2 : \n",
      "city : bellingham\n",
      "state_province : wa\n",
      "postal_code : 98225\n",
      "url : https://bellingham.salvationarmy.org\n",
      "\n",
      "name : salvation army (bellingham)\n",
      "address_1 : 2912 northwest ave.\n",
      "address_2 : \n",
      "city : bellingham\n",
      "state_province : wa\n",
      "postal_code : 98225\n",
      "url : \n",
      "\n",
      "60/10 positive, 52/10 negative\n",
      "Do these records refer to the same thing?\n",
      "(y)es / (n)o / (u)nsure / (f)inished / (p)revious\n"
     ]
    },
    {
     "name": "stdout",
     "output_type": "stream",
     "text": [
      "n\n"
     ]
    },
    {
     "name": "stderr",
     "output_type": "stream",
     "text": [
      "name : salvation army - bellingham\n",
      "address_1 : 1515 birchwood ave\n",
      "address_2 : \n",
      "city : bellingham\n",
      "state_province : wa\n",
      "postal_code : 98225\n",
      "url : https://bellingham.salvationarmy.org\n",
      "\n",
      "name : salvation army (bellingham)\n",
      "address_1 : 2912 northwest ave\n",
      "address_2 : \n",
      "city : bellingham\n",
      "state_province : wa\n",
      "postal_code : 98225\n",
      "url : \n",
      "\n",
      "60/10 positive, 53/10 negative\n",
      "Do these records refer to the same thing?\n",
      "(y)es / (n)o / (u)nsure / (f)inished / (p)revious\n"
     ]
    },
    {
     "name": "stdout",
     "output_type": "stream",
     "text": [
      "n\n"
     ]
    },
    {
     "name": "stderr",
     "output_type": "stream",
     "text": [
      "name : whatcom county courts\n",
      "address_1 : 311 grand avenue\n",
      "address_2 : suite 401\n",
      "city : bellingham\n",
      "state_province : wa\n",
      "postal_code : 98225\n",
      "url : http://www.courts.wa.gov/court_dir/orgs/296.html\n",
      "\n",
      "name : whatcom county sheriff's office\n",
      "address_1 : 311 grand avenue\n",
      "address_2 : \n",
      "city : bellingham\n",
      "state_province : wa\n",
      "postal_code : 98225\n",
      "url : http://www.co.whatcom.wa.us/sheriff/\n",
      "\n",
      "60/10 positive, 54/10 negative\n",
      "Do these records refer to the same thing?\n",
      "(y)es / (n)o / (u)nsure / (f)inished / (p)revious\n"
     ]
    },
    {
     "name": "stdout",
     "output_type": "stream",
     "text": [
      "n\n"
     ]
    },
    {
     "name": "stderr",
     "output_type": "stream",
     "text": [
      "name : whatcom county courts\n",
      "address_1 : 311 grand avenue\n",
      "address_2 : suite 401\n",
      "city : bellingham\n",
      "state_province : wa\n",
      "postal_code : 98225\n",
      "url : http://www.courts.wa.gov/court_dir/orgs/296.html\n",
      "\n",
      "name : whatcom county sheriff's office\n",
      "address_1 : 311 grand avenue\n",
      "address_2 : \n",
      "city : bellingham\n",
      "state_province : wa\n",
      "postal_code : 98225\n",
      "url : http://www.co.whatcom.wa.us/sheriff/\n",
      "\n",
      "60/10 positive, 55/10 negative\n",
      "Do these records refer to the same thing?\n",
      "(y)es / (n)o / (u)nsure / (f)inished / (p)revious\n"
     ]
    },
    {
     "name": "stdout",
     "output_type": "stream",
     "text": [
      "n\n"
     ]
    },
    {
     "name": "stderr",
     "output_type": "stream",
     "text": [
      "name : whatcom county courts\n",
      "address_1 : 311 grand avenue\n",
      "address_2 : suite 301\n",
      "city : bellingham\n",
      "state_province : wa\n",
      "postal_code : 98225\n",
      "url : http://www.courts.wa.gov/court_dir/orgs/296.html\n",
      "\n",
      "name : whatcom county sheriff's office\n",
      "address_1 : 311 grand avenue\n",
      "address_2 : \n",
      "city : bellingham\n",
      "state_province : wa\n",
      "postal_code : 98225\n",
      "url : http://www.co.whatcom.wa.us/sheriff/\n",
      "\n",
      "60/10 positive, 56/10 negative\n",
      "Do these records refer to the same thing?\n",
      "(y)es / (n)o / (u)nsure / (f)inished / (p)revious\n"
     ]
    },
    {
     "name": "stdout",
     "output_type": "stream",
     "text": [
      "n\n"
     ]
    },
    {
     "name": "stderr",
     "output_type": "stream",
     "text": [
      "name : whatcom county courts\n",
      "address_1 : 311 grand ave\n",
      "address_2 : suite 301\n",
      "city : bellingham\n",
      "state_province : wa\n",
      "postal_code : 98225\n",
      "url : http://www.courts.wa.gov/court_dir/orgs/296.html\n",
      "\n",
      "name : whatcom county sheriff's office\n",
      "address_1 : 311 grand ave\n",
      "address_2 : \n",
      "city : bellingham\n",
      "state_province : wa\n",
      "postal_code : 98225\n",
      "url : http://www.co.whatcom.wa.us/sheriff/\n",
      "\n",
      "60/10 positive, 57/10 negative\n",
      "Do these records refer to the same thing?\n",
      "(y)es / (n)o / (u)nsure / (f)inished / (p)revious\n"
     ]
    },
    {
     "name": "stdout",
     "output_type": "stream",
     "text": [
      "n\n"
     ]
    },
    {
     "name": "stderr",
     "output_type": "stream",
     "text": [
      "name : salvation army - bellingham\n",
      "address_1 : 2912 northwest avenue\n",
      "address_2 : \n",
      "city : bellingham\n",
      "state_province : wa\n",
      "postal_code : 98225\n",
      "url : https://bellingham.salvationarmy.org\n",
      "\n",
      "name : salvation army - bellingham\n",
      "address_1 : 1515 birchwood aven\n",
      "address_2 : \n",
      "city : bellingham\n",
      "state_province : wa\n",
      "postal_code : 98225\n",
      "url : https://bellingham.salvationarmy.org\n",
      "\n",
      "60/10 positive, 58/10 negative\n",
      "Do these records refer to the same thing?\n",
      "(y)es / (n)o / (u)nsure / (f)inished / (p)revious\n"
     ]
    },
    {
     "name": "stdout",
     "output_type": "stream",
     "text": [
      "n\n"
     ]
    },
    {
     "name": "stderr",
     "output_type": "stream",
     "text": [
      "name : salvation army - bellingham\n",
      "address_1 : 2912 northwest avenue\n",
      "address_2 : \n",
      "city : bellingham\n",
      "state_province : wa\n",
      "postal_code : 98225\n",
      "url : https://bellingham.salvationarmy.org\n",
      "\n",
      "name : salvation army - bellingham\n",
      "address_1 : 1515 birchwood ave\n",
      "address_2 : \n",
      "city : bellingham\n",
      "state_province : wa\n",
      "postal_code : 98225\n",
      "url : https://bellingham.salvationarmy.org\n",
      "\n",
      "60/10 positive, 59/10 negative\n",
      "Do these records refer to the same thing?\n",
      "(y)es / (n)o / (u)nsure / (f)inished / (p)revious\n"
     ]
    },
    {
     "name": "stdout",
     "output_type": "stream",
     "text": [
      "n\n"
     ]
    },
    {
     "name": "stderr",
     "output_type": "stream",
     "text": [
      "name : whatcom county courts\n",
      "address_1 : 311 grand avenue\n",
      "address_2 : suite 301\n",
      "city : bellingham\n",
      "state_province : wa\n",
      "postal_code : 98225\n",
      "url : http://www.courts.wa.gov/court_dir/orgs/296.html\n",
      "\n",
      "name : whatcom county sheriff's office\n",
      "address_1 : 311 grand avenue\n",
      "address_2 : \n",
      "city : bellingham\n",
      "state_province : wa\n",
      "postal_code : 98225\n",
      "url : http://www.co.whatcom.wa.us/sheriff/\n",
      "\n",
      "60/10 positive, 60/10 negative\n",
      "Do these records refer to the same thing?\n",
      "(y)es / (n)o / (u)nsure / (f)inished / (p)revious\n"
     ]
    },
    {
     "name": "stdout",
     "output_type": "stream",
     "text": [
      "n\n"
     ]
    },
    {
     "name": "stderr",
     "output_type": "stream",
     "text": [
      "name : whatcom county courts\n",
      "address_1 : 311 grand avenue\n",
      "address_2 : suite 501\n",
      "city : bellingham\n",
      "state_province : wa\n",
      "postal_code : 98225\n",
      "url : http://www.courts.wa.gov/court_dir/orgs/296.html\n",
      "\n",
      "name : whatcom county sheriff's office\n",
      "address_1 : 311 grand avenue\n",
      "address_2 : \n",
      "city : bellingham\n",
      "state_province : wa\n",
      "postal_code : 98225\n",
      "url : http://www.co.whatcom.wa.us/sheriff/\n",
      "\n",
      "60/10 positive, 61/10 negative\n",
      "Do these records refer to the same thing?\n",
      "(y)es / (n)o / (u)nsure / (f)inished / (p)revious\n"
     ]
    },
    {
     "name": "stdout",
     "output_type": "stream",
     "text": [
      "n\n"
     ]
    },
    {
     "name": "stderr",
     "output_type": "stream",
     "text": [
      "name : whatcom county courts\n",
      "address_1 : 311 grand ave\n",
      "address_2 : suite 501\n",
      "city : bellingham\n",
      "state_province : wa\n",
      "postal_code : 98225\n",
      "url : http://www.courts.wa.gov/court_dir/orgs/296.html\n",
      "\n",
      "name : whatcom county sheriff's office\n",
      "address_1 : 311 grand ave\n",
      "address_2 : \n",
      "city : bellingham\n",
      "state_province : wa\n",
      "postal_code : 98225\n",
      "url : http://www.co.whatcom.wa.us/sheriff/\n",
      "\n",
      "60/10 positive, 62/10 negative\n",
      "Do these records refer to the same thing?\n",
      "(y)es / (n)o / (u)nsure / (f)inished / (p)revious\n"
     ]
    },
    {
     "name": "stdout",
     "output_type": "stream",
     "text": [
      "n\n"
     ]
    },
    {
     "name": "stderr",
     "output_type": "stream",
     "text": [
      "name : salvation army - bellingham\n",
      "address_1 : 1515 birchwood aven\n",
      "address_2 : \n",
      "city : bellingham\n",
      "state_province : wa\n",
      "postal_code : 98225\n",
      "url : https://bellingham.salvationarmy.org\n",
      "\n",
      "name : salvation army (bellingham)\n",
      "address_1 : 2912 northwest ave.\n",
      "address_2 : \n",
      "city : bellingham\n",
      "state_province : wa\n",
      "postal_code : 98225\n",
      "url : \n",
      "\n",
      "60/10 positive, 63/10 negative\n",
      "Do these records refer to the same thing?\n",
      "(y)es / (n)o / (u)nsure / (f)inished / (p)revious\n"
     ]
    },
    {
     "name": "stdout",
     "output_type": "stream",
     "text": [
      "n\n"
     ]
    },
    {
     "name": "stderr",
     "output_type": "stream",
     "text": [
      "name : project hope\n",
      "address_1 : 205 south british columbia avenue\n",
      "address_2 : suite 105\n",
      "city : lynden\n",
      "state_province : wa\n",
      "postal_code : 98264\n",
      "url : https://www.projecthopelynden.org\n",
      "\n",
      "name : project hope\n",
      "address_1 : 205 s british columbia ave.\n",
      "address_2 : \n",
      "city : lynden\n",
      "state_province : wa\n",
      "postal_code : 98264\n",
      "url : https://www.projecthopelynden.org/project-hope-food-bank/\n",
      "\n",
      "60/10 positive, 64/10 negative\n",
      "Do these records refer to the same thing?\n",
      "(y)es / (n)o / (u)nsure / (f)inished / (p)revious\n"
     ]
    },
    {
     "name": "stdout",
     "output_type": "stream",
     "text": [
      "y\n"
     ]
    },
    {
     "name": "stderr",
     "output_type": "stream",
     "text": [
      "name : salvation army - bellingham\n",
      "address_1 : 2912 northwest avenue\n",
      "address_2 : \n",
      "city : bellingham\n",
      "state_province : wa\n",
      "postal_code : 98225\n",
      "url : https://bellingham.salvationarmy.org\n",
      "\n",
      "name : salvation army - bellingham\n",
      "address_1 : 1515 birchwood ave\n",
      "address_2 : \n",
      "city : bellingham\n",
      "state_province : wa\n",
      "postal_code : 98225\n",
      "url : https://bellingham.salvationarmy.org\n",
      "\n",
      "61/10 positive, 64/10 negative\n",
      "Do these records refer to the same thing?\n",
      "(y)es / (n)o / (u)nsure / (f)inished / (p)revious\n"
     ]
    },
    {
     "name": "stdout",
     "output_type": "stream",
     "text": [
      "n\n"
     ]
    },
    {
     "name": "stderr",
     "output_type": "stream",
     "text": [
      "name : whatcom county courts\n",
      "address_1 : 311 grand ave\n",
      "address_2 : suite 301\n",
      "city : bellingham\n",
      "state_province : wa\n",
      "postal_code : 98225\n",
      "url : http://www.courts.wa.gov/court_dir/orgs/296.html\n",
      "\n",
      "name : whatcom county sheriff's office\n",
      "address_1 : 311 grand ave\n",
      "address_2 : \n",
      "city : bellingham\n",
      "state_province : wa\n",
      "postal_code : 98225\n",
      "url : http://www.co.whatcom.wa.us/sheriff/\n",
      "\n",
      "61/10 positive, 65/10 negative\n",
      "Do these records refer to the same thing?\n",
      "(y)es / (n)o / (u)nsure / (f)inished / (p)revious\n"
     ]
    },
    {
     "name": "stdout",
     "output_type": "stream",
     "text": [
      "n\n"
     ]
    },
    {
     "name": "stderr",
     "output_type": "stream",
     "text": [
      "name : whatcom county courts\n",
      "address_1 : 311 grand ave\n",
      "address_2 : suite 501\n",
      "city : bellingham\n",
      "state_province : wa\n",
      "postal_code : 98225\n",
      "url : http://www.courts.wa.gov/court_dir/orgs/296.html\n",
      "\n",
      "name : whatcom county sheriff's office\n",
      "address_1 : 311 grand ave\n",
      "address_2 : \n",
      "city : bellingham\n",
      "state_province : wa\n",
      "postal_code : 98225\n",
      "url : http://www.co.whatcom.wa.us/sheriff/\n",
      "\n",
      "61/10 positive, 66/10 negative\n",
      "Do these records refer to the same thing?\n",
      "(y)es / (n)o / (u)nsure / (f)inished / (p)revious\n"
     ]
    },
    {
     "name": "stdout",
     "output_type": "stream",
     "text": [
      "n\n"
     ]
    },
    {
     "name": "stderr",
     "output_type": "stream",
     "text": [
      "name : whatcom county courts\n",
      "address_1 : 311 grand avenue\n",
      "address_2 : suite 401\n",
      "city : bellingham\n",
      "state_province : wa\n",
      "postal_code : 98225\n",
      "url : http://www.courts.wa.gov/court_dir/orgs/296.html\n",
      "\n",
      "name : whatcom county sheriff's office\n",
      "address_1 : 311 grand avenue\n",
      "address_2 : \n",
      "city : bellingham\n",
      "state_province : wa\n",
      "postal_code : 98225\n",
      "url : http://www.co.whatcom.wa.us/sheriff/\n",
      "\n",
      "61/10 positive, 67/10 negative\n",
      "Do these records refer to the same thing?\n",
      "(y)es / (n)o / (u)nsure / (f)inished / (p)revious\n"
     ]
    },
    {
     "name": "stdout",
     "output_type": "stream",
     "text": [
      "n\n"
     ]
    },
    {
     "name": "stderr",
     "output_type": "stream",
     "text": [
      "name : whatcom county sheriff's office\n",
      "address_1 : 311 grand avenue\n",
      "address_2 : \n",
      "city : bellingham\n",
      "state_province : wa\n",
      "postal_code : 98225\n",
      "url : http://www.co.whatcom.wa.us/sheriff/\n",
      "\n",
      "name : whatcom county courts\n",
      "address_1 : 311 grand avenue\n",
      "address_2 : suite 401\n",
      "city : bellingham\n",
      "state_province : wa\n",
      "postal_code : 98225\n",
      "url : http://www.courts.wa.gov/court_dir/orgs/296.html\n",
      "\n",
      "61/10 positive, 68/10 negative\n",
      "Do these records refer to the same thing?\n",
      "(y)es / (n)o / (u)nsure / (f)inished / (p)revious\n"
     ]
    },
    {
     "name": "stdout",
     "output_type": "stream",
     "text": [
      "n\n"
     ]
    },
    {
     "name": "stderr",
     "output_type": "stream",
     "text": [
      "name : interfaith coalition of whatcom county\n",
      "address_1 : 400 north commercial street\n",
      "address_2 : \n",
      "city : bellingham\n",
      "state_province : wa\n",
      "postal_code : 98225\n",
      "url : http://www.interfaith-coalition.org\n",
      "\n",
      "name : interfaith coalition of whatcom county\n",
      "address_1 : 910 14th street\n",
      "address_2 : \n",
      "city : bellingham\n",
      "state_province : wa\n",
      "postal_code : 98225\n",
      "url : http://www.interfaith-coalition.org\n",
      "\n",
      "61/10 positive, 69/10 negative\n",
      "Do these records refer to the same thing?\n",
      "(y)es / (n)o / (u)nsure / (f)inished / (p)revious\n"
     ]
    },
    {
     "name": "stdout",
     "output_type": "stream",
     "text": [
      "n\n"
     ]
    },
    {
     "name": "stderr",
     "output_type": "stream",
     "text": [
      "name : point roberts food bank\n",
      "address_1 : 323 evergreen way\n",
      "address_2 : \n",
      "city : point roberts\n",
      "state_province : wa\n",
      "postal_code : 98281\n",
      "url : http://www.harmonywebdesigns.com/pointrobertschurch/announcements.htm\n",
      "\n",
      "name : point roberts food bank\n",
      "address_1 : 1480 gulf rd\n",
      "address_2 : \n",
      "city : point roberts\n",
      "state_province : wa\n",
      "postal_code : 98281\n",
      "url : \n",
      "\n",
      "61/10 positive, 70/10 negative\n",
      "Do these records refer to the same thing?\n",
      "(y)es / (n)o / (u)nsure / (f)inished / (p)revious\n"
     ]
    },
    {
     "name": "stdout",
     "output_type": "stream",
     "text": [
      "n\n"
     ]
    },
    {
     "name": "stderr",
     "output_type": "stream",
     "text": [
      "name : whatcom county sheriff's office\n",
      "address_1 : 311 grand avenue\n",
      "address_2 : \n",
      "city : bellingham\n",
      "state_province : wa\n",
      "postal_code : 98225\n",
      "url : http://www.co.whatcom.wa.us/sheriff/\n",
      "\n",
      "name : whatcom county courts\n",
      "address_1 : 311 grand avenue\n",
      "address_2 : suite 301\n",
      "city : bellingham\n",
      "state_province : wa\n",
      "postal_code : 98225\n",
      "url : http://www.courts.wa.gov/court_dir/orgs/296.html\n",
      "\n",
      "61/10 positive, 71/10 negative\n",
      "Do these records refer to the same thing?\n",
      "(y)es / (n)o / (u)nsure / (f)inished / (p)revious\n"
     ]
    },
    {
     "name": "stdout",
     "output_type": "stream",
     "text": [
      "n\n"
     ]
    },
    {
     "name": "stderr",
     "output_type": "stream",
     "text": [
      "name : whatcom county health department\n",
      "address_1 : 1500 north state street\n",
      "address_2 : \n",
      "city : bellingham\n",
      "state_province : wa\n",
      "postal_code : 98225\n",
      "url : http://www.whatcomcounty.us/360/health-department\n",
      "\n",
      "name : whatcom county courts\n",
      "address_1 : 1020 north state street\n",
      "address_2 : \n",
      "city : bellingham\n",
      "state_province : wa\n",
      "postal_code : 98225\n",
      "url : http://www.courts.wa.gov/court_dir/orgs/296.html\n",
      "\n",
      "61/10 positive, 72/10 negative\n",
      "Do these records refer to the same thing?\n",
      "(y)es / (n)o / (u)nsure / (f)inished / (p)revious\n"
     ]
    },
    {
     "name": "stdout",
     "output_type": "stream",
     "text": [
      "n\n"
     ]
    },
    {
     "name": "stderr",
     "output_type": "stream",
     "text": [
      "name : whatcom county health department\n",
      "address_1 : 1500 north state street\n",
      "address_2 : \n",
      "city : bellingham\n",
      "state_province : wa\n",
      "postal_code : 98225\n",
      "url : http://www.whatcomcounty.us/360/health-department\n",
      "\n",
      "name : whatcom county courts\n",
      "address_1 : 1020 north state street\n",
      "address_2 : \n",
      "city : bellingham\n",
      "state_province : wa\n",
      "postal_code : 98225\n",
      "url : http://www.courts.wa.gov/court_dir/orgs/296.html\n",
      "\n",
      "61/10 positive, 73/10 negative\n",
      "Do these records refer to the same thing?\n",
      "(y)es / (n)o / (u)nsure / (f)inished / (p)revious\n"
     ]
    },
    {
     "name": "stdout",
     "output_type": "stream",
     "text": [
      "n\n"
     ]
    },
    {
     "name": "stderr",
     "output_type": "stream",
     "text": [
      "name : point roberts food bank\n",
      "address_1 : 323 evergreen way\n",
      "address_2 : \n",
      "city : point roberts\n",
      "state_province : wa\n",
      "postal_code : 98281\n",
      "url : http://www.harmonywebdesigns.com/pointrobertschurch/announcements.htm\n",
      "\n",
      "name : point roberts food bank\n",
      "address_1 : 1480 gulf rd\n",
      "address_2 : \n",
      "city : point roberts\n",
      "state_province : wa\n",
      "postal_code : 98281\n",
      "url : \n",
      "\n",
      "61/10 positive, 74/10 negative\n",
      "Do these records refer to the same thing?\n",
      "(y)es / (n)o / (u)nsure / (f)inished / (p)revious\n"
     ]
    },
    {
     "name": "stdout",
     "output_type": "stream",
     "text": [
      "n\n"
     ]
    },
    {
     "name": "stderr",
     "output_type": "stream",
     "text": [
      "name : bellingham public library\n",
      "address_1 : 3111 newmarket street\n",
      "address_2 : suite 103\n",
      "city : bellingham\n",
      "state_province : wa\n",
      "postal_code : 98226\n",
      "url : http://www.bellinghampubliclibrary.org\n",
      "\n",
      "name : bellingham public library\n",
      "address_1 : 210 central aven\n",
      "address_2 : \n",
      "city : bellingham\n",
      "state_province : wa\n",
      "postal_code : 98227\n",
      "url : \n",
      "\n",
      "61/10 positive, 75/10 negative\n",
      "Do these records refer to the same thing?\n",
      "(y)es / (n)o / (u)nsure / (f)inished / (p)revious\n"
     ]
    },
    {
     "name": "stdout",
     "output_type": "stream",
     "text": [
      "n\n"
     ]
    },
    {
     "name": "stderr",
     "output_type": "stream",
     "text": [
      "name : whatcom county courts\n",
      "address_1 : 311 grand avenue\n",
      "address_2 : suite 501\n",
      "city : bellingham\n",
      "state_province : wa\n",
      "postal_code : 98225\n",
      "url : http://www.courts.wa.gov/court_dir/orgs/296.html\n",
      "\n",
      "name : whatcom county sheriff's office\n",
      "address_1 : 311 grand ave\n",
      "address_2 : \n",
      "city : bellingham\n",
      "state_province : wa\n",
      "postal_code : 98225\n",
      "url : http://www.co.whatcom.wa.us/sheriff/\n",
      "\n",
      "61/10 positive, 76/10 negative\n",
      "Do these records refer to the same thing?\n",
      "(y)es / (n)o / (u)nsure / (f)inished / (p)revious\n"
     ]
    },
    {
     "name": "stdout",
     "output_type": "stream",
     "text": [
      "n\n"
     ]
    },
    {
     "name": "stderr",
     "output_type": "stream",
     "text": [
      "name : whatcom county courts\n",
      "address_1 : 311 grand avenue\n",
      "address_2 : suite 401\n",
      "city : bellingham\n",
      "state_province : wa\n",
      "postal_code : 98225\n",
      "url : http://www.courts.wa.gov/court_dir/orgs/296.html\n",
      "\n",
      "name : whatcom county sheriff's office\n",
      "address_1 : 311 grand ave\n",
      "address_2 : \n",
      "city : bellingham\n",
      "state_province : wa\n",
      "postal_code : 98225\n",
      "url : http://www.co.whatcom.wa.us/sheriff/\n",
      "\n",
      "61/10 positive, 77/10 negative\n",
      "Do these records refer to the same thing?\n",
      "(y)es / (n)o / (u)nsure / (f)inished / (p)revious\n"
     ]
    },
    {
     "name": "stdout",
     "output_type": "stream",
     "text": [
      "n\n"
     ]
    },
    {
     "name": "stderr",
     "output_type": "stream",
     "text": [
      "name : whatcom county courts\n",
      "address_1 : 5694 2nd avenue\n",
      "address_2 : \n",
      "city : ferndale\n",
      "state_province : wa\n",
      "postal_code : 98248\n",
      "url : http://www.courts.wa.gov/court_dir/orgs/296.html\n",
      "\n",
      "name : ferndale community service cooperative - resource center\n",
      "address_1 : 5694 2nd aven\n",
      "address_2 : \n",
      "city : ferndale\n",
      "state_province : wa\n",
      "postal_code : 98248\n",
      "url : \n",
      "\n",
      "61/10 positive, 78/10 negative\n",
      "Do these records refer to the same thing?\n",
      "(y)es / (n)o / (u)nsure / (f)inished / (p)revious\n"
     ]
    },
    {
     "name": "stdout",
     "output_type": "stream",
     "text": [
      "n\n"
     ]
    },
    {
     "name": "stderr",
     "output_type": "stream",
     "text": [
      "name : point roberts food bank\n",
      "address_1 : 323 evergreen way\n",
      "address_2 : \n",
      "city : point roberts\n",
      "state_province : wa\n",
      "postal_code : 98281\n",
      "url : http://www.harmonywebdesigns.com/pointrobertschurch/announcements.htm\n",
      "\n",
      "name : point roberts food bank\n",
      "address_1 : 1480 gulf rd\n",
      "address_2 : \n",
      "city : point roberts\n",
      "state_province : wa\n",
      "postal_code : 98281\n",
      "url : \n",
      "\n",
      "61/10 positive, 79/10 negative\n",
      "Do these records refer to the same thing?\n",
      "(y)es / (n)o / (u)nsure / (f)inished / (p)revious\n"
     ]
    },
    {
     "name": "stdout",
     "output_type": "stream",
     "text": [
      "n\n"
     ]
    },
    {
     "name": "stderr",
     "output_type": "stream",
     "text": [
      "name : community assistance program\n",
      "address_1 : 382 boblett street\n",
      "address_2 : \n",
      "city : blaine\n",
      "state_province : wa\n",
      "postal_code : 98230\n",
      "url : http://blainecap.org\n",
      "\n",
      "name : community assistance program\n",
      "address_1 : 902 adelia street\n",
      "address_2 : \n",
      "city : blaine\n",
      "state_province : wa\n",
      "postal_code : 98230\n",
      "url : http://blainecap.org\n",
      "\n",
      "61/10 positive, 80/10 negative\n",
      "Do these records refer to the same thing?\n",
      "(y)es / (n)o / (u)nsure / (f)inished / (p)revious\n"
     ]
    },
    {
     "name": "stdout",
     "output_type": "stream",
     "text": [
      "n\n"
     ]
    },
    {
     "name": "stderr",
     "output_type": "stream",
     "text": [
      "name : whatcom county sheriff's office\n",
      "address_1 : 311 grand avenue\n",
      "address_2 : \n",
      "city : bellingham\n",
      "state_province : wa\n",
      "postal_code : 98225\n",
      "url : http://www.co.whatcom.wa.us/sheriff/\n",
      "\n",
      "name : whatcom county courts\n",
      "address_1 : 311 grand ave\n",
      "address_2 : suite 301\n",
      "city : bellingham\n",
      "state_province : wa\n",
      "postal_code : 98225\n",
      "url : http://www.courts.wa.gov/court_dir/orgs/296.html\n",
      "\n",
      "61/10 positive, 81/10 negative\n",
      "Do these records refer to the same thing?\n",
      "(y)es / (n)o / (u)nsure / (f)inished / (p)revious\n"
     ]
    },
    {
     "name": "stdout",
     "output_type": "stream",
     "text": [
      "n\n"
     ]
    },
    {
     "name": "stderr",
     "output_type": "stream",
     "text": [
      "name : whatcom county courts\n",
      "address_1 : 311 grand avenue\n",
      "address_2 : suite 501\n",
      "city : bellingham\n",
      "state_province : wa\n",
      "postal_code : 98225\n",
      "url : http://www.courts.wa.gov/court_dir/orgs/296.html\n",
      "\n",
      "name : whatcom county sheriff's office\n",
      "address_1 : 311 grand ave\n",
      "address_2 : \n",
      "city : bellingham\n",
      "state_province : wa\n",
      "postal_code : 98225\n",
      "url : http://www.co.whatcom.wa.us/sheriff/\n",
      "\n",
      "61/10 positive, 82/10 negative\n",
      "Do these records refer to the same thing?\n",
      "(y)es / (n)o / (u)nsure / (f)inished / (p)revious\n"
     ]
    },
    {
     "name": "stdout",
     "output_type": "stream",
     "text": [
      "n\n"
     ]
    },
    {
     "name": "stderr",
     "output_type": "stream",
     "text": [
      "name : whatcom county courts\n",
      "address_1 : 311 grand avenue\n",
      "address_2 : suite 401\n",
      "city : bellingham\n",
      "state_province : wa\n",
      "postal_code : 98225\n",
      "url : http://www.courts.wa.gov/court_dir/orgs/296.html\n",
      "\n",
      "name : whatcom county sheriff's office\n",
      "address_1 : 311 grand ave\n",
      "address_2 : \n",
      "city : bellingham\n",
      "state_province : wa\n",
      "postal_code : 98225\n",
      "url : http://www.co.whatcom.wa.us/sheriff/\n",
      "\n",
      "61/10 positive, 83/10 negative\n",
      "Do these records refer to the same thing?\n",
      "(y)es / (n)o / (u)nsure / (f)inished / (p)revious\n"
     ]
    },
    {
     "name": "stdout",
     "output_type": "stream",
     "text": [
      "n\n"
     ]
    },
    {
     "name": "stderr",
     "output_type": "stream",
     "text": [
      "name : united way of whatcom county\n",
      "address_1 : 1500 cornwall ave. ste 203\n",
      "address_2 : \n",
      "city : bellingham\n",
      "state_province : wa\n",
      "postal_code : 98225\n",
      "url : http://www.unitedwaywhatcom.org\n",
      "\n",
      "name : united way of whatcom county\n",
      "address_1 : 1500 cornwall avenue\n",
      "address_2 : suite 203\n",
      "city : bellingham\n",
      "state_province : wa\n",
      "postal_code : 98225\n",
      "url : http://www.unitedwaywhatcom.org\n",
      "\n",
      "61/10 positive, 84/10 negative\n",
      "Do these records refer to the same thing?\n",
      "(y)es / (n)o / (u)nsure / (f)inished / (p)revious\n"
     ]
    },
    {
     "name": "stdout",
     "output_type": "stream",
     "text": [
      "y\n"
     ]
    },
    {
     "name": "stderr",
     "output_type": "stream",
     "text": [
      "name : catholic community services of western washington in whatcom county\n",
      "address_1 : 1133 railroad avenue\n",
      "address_2 : suite 100\n",
      "city : bellingham\n",
      "state_province : wa\n",
      "postal_code : 98225\n",
      "url : http://www.ccsww.org\n",
      "\n",
      "name : catholic community services of western washington in whatcom county\n",
      "address_1 : 1133 railroad ave no  100\n",
      "address_2 : \n",
      "city : bellingham\n",
      "state_province : wa\n",
      "postal_code : 98225\n",
      "url : http://www.ccsww.org\n",
      "\n",
      "62/10 positive, 84/10 negative\n",
      "Do these records refer to the same thing?\n",
      "(y)es / (n)o / (u)nsure / (f)inished / (p)revious\n"
     ]
    },
    {
     "name": "stdout",
     "output_type": "stream",
     "text": [
      "y\n"
     ]
    },
    {
     "name": "stderr",
     "output_type": "stream",
     "text": [
      "name : unity care northwest\n",
      "address_1 : 220 unity street\n",
      "address_2 : \n",
      "city : bellingham\n",
      "state_province : wa\n",
      "postal_code : 98225\n",
      "url : http://unitycarenw.org\n",
      "\n",
      "name : unity care nw (bellingham health center)\n",
      "address_1 : 220 unity st\n",
      "address_2 : \n",
      "city : bellingham\n",
      "state_province : wa\n",
      "postal_code : 98225\n",
      "url : \n",
      "\n",
      "63/10 positive, 84/10 negative\n",
      "Do these records refer to the same thing?\n",
      "(y)es / (n)o / (u)nsure / (f)inished / (p)revious\n"
     ]
    },
    {
     "name": "stdout",
     "output_type": "stream",
     "text": [
      "y\n"
     ]
    },
    {
     "name": "stderr",
     "output_type": "stream",
     "text": [
      "name : unity care northwest\n",
      "address_1 : 220 unity street\n",
      "address_2 : \n",
      "city : bellingham\n",
      "state_province : wa\n",
      "postal_code : 98225\n",
      "url : http://unitycarenw.org\n",
      "\n",
      "name : unity care nw (bellingham health center)\n",
      "address_1 : 220 unity st\n",
      "address_2 : \n",
      "city : bellingham\n",
      "state_province : wa\n",
      "postal_code : 98225\n",
      "url : \n",
      "\n",
      "64/10 positive, 84/10 negative\n",
      "Do these records refer to the same thing?\n",
      "(y)es / (n)o / (u)nsure / (f)inished / (p)revious\n"
     ]
    },
    {
     "name": "stdout",
     "output_type": "stream",
     "text": [
      "y\n"
     ]
    },
    {
     "name": "stderr",
     "output_type": "stream",
     "text": [
      "name : whatcom county sheriff's office\n",
      "address_1 : 311 grand avenue\n",
      "address_2 : \n",
      "city : bellingham\n",
      "state_province : wa\n",
      "postal_code : 98225\n",
      "url : http://www.co.whatcom.wa.us/sheriff/\n",
      "\n",
      "name : whatcom county courts\n",
      "address_1 : 311 grand ave\n",
      "address_2 : suite 301\n",
      "city : bellingham\n",
      "state_province : wa\n",
      "postal_code : 98225\n",
      "url : http://www.courts.wa.gov/court_dir/orgs/296.html\n",
      "\n",
      "65/10 positive, 84/10 negative\n",
      "Do these records refer to the same thing?\n",
      "(y)es / (n)o / (u)nsure / (f)inished / (p)revious\n"
     ]
    },
    {
     "name": "stdout",
     "output_type": "stream",
     "text": [
      "n\n"
     ]
    },
    {
     "name": "stderr",
     "output_type": "stream",
     "text": [
      "name : whatcom county courts\n",
      "address_1 : 5694 2nd avenue\n",
      "address_2 : \n",
      "city : ferndale\n",
      "state_province : wa\n",
      "postal_code : 98248\n",
      "url : http://www.courts.wa.gov/court_dir/orgs/296.html\n",
      "\n",
      "name : ferndale community service cooperative - resource center\n",
      "address_1 : 5694 2nd ave\n",
      "address_2 : \n",
      "city : ferndale\n",
      "state_province : wa\n",
      "postal_code : 98248\n",
      "url : \n",
      "\n",
      "65/10 positive, 85/10 negative\n",
      "Do these records refer to the same thing?\n",
      "(y)es / (n)o / (u)nsure / (f)inished / (p)revious\n"
     ]
    },
    {
     "name": "stdout",
     "output_type": "stream",
     "text": [
      "n\n"
     ]
    },
    {
     "name": "stderr",
     "output_type": "stream",
     "text": [
      "name : whatcom county courts\n",
      "address_1 : 311 grand avenue\n",
      "address_2 : suite 301\n",
      "city : bellingham\n",
      "state_province : wa\n",
      "postal_code : 98225\n",
      "url : http://www.courts.wa.gov/court_dir/orgs/296.html\n",
      "\n",
      "name : whatcom county sheriff's office\n",
      "address_1 : 311 grand ave\n",
      "address_2 : \n",
      "city : bellingham\n",
      "state_province : wa\n",
      "postal_code : 98225\n",
      "url : http://www.co.whatcom.wa.us/sheriff/\n",
      "\n",
      "65/10 positive, 86/10 negative\n",
      "Do these records refer to the same thing?\n",
      "(y)es / (n)o / (u)nsure / (f)inished / (p)revious\n"
     ]
    },
    {
     "name": "stdout",
     "output_type": "stream",
     "text": [
      "n\n"
     ]
    },
    {
     "name": "stderr",
     "output_type": "stream",
     "text": [
      "name : whatcom county courts\n",
      "address_1 : 311 grand avenue\n",
      "address_2 : suite 501\n",
      "city : bellingham\n",
      "state_province : wa\n",
      "postal_code : 98225\n",
      "url : http://www.courts.wa.gov/court_dir/orgs/296.html\n",
      "\n",
      "name : whatcom county sheriff's office\n",
      "address_1 : 311 grand ave\n",
      "address_2 : \n",
      "city : bellingham\n",
      "state_province : wa\n",
      "postal_code : 98225\n",
      "url : http://www.co.whatcom.wa.us/sheriff/\n",
      "\n",
      "65/10 positive, 87/10 negative\n",
      "Do these records refer to the same thing?\n",
      "(y)es / (n)o / (u)nsure / (f)inished / (p)revious\n"
     ]
    },
    {
     "name": "stdout",
     "output_type": "stream",
     "text": [
      "n\n"
     ]
    },
    {
     "name": "stderr",
     "output_type": "stream",
     "text": [
      "name : whatcom county courts\n",
      "address_1 : 311 grand avenue\n",
      "address_2 : suite 501\n",
      "city : bellingham\n",
      "state_province : wa\n",
      "postal_code : 98225\n",
      "url : http://www.courts.wa.gov/court_dir/orgs/296.html\n",
      "\n",
      "name : whatcom county sheriff's office\n",
      "address_1 : 311 grand ave\n",
      "address_2 : \n",
      "city : bellingham\n",
      "state_province : wa\n",
      "postal_code : 98225\n",
      "url : http://www.co.whatcom.wa.us/sheriff/\n",
      "\n",
      "65/10 positive, 88/10 negative\n",
      "Do these records refer to the same thing?\n",
      "(y)es / (n)o / (u)nsure / (f)inished / (p)revious\n"
     ]
    },
    {
     "name": "stdout",
     "output_type": "stream",
     "text": [
      "n\n"
     ]
    },
    {
     "name": "stderr",
     "output_type": "stream",
     "text": [
      "name : whatcom county sheriff's office\n",
      "address_1 : 311 grand avenue\n",
      "address_2 : \n",
      "city : bellingham\n",
      "state_province : wa\n",
      "postal_code : 98225\n",
      "url : http://www.co.whatcom.wa.us/sheriff/\n",
      "\n",
      "name : whatcom county courts\n",
      "address_1 : 311 grand ave\n",
      "address_2 : suite 501\n",
      "city : bellingham\n",
      "state_province : wa\n",
      "postal_code : 98225\n",
      "url : http://www.courts.wa.gov/court_dir/orgs/296.html\n",
      "\n",
      "65/10 positive, 89/10 negative\n",
      "Do these records refer to the same thing?\n",
      "(y)es / (n)o / (u)nsure / (f)inished / (p)revious\n"
     ]
    },
    {
     "name": "stdout",
     "output_type": "stream",
     "text": [
      "n\n"
     ]
    },
    {
     "name": "stderr",
     "output_type": "stream",
     "text": [
      "name : whatcom county sheriff's office\n",
      "address_1 : 311 grand avenue\n",
      "address_2 : \n",
      "city : bellingham\n",
      "state_province : wa\n",
      "postal_code : 98225\n",
      "url : http://www.co.whatcom.wa.us/sheriff/\n",
      "\n",
      "name : whatcom county courts\n",
      "address_1 : 311 grand ave\n",
      "address_2 : suite 501\n",
      "city : bellingham\n",
      "state_province : wa\n",
      "postal_code : 98225\n",
      "url : http://www.courts.wa.gov/court_dir/orgs/296.html\n",
      "\n",
      "65/10 positive, 90/10 negative\n",
      "Do these records refer to the same thing?\n",
      "(y)es / (n)o / (u)nsure / (f)inished / (p)revious\n"
     ]
    },
    {
     "name": "stdout",
     "output_type": "stream",
     "text": [
      "n\n"
     ]
    },
    {
     "name": "stderr",
     "output_type": "stream",
     "text": [
      "name : whatcom county courts\n",
      "address_1 : 311 grand avenue\n",
      "address_2 : suite 301\n",
      "city : bellingham\n",
      "state_province : wa\n",
      "postal_code : 98225\n",
      "url : http://www.courts.wa.gov/court_dir/orgs/296.html\n",
      "\n",
      "name : whatcom county sheriff's office\n",
      "address_1 : 311 grand ave\n",
      "address_2 : \n",
      "city : bellingham\n",
      "state_province : wa\n",
      "postal_code : 98225\n",
      "url : http://www.co.whatcom.wa.us/sheriff/\n",
      "\n",
      "65/10 positive, 91/10 negative\n",
      "Do these records refer to the same thing?\n",
      "(y)es / (n)o / (u)nsure / (f)inished / (p)revious\n"
     ]
    },
    {
     "name": "stdout",
     "output_type": "stream",
     "text": [
      "n\n"
     ]
    },
    {
     "name": "stderr",
     "output_type": "stream",
     "text": [
      "name : whatcom county courts\n",
      "address_1 : 311 grand avenue\n",
      "address_2 : suite 401\n",
      "city : bellingham\n",
      "state_province : wa\n",
      "postal_code : 98225\n",
      "url : http://www.courts.wa.gov/court_dir/orgs/296.html\n",
      "\n",
      "name : whatcom county sheriff's office\n",
      "address_1 : 311 grand ave\n",
      "address_2 : \n",
      "city : bellingham\n",
      "state_province : wa\n",
      "postal_code : 98225\n",
      "url : http://www.co.whatcom.wa.us/sheriff/\n",
      "\n",
      "65/10 positive, 92/10 negative\n",
      "Do these records refer to the same thing?\n",
      "(y)es / (n)o / (u)nsure / (f)inished / (p)revious\n"
     ]
    },
    {
     "name": "stdout",
     "output_type": "stream",
     "text": [
      "n\n"
     ]
    },
    {
     "name": "stderr",
     "output_type": "stream",
     "text": [
      "name : bellingham food bank\n",
      "address_1 : 1824 ellis street\n",
      "address_2 : \n",
      "city : bellingham\n",
      "state_province : wa\n",
      "postal_code : 98225\n",
      "url : http://bellinghamfoodbank.org\n",
      "\n",
      "name : bellingham food bank\n",
      "address_1 : 1175 jersey street\n",
      "address_2 : \n",
      "city : bellingham\n",
      "state_province : wa\n",
      "postal_code : 98225\n",
      "url : http://bellinghamfoodbank.org\n",
      "\n",
      "65/10 positive, 93/10 negative\n",
      "Do these records refer to the same thing?\n",
      "(y)es / (n)o / (u)nsure / (f)inished / (p)revious\n"
     ]
    },
    {
     "name": "stdout",
     "output_type": "stream",
     "text": [
      "n\n"
     ]
    },
    {
     "name": "stderr",
     "output_type": "stream",
     "text": [
      "name : catholic community services of western washington in whatcom county\n",
      "address_1 : 1133 railroad avenue\n",
      "address_2 : suite 100\n",
      "city : bellingham\n",
      "state_province : wa\n",
      "postal_code : 98225\n",
      "url : http://www.ccsww.org\n",
      "\n",
      "name : catholic community services of western washington in whatcom county\n",
      "address_1 : 1133 railroad ave no  100\n",
      "address_2 : \n",
      "city : bellingham\n",
      "state_province : wa\n",
      "postal_code : 98225\n",
      "url : http://www.ccsww.org\n",
      "\n",
      "65/10 positive, 94/10 negative\n",
      "Do these records refer to the same thing?\n",
      "(y)es / (n)o / (u)nsure / (f)inished / (p)revious\n"
     ]
    },
    {
     "name": "stdout",
     "output_type": "stream",
     "text": [
      "y\n"
     ]
    },
    {
     "name": "stderr",
     "output_type": "stream",
     "text": [
      "name : hope house\n",
      "address_1 : 1133 railroad avenue\n",
      "address_2 : #100\n",
      "city : bellingham\n",
      "state_province : wa\n",
      "postal_code : 98225\n",
      "url : https://www.assumption.org/hope-house.html\n",
      "\n",
      "name : catholic community services (whatcom county)\n",
      "address_1 : 1133 railroad ave,# 100\n",
      "address_2 : \n",
      "city : bellingham\n",
      "state_province : wa\n",
      "postal_code : 98225\n",
      "url : \n",
      "\n",
      "66/10 positive, 94/10 negative\n",
      "Do these records refer to the same thing?\n",
      "(y)es / (n)o / (u)nsure / (f)inished / (p)revious\n"
     ]
    },
    {
     "name": "stdout",
     "output_type": "stream",
     "text": [
      "y\n"
     ]
    },
    {
     "name": "stderr",
     "output_type": "stream",
     "text": [
      "name : hope house\n",
      "address_1 : 1133 railroad avenue\n",
      "address_2 : #100\n",
      "city : bellingham\n",
      "state_province : wa\n",
      "postal_code : 98225\n",
      "url : https://www.assumption.org/hope-house.html\n",
      "\n",
      "name : catholic community services (whatcom county)\n",
      "address_1 : 1133 railroad ave,# 100\n",
      "address_2 : \n",
      "city : bellingham\n",
      "state_province : wa\n",
      "postal_code : 98225\n",
      "url : \n",
      "\n",
      "67/10 positive, 94/10 negative\n",
      "Do these records refer to the same thing?\n",
      "(y)es / (n)o / (u)nsure / (f)inished / (p)revious\n"
     ]
    },
    {
     "name": "stdout",
     "output_type": "stream",
     "text": [
      "n\n"
     ]
    },
    {
     "name": "stderr",
     "output_type": "stream",
     "text": [
      "name : whatcom county courts\n",
      "address_1 : 311 grand avenue\n",
      "address_2 : suite 301\n",
      "city : bellingham\n",
      "state_province : wa\n",
      "postal_code : 98225\n",
      "url : http://www.courts.wa.gov/court_dir/orgs/296.html\n",
      "\n",
      "name : whatcom county sheriff's office\n",
      "address_1 : 311 grand ave\n",
      "address_2 : \n",
      "city : bellingham\n",
      "state_province : wa\n",
      "postal_code : 98225\n",
      "url : http://www.co.whatcom.wa.us/sheriff/\n",
      "\n",
      "67/10 positive, 95/10 negative\n",
      "Do these records refer to the same thing?\n",
      "(y)es / (n)o / (u)nsure / (f)inished / (p)revious\n"
     ]
    },
    {
     "name": "stdout",
     "output_type": "stream",
     "text": [
      "n\n"
     ]
    },
    {
     "name": "stderr",
     "output_type": "stream",
     "text": [
      "name : whatcom county courts\n",
      "address_1 : 311 grand avenue\n",
      "address_2 : suite 401\n",
      "city : bellingham\n",
      "state_province : wa\n",
      "postal_code : 98225\n",
      "url : http://www.courts.wa.gov/court_dir/orgs/296.html\n",
      "\n",
      "name : whatcom county sheriff's office\n",
      "address_1 : 311 grand ave\n",
      "address_2 : \n",
      "city : bellingham\n",
      "state_province : wa\n",
      "postal_code : 98225\n",
      "url : http://www.co.whatcom.wa.us/sheriff/\n",
      "\n",
      "67/10 positive, 96/10 negative\n",
      "Do these records refer to the same thing?\n",
      "(y)es / (n)o / (u)nsure / (f)inished / (p)revious\n"
     ]
    },
    {
     "name": "stdout",
     "output_type": "stream",
     "text": [
      "n\n"
     ]
    },
    {
     "name": "stderr",
     "output_type": "stream",
     "text": [
      "name : whatcom county courts\n",
      "address_1 : 311 grand avenue\n",
      "address_2 : suite 301\n",
      "city : bellingham\n",
      "state_province : wa\n",
      "postal_code : 98225\n",
      "url : http://www.courts.wa.gov/court_dir/orgs/296.html\n",
      "\n",
      "name : whatcom county sheriff's office\n",
      "address_1 : 311 grand ave\n",
      "address_2 : \n",
      "city : bellingham\n",
      "state_province : wa\n",
      "postal_code : 98225\n",
      "url : http://www.co.whatcom.wa.us/sheriff/\n",
      "\n",
      "67/10 positive, 97/10 negative\n",
      "Do these records refer to the same thing?\n",
      "(y)es / (n)o / (u)nsure / (f)inished / (p)revious\n"
     ]
    },
    {
     "name": "stdout",
     "output_type": "stream",
     "text": [
      "n\n"
     ]
    },
    {
     "name": "stderr",
     "output_type": "stream",
     "text": [
      "name : depressive and bipolar support alliance whatcom county\n",
      "address_1 : 800 chestnut str.\n",
      "address_2 : suite 1c\n",
      "city : bellingham\n",
      "state_province : wa\n",
      "postal_code : 98225\n",
      "url : \n",
      "\n",
      "name : depressive and bipolar support alliance whatcom county\n",
      "address_1 : po box 4124\n",
      "address_2 : \n",
      "city : bellingham\n",
      "state_province : wa\n",
      "postal_code : 98227\n",
      "url : http://www.dbsalliance.org\n",
      "\n",
      "67/10 positive, 98/10 negative\n",
      "Do these records refer to the same thing?\n",
      "(y)es / (n)o / (u)nsure / (f)inished / (p)revious\n"
     ]
    },
    {
     "name": "stdout",
     "output_type": "stream",
     "text": [
      "n\n"
     ]
    },
    {
     "name": "stderr",
     "output_type": "stream",
     "text": [
      "name : north sound cooling centers\n",
      "address_1 : 216 4th street\n",
      "address_2 : \n",
      "city : lynden\n",
      "state_province : wa\n",
      "postal_code : 98264\n",
      "url : \n",
      "\n",
      "name : north sound cooling centers\n",
      "address_1 : 401 grover street\n",
      "address_2 : \n",
      "city : lynden\n",
      "state_province : wa\n",
      "postal_code : 98264\n",
      "url : \n",
      "\n",
      "67/10 positive, 99/10 negative\n",
      "Do these records refer to the same thing?\n",
      "(y)es / (n)o / (u)nsure / (f)inished / (p)revious\n"
     ]
    },
    {
     "name": "stdout",
     "output_type": "stream",
     "text": [
      "n\n"
     ]
    },
    {
     "name": "stderr",
     "output_type": "stream",
     "text": [
      "name : north sound cooling centers\n",
      "address_1 : 216 4th street\n",
      "address_2 : \n",
      "city : lynden\n",
      "state_province : wa\n",
      "postal_code : 98264\n",
      "url : \n",
      "\n",
      "name : north sound cooling centers\n",
      "address_1 : 401 grover street\n",
      "address_2 : \n",
      "city : lynden\n",
      "state_province : wa\n",
      "postal_code : 98264\n",
      "url : \n",
      "\n",
      "67/10 positive, 100/10 negative\n",
      "Do these records refer to the same thing?\n",
      "(y)es / (n)o / (u)nsure / (f)inished / (p)revious\n"
     ]
    },
    {
     "name": "stdout",
     "output_type": "stream",
     "text": [
      "n\n"
     ]
    },
    {
     "name": "stderr",
     "output_type": "stream",
     "text": [
      "name : community assistance program\n",
      "address_1 : 902 adelia street\n",
      "address_2 : \n",
      "city : blaine\n",
      "state_province : wa\n",
      "postal_code : 98230\n",
      "url : http://blainecap.org\n",
      "\n",
      "name : community assistance program\n",
      "address_1 : 508 g street\n",
      "address_2 : \n",
      "city : blaine\n",
      "state_province : wa\n",
      "postal_code : 98230\n",
      "url : http://blainecap.org\n",
      "\n",
      "67/10 positive, 101/10 negative\n",
      "Do these records refer to the same thing?\n",
      "(y)es / (n)o / (u)nsure / (f)inished / (p)revious\n"
     ]
    },
    {
     "name": "stdout",
     "output_type": "stream",
     "text": [
      "n\n"
     ]
    },
    {
     "name": "stderr",
     "output_type": "stream",
     "text": [
      "name : bellingham food bank\n",
      "address_1 : 4173 meridian street\n",
      "address_2 : \n",
      "city : bellingham\n",
      "state_province : wa\n",
      "postal_code : 98226\n",
      "url : http://bellinghamfoodbank.org\n",
      "\n",
      "name : bellingham food bank\n",
      "address_1 : 1175 jersey st\n",
      "address_2 : \n",
      "city : bellingham\n",
      "state_province : wa\n",
      "postal_code : 98225\n",
      "url : http://bellinghamfoodbank.org\n",
      "\n",
      "67/10 positive, 102/10 negative\n",
      "Do these records refer to the same thing?\n",
      "(y)es / (n)o / (u)nsure / (f)inished / (p)revious\n"
     ]
    },
    {
     "name": "stdout",
     "output_type": "stream",
     "text": [
      "n\n"
     ]
    },
    {
     "name": "stderr",
     "output_type": "stream",
     "text": [
      "name : ywca of bellingham\n",
      "address_1 : 1026 n forest str\n",
      "address_2 : \n",
      "city : bellingham\n",
      "state_province : wa\n",
      "postal_code : 98225\n",
      "url : http://www.ywcabellingham.org\n",
      "\n",
      "name : ywca of bellingham\n",
      "address_1 : 1224 north state street\n",
      "address_2 : \n",
      "city : bellingham\n",
      "state_province : wa\n",
      "postal_code : 98225\n",
      "url : http://www.ywcabellingham.org\n",
      "\n",
      "67/10 positive, 103/10 negative\n",
      "Do these records refer to the same thing?\n",
      "(y)es / (n)o / (u)nsure / (f)inished / (p)revious\n"
     ]
    },
    {
     "name": "stdout",
     "output_type": "stream",
     "text": [
      "n\n"
     ]
    },
    {
     "name": "stderr",
     "output_type": "stream",
     "text": [
      "name : whatcom county courts\n",
      "address_1 : 5694 2nd ave.\n",
      "address_2 : \n",
      "city : ferndale\n",
      "state_province : wa\n",
      "postal_code : 98248\n",
      "url : http://www.courts.wa.gov/court_dir/orgs/296.html\n",
      "\n",
      "name : ferndale community service cooperative - resource center\n",
      "address_1 : 5694 2nd aven\n",
      "address_2 : \n",
      "city : ferndale\n",
      "state_province : wa\n",
      "postal_code : 98248\n",
      "url : \n",
      "\n",
      "67/10 positive, 104/10 negative\n",
      "Do these records refer to the same thing?\n",
      "(y)es / (n)o / (u)nsure / (f)inished / (p)revious\n"
     ]
    },
    {
     "name": "stdout",
     "output_type": "stream",
     "text": [
      "n\n"
     ]
    },
    {
     "name": "stderr",
     "output_type": "stream",
     "text": [
      "name : arc of whatcom county\n",
      "address_1 : 2602 mcleod road\n",
      "address_2 : \n",
      "city : bellingham\n",
      "state_province : wa\n",
      "postal_code : 98225\n",
      "url : http://www.arcwhatcom.org\n",
      "\n",
      "name : down syndrome outreach of whatcom county\n",
      "address_1 : 2602 mcleod road\n",
      "address_2 : \n",
      "city : bellingham\n",
      "state_province : wa\n",
      "postal_code : 98225\n",
      "url : \n",
      "\n",
      "67/10 positive, 105/10 negative\n",
      "Do these records refer to the same thing?\n",
      "(y)es / (n)o / (u)nsure / (f)inished / (p)revious\n"
     ]
    },
    {
     "name": "stdout",
     "output_type": "stream",
     "text": [
      "u\n"
     ]
    },
    {
     "name": "stderr",
     "output_type": "stream",
     "text": [
      "name : whatcom county courts\n",
      "address_1 : 2014 c street\n",
      "address_2 : \n",
      "city : bellingham\n",
      "state_province : wa\n",
      "postal_code : 98225\n",
      "url : http://www.courts.wa.gov/court_dir/orgs/296.html\n",
      "\n",
      "name : whatcom county courts\n",
      "address_1 : 1020 n state st\n",
      "address_2 : \n",
      "city : bellingham\n",
      "state_province : wa\n",
      "postal_code : 98225\n",
      "url : http://www.courts.wa.gov/court_dir/orgs/296.html\n",
      "\n",
      "67/10 positive, 105/10 negative\n",
      "Do these records refer to the same thing?\n",
      "(y)es / (n)o / (u)nsure / (f)inished / (p)revious\n"
     ]
    },
    {
     "name": "stdout",
     "output_type": "stream",
     "text": [
      "n\n"
     ]
    },
    {
     "name": "stderr",
     "output_type": "stream",
     "text": [
      "name : arc of whatcom county\n",
      "address_1 : 2602 mcleod rd\n",
      "address_2 : \n",
      "city : bellingham\n",
      "state_province : wa\n",
      "postal_code : 98225\n",
      "url : http://www.arcwhatcom.org\n",
      "\n",
      "name : down syndrome outreach of whatcom county\n",
      "address_1 : 2602 mcleod rd\n",
      "address_2 : \n",
      "city : bellingham\n",
      "state_province : wa\n",
      "postal_code : 98225\n",
      "url : \n",
      "\n",
      "68/10 positive, 107/10 negative\n",
      "Do these records refer to the same thing?\n",
      "(y)es / (n)o / (u)nsure / (f)inished / (p)revious\n"
     ]
    },
    {
     "name": "stdout",
     "output_type": "stream",
     "text": [
      "u\n"
     ]
    },
    {
     "name": "stderr",
     "output_type": "stream",
     "text": [
      "name : arc of whatcom county\n",
      "address_1 : 2602 mcleod road\n",
      "address_2 : \n",
      "city : bellingham\n",
      "state_province : wa\n",
      "postal_code : 98225\n",
      "url : http://www.arcwhatcom.org\n",
      "\n",
      "name : down syndrome outreach of whatcom county\n",
      "address_1 : 2602 mcleod road\n",
      "address_2 : \n",
      "city : bellingham\n",
      "state_province : wa\n",
      "postal_code : 98225\n",
      "url : \n",
      "\n",
      "68/10 positive, 107/10 negative\n",
      "Do these records refer to the same thing?\n",
      "(y)es / (n)o / (u)nsure / (f)inished / (p)revious\n"
     ]
    },
    {
     "name": "stdout",
     "output_type": "stream",
     "text": [
      "u\n"
     ]
    },
    {
     "name": "stderr",
     "output_type": "stream",
     "text": [
      "name : arc of whatcom county\n",
      "address_1 : 2602 mcleod rd.\n",
      "address_2 : \n",
      "city : bellingham\n",
      "state_province : wa\n",
      "postal_code : 98225\n",
      "url : http://www.arcwhatcom.org\n",
      "\n",
      "name : down syndrome outreach of whatcom county\n",
      "address_1 : 2602 mcleod rd\n",
      "address_2 : \n",
      "city : bellingham\n",
      "state_province : wa\n",
      "postal_code : 98225\n",
      "url : \n",
      "\n",
      "69/10 positive, 108/10 negative\n",
      "Do these records refer to the same thing?\n",
      "(y)es / (n)o / (u)nsure / (f)inished / (p)revious\n"
     ]
    },
    {
     "name": "stdout",
     "output_type": "stream",
     "text": [
      "u\n"
     ]
    },
    {
     "name": "stderr",
     "output_type": "stream",
     "text": [
      "name : project hope\n",
      "address_1 : 205 south british columbia avenue\n",
      "address_2 : suite 105\n",
      "city : lynden\n",
      "state_province : wa\n",
      "postal_code : 98264\n",
      "url : https://www.projecthopelynden.org\n",
      "\n",
      "name : project hope\n",
      "address_1 : 205 s british columbia ave\n",
      "address_2 : \n",
      "city : lynden\n",
      "state_province : wa\n",
      "postal_code : 98264\n",
      "url : https://www.projecthopelynden.org/project-hope-food-bank/\n",
      "\n",
      "70/10 positive, 109/10 negative\n",
      "Do these records refer to the same thing?\n",
      "(y)es / (n)o / (u)nsure / (f)inished / (p)revious\n"
     ]
    },
    {
     "name": "stdout",
     "output_type": "stream",
     "text": [
      "y\n"
     ]
    },
    {
     "name": "stderr",
     "output_type": "stream",
     "text": [
      "name : blue skies for children\n",
      "address_1 : 2505 cedarwood avenue\n",
      "address_2 : suite 5\n",
      "city : bellingham\n",
      "state_province : wa\n",
      "postal_code : 98225\n",
      "url : http://www.blueskiesforchildren.org\n",
      "\n",
      "name : blue skies for children\n",
      "address_1 : 2505 cedarwood ave suite 5\n",
      "address_2 : \n",
      "city : bellingham\n",
      "state_province : wa\n",
      "postal_code : 98225\n",
      "url : http://www.blueskiesforchildren.org\n",
      "\n",
      "72/10 positive, 110/10 negative\n",
      "Do these records refer to the same thing?\n",
      "(y)es / (n)o / (u)nsure / (f)inished / (p)revious\n"
     ]
    },
    {
     "name": "stdout",
     "output_type": "stream",
     "text": [
      "y\n"
     ]
    },
    {
     "name": "stderr",
     "output_type": "stream",
     "text": [
      "name : north sound cooling centers\n",
      "address_1 : 8251 kendall road\n",
      "address_2 : \n",
      "city : maple falls\n",
      "state_province : wa\n",
      "postal_code : 98266\n",
      "url : \n",
      "\n",
      "name : opportunity council - east whatcom regional resource center\n",
      "address_1 : 8251 kendall road\n",
      "address_2 : \n",
      "city : maple falls\n",
      "state_province : wa\n",
      "postal_code : 98266\n",
      "url : https://www.oppco.org/ewrrc\n",
      "\n",
      "73/10 positive, 110/10 negative\n",
      "Do these records refer to the same thing?\n",
      "(y)es / (n)o / (u)nsure / (f)inished / (p)revious\n"
     ]
    },
    {
     "name": "stdout",
     "output_type": "stream",
     "text": [
      "n\n"
     ]
    },
    {
     "name": "stderr",
     "output_type": "stream",
     "text": [
      "name : whatcom county\n",
      "address_1 : 311 grand ave.\n",
      "address_2 : \n",
      "city : bellingham\n",
      "state_province : wa\n",
      "postal_code : 98225\n",
      "url : http://www.co.whatcom.wa.us\n",
      "\n",
      "name : whatcom unified emergency coordination center\n",
      "address_1 : 311 grand avenue\n",
      "address_2 : \n",
      "city : bellingham\n",
      "state_province : wa\n",
      "postal_code : 98225\n",
      "url : http://www.whatcomready.org\n",
      "\n",
      "73/10 positive, 111/10 negative\n",
      "Do these records refer to the same thing?\n",
      "(y)es / (n)o / (u)nsure / (f)inished / (p)revious\n"
     ]
    },
    {
     "name": "stdout",
     "output_type": "stream",
     "text": [
      "n\n"
     ]
    },
    {
     "name": "stderr",
     "output_type": "stream",
     "text": [
      "name : arc of whatcom county\n",
      "address_1 : 2602 mcleod road\n",
      "address_2 : \n",
      "city : bellingham\n",
      "state_province : wa\n",
      "postal_code : 98225\n",
      "url : http://www.arcwhatcom.org\n",
      "\n",
      "name : down syndrome outreach of whatcom county\n",
      "address_1 : 2602 mcleod rd\n",
      "address_2 : \n",
      "city : bellingham\n",
      "state_province : wa\n",
      "postal_code : 98225\n",
      "url : \n",
      "\n",
      "73/10 positive, 112/10 negative\n",
      "Do these records refer to the same thing?\n",
      "(y)es / (n)o / (u)nsure / (f)inished / (p)revious\n"
     ]
    },
    {
     "name": "stdout",
     "output_type": "stream",
     "text": [
      "u\n"
     ]
    },
    {
     "name": "stderr",
     "output_type": "stream",
     "text": [
      "name : whatcom county courts\n",
      "address_1 : 1020 north state street\n",
      "address_2 : \n",
      "city : bellingham\n",
      "state_province : wa\n",
      "postal_code : 98225\n",
      "url : http://www.courts.wa.gov/court_dir/orgs/296.html\n",
      "\n",
      "name : whatcom county pregnancy clinic\n",
      "address_1 : 1310 north state street\n",
      "address_2 : \n",
      "city : bellingham\n",
      "state_province : wa\n",
      "postal_code : 98225\n",
      "url : http://www.whatcomclinic.com\n",
      "\n",
      "73/10 positive, 112/10 negative\n",
      "Do these records refer to the same thing?\n",
      "(y)es / (n)o / (u)nsure / (f)inished / (p)revious\n"
     ]
    },
    {
     "name": "stdout",
     "output_type": "stream",
     "text": [
      "n\n"
     ]
    },
    {
     "name": "stderr",
     "output_type": "stream",
     "text": [
      "name : whatcom county courts\n",
      "address_1 : 1020 north state street\n",
      "address_2 : \n",
      "city : bellingham\n",
      "state_province : wa\n",
      "postal_code : 98225\n",
      "url : http://www.courts.wa.gov/court_dir/orgs/296.html\n",
      "\n",
      "name : whatcom county pregnancy clinic\n",
      "address_1 : 1310 north state street\n",
      "address_2 : \n",
      "city : bellingham\n",
      "state_province : wa\n",
      "postal_code : 98225\n",
      "url : http://www.whatcomclinic.com\n",
      "\n",
      "74/10 positive, 114/10 negative\n",
      "Do these records refer to the same thing?\n",
      "(y)es / (n)o / (u)nsure / (f)inished / (p)revious\n"
     ]
    },
    {
     "name": "stdout",
     "output_type": "stream",
     "text": [
      "n\n"
     ]
    },
    {
     "name": "stderr",
     "output_type": "stream",
     "text": [
      "name : foothills food bank\n",
      "address_1 : 8255 kendall road\n",
      "address_2 : \n",
      "city : maple falls\n",
      "state_province : wa\n",
      "postal_code : 98266\n",
      "url : http://www.foothillsfoodbank.org\n",
      "\n",
      "name : food lifeline mobile food program in maple falls\n",
      "address_1 : 8251 kendall rd\n",
      "address_2 : \n",
      "city : maple falls\n",
      "state_province : wa\n",
      "postal_code : 98266\n",
      "url : \n",
      "\n",
      "74/10 positive, 115/10 negative\n",
      "Do these records refer to the same thing?\n",
      "(y)es / (n)o / (u)nsure / (f)inished / (p)revious\n"
     ]
    },
    {
     "name": "stdout",
     "output_type": "stream",
     "text": [
      "n\n"
     ]
    },
    {
     "name": "stderr",
     "output_type": "stream",
     "text": [
      "name : foothills food bank\n",
      "address_1 : 8255 kendall road\n",
      "address_2 : \n",
      "city : maple falls\n",
      "state_province : wa\n",
      "postal_code : 98266\n",
      "url : http://www.foothillsfoodbank.org\n",
      "\n",
      "name : food lifeline mobile food program in maple falls\n",
      "address_1 : 8251 kendall rd\n",
      "address_2 : \n",
      "city : maple falls\n",
      "state_province : wa\n",
      "postal_code : 98266\n",
      "url : \n",
      "\n",
      "74/10 positive, 116/10 negative\n",
      "Do these records refer to the same thing?\n",
      "(y)es / (n)o / (u)nsure / (f)inished / (p)revious\n"
     ]
    },
    {
     "name": "stdout",
     "output_type": "stream",
     "text": [
      "n\n"
     ]
    },
    {
     "name": "stderr",
     "output_type": "stream",
     "text": [
      "name : arc of whatcom county\n",
      "address_1 : 2602 mcleod rd.\n",
      "address_2 : \n",
      "city : bellingham\n",
      "state_province : wa\n",
      "postal_code : 98225\n",
      "url : http://www.arcwhatcom.org\n",
      "\n",
      "name : down syndrome outreach of whatcom county\n",
      "address_1 : 2602 mcleod road\n",
      "address_2 : \n",
      "city : bellingham\n",
      "state_province : wa\n",
      "postal_code : 98225\n",
      "url : \n",
      "\n",
      "74/10 positive, 117/10 negative\n",
      "Do these records refer to the same thing?\n",
      "(y)es / (n)o / (u)nsure / (f)inished / (p)revious\n"
     ]
    },
    {
     "name": "stdout",
     "output_type": "stream",
     "text": [
      "u\n"
     ]
    },
    {
     "name": "stderr",
     "output_type": "stream",
     "text": [
      "name : usda\n",
      "address_1 : 1220 north forest street\n",
      "address_2 : \n",
      "city : bellingham\n",
      "state_province : wa\n",
      "postal_code : 98225\n",
      "url : \n",
      "\n",
      "name : usda\n",
      "address_1 : 1701 ellis str\n",
      "address_2 : suite 221\n",
      "city : bellingham\n",
      "state_province : wa\n",
      "postal_code : 98225\n",
      "url : \n",
      "\n",
      "74/10 positive, 117/10 negative\n",
      "Do these records refer to the same thing?\n",
      "(y)es / (n)o / (u)nsure / (f)inished / (p)revious\n"
     ]
    },
    {
     "name": "stdout",
     "output_type": "stream",
     "text": [
      "n\n"
     ]
    },
    {
     "name": "stderr",
     "output_type": "stream",
     "text": [
      "name : north sound cooling centers\n",
      "address_1 : 8251 kendall rd.\n",
      "address_2 : \n",
      "city : maple falls\n",
      "state_province : wa\n",
      "postal_code : 98266\n",
      "url : \n",
      "\n",
      "name : opportunity council - east whatcom regional resource center\n",
      "address_1 : 8251 kendall road\n",
      "address_2 : \n",
      "city : maple falls\n",
      "state_province : wa\n",
      "postal_code : 98266\n",
      "url : https://www.oppco.org/ewrrc\n",
      "\n",
      "75/10 positive, 119/10 negative\n",
      "Do these records refer to the same thing?\n",
      "(y)es / (n)o / (u)nsure / (f)inished / (p)revious\n"
     ]
    },
    {
     "name": "stdout",
     "output_type": "stream",
     "text": [
      "n\n"
     ]
    },
    {
     "name": "stderr",
     "output_type": "stream",
     "text": [
      "name : usda\n",
      "address_1 : 1220 north forest street\n",
      "address_2 : \n",
      "city : bellingham\n",
      "state_province : wa\n",
      "postal_code : 98225\n",
      "url : \n",
      "\n",
      "name : usda\n",
      "address_1 : 1701 ellis str\n",
      "address_2 : suite 221\n",
      "city : bellingham\n",
      "state_province : wa\n",
      "postal_code : 98225\n",
      "url : \n",
      "\n",
      "75/10 positive, 120/10 negative\n",
      "Do these records refer to the same thing?\n",
      "(y)es / (n)o / (u)nsure / (f)inished / (p)revious\n"
     ]
    },
    {
     "name": "stdout",
     "output_type": "stream",
     "text": [
      "n\n"
     ]
    },
    {
     "name": "stderr",
     "output_type": "stream",
     "text": [
      "name : ywca of bellingham\n",
      "address_1 : 1026 n forest st\n",
      "address_2 : \n",
      "city : bellingham\n",
      "state_province : wa\n",
      "postal_code : 98225\n",
      "url : http://www.ywcabellingham.org\n",
      "\n",
      "name : ywca of bellingham\n",
      "address_1 : 1224 north state str.\n",
      "address_2 : \n",
      "city : bellingham\n",
      "state_province : wa\n",
      "postal_code : 98225\n",
      "url : http://www.ywcabellingham.org\n",
      "\n",
      "75/10 positive, 121/10 negative\n",
      "Do these records refer to the same thing?\n",
      "(y)es / (n)o / (u)nsure / (f)inished / (p)revious\n"
     ]
    },
    {
     "name": "stdout",
     "output_type": "stream",
     "text": [
      "n\n"
     ]
    },
    {
     "name": "stderr",
     "output_type": "stream",
     "text": [
      "name : usda\n",
      "address_1 : 1220 north forest street\n",
      "address_2 : \n",
      "city : bellingham\n",
      "state_province : wa\n",
      "postal_code : 98225\n",
      "url : \n",
      "\n",
      "name : usda\n",
      "address_1 : 1701 ellis street\n",
      "address_2 : suite 221\n",
      "city : bellingham\n",
      "state_province : wa\n",
      "postal_code : 98225\n",
      "url : \n",
      "\n",
      "75/10 positive, 122/10 negative\n",
      "Do these records refer to the same thing?\n",
      "(y)es / (n)o / (u)nsure / (f)inished / (p)revious\n"
     ]
    },
    {
     "name": "stdout",
     "output_type": "stream",
     "text": [
      "n\n"
     ]
    },
    {
     "name": "stderr",
     "output_type": "stream",
     "text": [
      "name : usda\n",
      "address_1 : 1220 north forest street\n",
      "address_2 : \n",
      "city : bellingham\n",
      "state_province : wa\n",
      "postal_code : 98225\n",
      "url : \n",
      "\n",
      "name : usda\n",
      "address_1 : 1701 ellis street\n",
      "address_2 : suite 221\n",
      "city : bellingham\n",
      "state_province : wa\n",
      "postal_code : 98225\n",
      "url : \n",
      "\n",
      "75/10 positive, 123/10 negative\n",
      "Do these records refer to the same thing?\n",
      "(y)es / (n)o / (u)nsure / (f)inished / (p)revious\n"
     ]
    },
    {
     "name": "stdout",
     "output_type": "stream",
     "text": [
      "n\n"
     ]
    },
    {
     "name": "stderr",
     "output_type": "stream",
     "text": [
      "name : bellingham food bank\n",
      "address_1 : 4173 meridian st\n",
      "address_2 : \n",
      "city : bellingham\n",
      "state_province : wa\n",
      "postal_code : 98226\n",
      "url : http://bellinghamfoodbank.org\n",
      "\n",
      "name : bellingham food bank\n",
      "address_1 : 1175 jersey st\n",
      "address_2 : \n",
      "city : bellingham\n",
      "state_province : wa\n",
      "postal_code : 98225\n",
      "url : http://bellinghamfoodbank.org\n",
      "\n",
      "75/10 positive, 124/10 negative\n",
      "Do these records refer to the same thing?\n",
      "(y)es / (n)o / (u)nsure / (f)inished / (p)revious\n"
     ]
    },
    {
     "name": "stdout",
     "output_type": "stream",
     "text": [
      "n\n"
     ]
    },
    {
     "name": "stderr",
     "output_type": "stream",
     "text": [
      "name : law advocates\n",
      "address_1 : 210 central avenue\n",
      "address_2 : \n",
      "city : bellingham\n",
      "state_province : wa\n",
      "postal_code : 98225\n",
      "url : http://www.lawadvocates.org\n",
      "\n",
      "name : north sound cooling centers\n",
      "address_1 : 210 central avenue\n",
      "address_2 : \n",
      "city : bellingham\n",
      "state_province : wa\n",
      "postal_code : 98225\n",
      "url : \n",
      "\n",
      "75/10 positive, 125/10 negative\n",
      "Do these records refer to the same thing?\n",
      "(y)es / (n)o / (u)nsure / (f)inished / (p)revious\n"
     ]
    },
    {
     "name": "stdout",
     "output_type": "stream",
     "text": [
      "n\n"
     ]
    },
    {
     "name": "stderr",
     "output_type": "stream",
     "text": [
      "name : we care of whatcom county\n",
      "address_1 : po box 28194\n",
      "address_2 : \n",
      "city : bellingham\n",
      "state_province : wa\n",
      "postal_code : 98228\n",
      "url : \n",
      "\n",
      "name : pflag whatcom\n",
      "address_1 : po box 28704\n",
      "address_2 : \n",
      "city : bellingham\n",
      "state_province : wa\n",
      "postal_code : 98228\n",
      "url : http://www.whatcompflag.org\n",
      "\n",
      "75/10 positive, 126/10 negative\n",
      "Do these records refer to the same thing?\n",
      "(y)es / (n)o / (u)nsure / (f)inished / (p)revious\n"
     ]
    },
    {
     "name": "stdout",
     "output_type": "stream",
     "text": [
      "n\n"
     ]
    },
    {
     "name": "stderr",
     "output_type": "stream",
     "text": [
      "name : bellingham public library\n",
      "address_1 : 1117 12th street\n",
      "address_2 : \n",
      "city : bellingham\n",
      "state_province : wa\n",
      "postal_code : 98225\n",
      "url : http://www.bellinghampubliclibrary.org\n",
      "\n",
      "name : bellingham public library\n",
      "address_1 : cs 9710\n",
      "address_2 : \n",
      "city : bellingham\n",
      "state_province : wa\n",
      "postal_code : 98227\n",
      "url : http://www.bellinghampubliclibrary.org\n",
      "\n",
      "75/10 positive, 127/10 negative\n",
      "Do these records refer to the same thing?\n",
      "(y)es / (n)o / (u)nsure / (f)inished / (p)revious\n"
     ]
    },
    {
     "name": "stdout",
     "output_type": "stream",
     "text": [
      "y\n"
     ]
    },
    {
     "name": "stderr",
     "output_type": "stream",
     "text": [
      "name : western washington university\n",
      "address_1 : 516 high st\n",
      "address_2 : room 265\n",
      "city : bellingham\n",
      "state_province : wa\n",
      "postal_code : 98225\n",
      "url : http://www.wwu.edu\n",
      "\n",
      "name : western washington university\n",
      "address_1 : 188 east college way\n",
      "address_2 : room 453\n",
      "city : bellingham\n",
      "state_province : wa\n",
      "postal_code : 98225\n",
      "url : http://www.wwu.edu\n",
      "\n",
      "76/10 positive, 127/10 negative\n",
      "Do these records refer to the same thing?\n",
      "(y)es / (n)o / (u)nsure / (f)inished / (p)revious\n"
     ]
    },
    {
     "name": "stdout",
     "output_type": "stream",
     "text": [
      "n\n"
     ]
    },
    {
     "name": "stderr",
     "output_type": "stream",
     "text": [
      "name : bellingham food bank\n",
      "address_1 : 2717 alderwood avenue\n",
      "address_2 : \n",
      "city : bellingham\n",
      "state_province : wa\n",
      "postal_code : 98225\n",
      "url : http://bellinghamfoodbank.org\n",
      "\n",
      "name : bellingham food bank\n",
      "address_1 : 2020 cornwall avenue\n",
      "address_2 : \n",
      "city : bellingham\n",
      "state_province : wa\n",
      "postal_code : 98225\n",
      "url : http://bellinghamfoodbank.org\n",
      "\n",
      "76/10 positive, 128/10 negative\n",
      "Do these records refer to the same thing?\n",
      "(y)es / (n)o / (u)nsure / (f)inished / (p)revious\n"
     ]
    },
    {
     "name": "stdout",
     "output_type": "stream",
     "text": [
      "f\n",
      "Dumping training results...\n"
     ]
    },
    {
     "name": "stderr",
     "output_type": "stream",
     "text": [
      "Finished labeling\n"
     ]
    },
    {
     "ename": "TypeError",
     "evalue": "write_training() missing 1 required positional argument: 'file_obj'",
     "output_type": "error",
     "traceback": [
      "\u001b[0;31m---------------------------------------------------------------------------\u001b[0m",
      "\u001b[0;31mTypeError\u001b[0m                                 Traceback (most recent call last)",
      "\u001b[0;32m/tmp/ipykernel_61940/3439525837.py\u001b[0m in \u001b[0;36m<module>\u001b[0;34m\u001b[0m\n\u001b[1;32m      3\u001b[0m \u001b[0mprint\u001b[0m \u001b[0;34m(\u001b[0m\u001b[0;34m'Dumping training results...'\u001b[0m\u001b[0;34m)\u001b[0m\u001b[0;34m\u001b[0m\u001b[0;34m\u001b[0m\u001b[0m\n\u001b[1;32m      4\u001b[0m \u001b[0;32mwith\u001b[0m \u001b[0mopen\u001b[0m\u001b[0;34m(\u001b[0m\u001b[0;34m\"training_results.txt\"\u001b[0m\u001b[0;34m,\u001b[0m \u001b[0;34m\"w\"\u001b[0m\u001b[0;34m)\u001b[0m \u001b[0;32mas\u001b[0m \u001b[0mf\u001b[0m\u001b[0;34m:\u001b[0m\u001b[0;34m\u001b[0m\u001b[0;34m\u001b[0m\u001b[0m\n\u001b[0;32m----> 5\u001b[0;31m     \u001b[0mdedupe\u001b[0m\u001b[0;34m.\u001b[0m\u001b[0mwrite_training\u001b[0m\u001b[0;34m(\u001b[0m\u001b[0mf\u001b[0m\u001b[0;34m)\u001b[0m\u001b[0;34m\u001b[0m\u001b[0;34m\u001b[0m\u001b[0m\n\u001b[0m",
      "\u001b[0;31mTypeError\u001b[0m: write_training() missing 1 required positional argument: 'file_obj'"
     ]
    }
   ],
   "source": [
    "dedupe.convenience.console_label(deduper)\n",
    "\n",
    "print ('Dumping training results...')\n"
   ]
  },
  {
   "cell_type": "code",
   "execution_count": 6,
   "id": "55d6afc0",
   "metadata": {},
   "outputs": [],
   "source": [
    "with open(\"training_results.txt\", \"w\") as f:\n",
    "    deduper.write_training(f)"
   ]
  },
  {
   "cell_type": "code",
   "execution_count": 9,
   "id": "e6683946",
   "metadata": {},
   "outputs": [
    {
     "ename": "AttributeError",
     "evalue": "'Dedupe' object has no attribute 'predicates'",
     "output_type": "error",
     "traceback": [
      "\u001b[0;31m---------------------------------------------------------------------------\u001b[0m",
      "\u001b[0;31mAttributeError\u001b[0m                            Traceback (most recent call last)",
      "\u001b[0;32m/tmp/ipykernel_61940/2808548137.py\u001b[0m in \u001b[0;36m<module>\u001b[0;34m\u001b[0m\n\u001b[1;32m      1\u001b[0m \u001b[0;32mwith\u001b[0m \u001b[0mopen\u001b[0m\u001b[0;34m(\u001b[0m\u001b[0;34m\"training_settings.txt\"\u001b[0m\u001b[0;34m,\u001b[0m \u001b[0;34m\"wb\"\u001b[0m\u001b[0;34m)\u001b[0m \u001b[0;32mas\u001b[0m \u001b[0mf\u001b[0m\u001b[0;34m:\u001b[0m\u001b[0;34m\u001b[0m\u001b[0;34m\u001b[0m\u001b[0m\n\u001b[0;32m----> 2\u001b[0;31m     \u001b[0mdeduper\u001b[0m\u001b[0;34m.\u001b[0m\u001b[0mwrite_settings\u001b[0m\u001b[0;34m(\u001b[0m\u001b[0mf\u001b[0m\u001b[0;34m)\u001b[0m\u001b[0;34m\u001b[0m\u001b[0;34m\u001b[0m\u001b[0m\n\u001b[0m",
      "\u001b[0;32m/usr/local/lib/python3.10/dist-packages/dedupe/api.py\u001b[0m in \u001b[0;36mwrite_settings\u001b[0;34m(self, file_obj)\u001b[0m\n\u001b[1;32m   1161\u001b[0m         \u001b[0mpickle\u001b[0m\u001b[0;34m.\u001b[0m\u001b[0mdump\u001b[0m\u001b[0;34m(\u001b[0m\u001b[0mself\u001b[0m\u001b[0;34m.\u001b[0m\u001b[0mdata_model\u001b[0m\u001b[0;34m,\u001b[0m \u001b[0mfile_obj\u001b[0m\u001b[0;34m)\u001b[0m\u001b[0;34m\u001b[0m\u001b[0;34m\u001b[0m\u001b[0m\n\u001b[1;32m   1162\u001b[0m         \u001b[0mpickle\u001b[0m\u001b[0;34m.\u001b[0m\u001b[0mdump\u001b[0m\u001b[0;34m(\u001b[0m\u001b[0mself\u001b[0m\u001b[0;34m.\u001b[0m\u001b[0mclassifier\u001b[0m\u001b[0;34m,\u001b[0m \u001b[0mfile_obj\u001b[0m\u001b[0;34m)\u001b[0m\u001b[0;34m\u001b[0m\u001b[0;34m\u001b[0m\u001b[0m\n\u001b[0;32m-> 1163\u001b[0;31m         \u001b[0mpickle\u001b[0m\u001b[0;34m.\u001b[0m\u001b[0mdump\u001b[0m\u001b[0;34m(\u001b[0m\u001b[0mself\u001b[0m\u001b[0;34m.\u001b[0m\u001b[0mpredicates\u001b[0m\u001b[0;34m,\u001b[0m \u001b[0mfile_obj\u001b[0m\u001b[0;34m)\u001b[0m\u001b[0;34m\u001b[0m\u001b[0;34m\u001b[0m\u001b[0m\n\u001b[0m\u001b[1;32m   1164\u001b[0m \u001b[0;34m\u001b[0m\u001b[0m\n\u001b[1;32m   1165\u001b[0m     \u001b[0;32mdef\u001b[0m \u001b[0muncertain_pairs\u001b[0m\u001b[0;34m(\u001b[0m\u001b[0mself\u001b[0m\u001b[0;34m)\u001b[0m \u001b[0;34m->\u001b[0m \u001b[0mTrainingExamples\u001b[0m\u001b[0;34m:\u001b[0m\u001b[0;34m\u001b[0m\u001b[0;34m\u001b[0m\u001b[0m\n",
      "\u001b[0;31mAttributeError\u001b[0m: 'Dedupe' object has no attribute 'predicates'"
     ]
    }
   ],
   "source": [
    "#with open(\"training_settings.txt\", \"wb\") as f:\n",
    "#    deduper.write_settings(f)"
   ]
  },
  {
   "cell_type": "code",
   "execution_count": 12,
   "id": "8d15120b",
   "metadata": {},
   "outputs": [
    {
     "ename": "NoIndexError",
     "evalue": "Attempting to block with an index predicate without indexing records",
     "output_type": "error",
     "traceback": [
      "\u001b[0;31m---------------------------------------------------------------------------\u001b[0m",
      "\u001b[0;31mAssertionError\u001b[0m                            Traceback (most recent call last)",
      "\u001b[0;32m/usr/local/lib/python3.10/dist-packages/dedupe/predicates.py\u001b[0m in \u001b[0;36m__call__\u001b[0;34m(self, record, **kwargs)\u001b[0m\n\u001b[1;32m    201\u001b[0m             \u001b[0;32mtry\u001b[0m\u001b[0;34m:\u001b[0m\u001b[0;34m\u001b[0m\u001b[0;34m\u001b[0m\u001b[0m\n\u001b[0;32m--> 202\u001b[0;31m                 \u001b[0;32massert\u001b[0m \u001b[0mself\u001b[0m\u001b[0;34m.\u001b[0m\u001b[0mindex\u001b[0m \u001b[0;32mis\u001b[0m \u001b[0;32mnot\u001b[0m \u001b[0;32mNone\u001b[0m\u001b[0;34m\u001b[0m\u001b[0;34m\u001b[0m\u001b[0m\n\u001b[0m\u001b[1;32m    203\u001b[0m             \u001b[0;32mexcept\u001b[0m \u001b[0mAssertionError\u001b[0m\u001b[0;34m:\u001b[0m\u001b[0;34m\u001b[0m\u001b[0;34m\u001b[0m\u001b[0m\n",
      "\u001b[0;31mAssertionError\u001b[0m: ",
      "\nDuring handling of the above exception, another exception occurred:\n",
      "\u001b[0;31mNoIndexError\u001b[0m                              Traceback (most recent call last)",
      "\u001b[0;32m/tmp/ipykernel_61940/3886896759.py\u001b[0m in \u001b[0;36m<module>\u001b[0;34m\u001b[0m\n\u001b[0;32m----> 1\u001b[0;31m \u001b[0mdeduper\u001b[0m\u001b[0;34m.\u001b[0m\u001b[0mtrain\u001b[0m\u001b[0;34m(\u001b[0m\u001b[0;34m)\u001b[0m\u001b[0;34m\u001b[0m\u001b[0;34m\u001b[0m\u001b[0m\n\u001b[0m",
      "\u001b[0;32m/usr/local/lib/python3.10/dist-packages/dedupe/api.py\u001b[0m in \u001b[0;36mtrain\u001b[0;34m(self, recall, index_predicates)\u001b[0m\n\u001b[1;32m   1127\u001b[0m         \u001b[0mself\u001b[0m\u001b[0;34m.\u001b[0m\u001b[0mclassifier\u001b[0m\u001b[0;34m.\u001b[0m\u001b[0mfit\u001b[0m\u001b[0;34m(\u001b[0m\u001b[0mself\u001b[0m\u001b[0;34m.\u001b[0m\u001b[0mdata_model\u001b[0m\u001b[0;34m.\u001b[0m\u001b[0mdistances\u001b[0m\u001b[0;34m(\u001b[0m\u001b[0mexamples\u001b[0m\u001b[0;34m)\u001b[0m\u001b[0;34m,\u001b[0m \u001b[0my\u001b[0m\u001b[0;34m)\u001b[0m\u001b[0;34m\u001b[0m\u001b[0;34m\u001b[0m\u001b[0m\n\u001b[1;32m   1128\u001b[0m \u001b[0;34m\u001b[0m\u001b[0m\n\u001b[0;32m-> 1129\u001b[0;31m         \u001b[0mself\u001b[0m\u001b[0;34m.\u001b[0m\u001b[0mpredicates\u001b[0m \u001b[0;34m=\u001b[0m \u001b[0mself\u001b[0m\u001b[0;34m.\u001b[0m\u001b[0mactive_learner\u001b[0m\u001b[0;34m.\u001b[0m\u001b[0mlearn_predicates\u001b[0m\u001b[0;34m(\u001b[0m\u001b[0mrecall\u001b[0m\u001b[0;34m,\u001b[0m \u001b[0mindex_predicates\u001b[0m\u001b[0;34m)\u001b[0m\u001b[0;34m\u001b[0m\u001b[0;34m\u001b[0m\u001b[0m\n\u001b[0m\u001b[1;32m   1130\u001b[0m         \u001b[0mself\u001b[0m\u001b[0;34m.\u001b[0m\u001b[0m_fingerprinter\u001b[0m \u001b[0;34m=\u001b[0m \u001b[0mblocking\u001b[0m\u001b[0;34m.\u001b[0m\u001b[0mFingerprinter\u001b[0m\u001b[0;34m(\u001b[0m\u001b[0mself\u001b[0m\u001b[0;34m.\u001b[0m\u001b[0mpredicates\u001b[0m\u001b[0;34m)\u001b[0m\u001b[0;34m\u001b[0m\u001b[0;34m\u001b[0m\u001b[0m\n\u001b[1;32m   1131\u001b[0m         \u001b[0mself\u001b[0m\u001b[0;34m.\u001b[0m\u001b[0mfingerprinter\u001b[0m\u001b[0;34m.\u001b[0m\u001b[0mreset_indices\u001b[0m\u001b[0;34m(\u001b[0m\u001b[0;34m)\u001b[0m\u001b[0;34m\u001b[0m\u001b[0;34m\u001b[0m\u001b[0m\n",
      "\u001b[0;32m/usr/local/lib/python3.10/dist-packages/dedupe/labeler.py\u001b[0m in \u001b[0;36mlearn_predicates\u001b[0;34m(self, recall, index_predicates)\u001b[0m\n\u001b[1;32m    420\u001b[0m \u001b[0;34m\u001b[0m\u001b[0m\n\u001b[1;32m    421\u001b[0m         \u001b[0;32melse\u001b[0m\u001b[0;34m:\u001b[0m\u001b[0;34m\u001b[0m\u001b[0;34m\u001b[0m\u001b[0m\n\u001b[0;32m--> 422\u001b[0;31m             learned_preds = self.blocker.block_learner.learn(\n\u001b[0m\u001b[1;32m    423\u001b[0m                 \u001b[0mdupes\u001b[0m\u001b[0;34m,\u001b[0m \u001b[0mrecall\u001b[0m\u001b[0;34m=\u001b[0m\u001b[0mrecall\u001b[0m\u001b[0;34m,\u001b[0m \u001b[0mcandidate_types\u001b[0m\u001b[0;34m=\u001b[0m\u001b[0;34m\"random forest\"\u001b[0m\u001b[0;34m\u001b[0m\u001b[0;34m\u001b[0m\u001b[0m\n\u001b[1;32m    424\u001b[0m             )\n",
      "\u001b[0;32m/usr/local/lib/python3.10/dist-packages/dedupe/training.py\u001b[0m in \u001b[0;36mlearn\u001b[0;34m(self, matches, recall, candidate_types)\u001b[0m\n\u001b[1;32m     40\u001b[0m \u001b[0;34m\u001b[0m\u001b[0m\n\u001b[1;32m     41\u001b[0m         \u001b[0mcomparison_cover\u001b[0m \u001b[0;34m=\u001b[0m \u001b[0mself\u001b[0m\u001b[0;34m.\u001b[0m\u001b[0mcomparison_cover\u001b[0m\u001b[0;34m\u001b[0m\u001b[0;34m\u001b[0m\u001b[0m\n\u001b[0;32m---> 42\u001b[0;31m         \u001b[0mmatch_cover\u001b[0m \u001b[0;34m=\u001b[0m \u001b[0mself\u001b[0m\u001b[0;34m.\u001b[0m\u001b[0mcover\u001b[0m\u001b[0;34m(\u001b[0m\u001b[0mmatches\u001b[0m\u001b[0;34m)\u001b[0m\u001b[0;34m\u001b[0m\u001b[0;34m\u001b[0m\u001b[0m\n\u001b[0m\u001b[1;32m     43\u001b[0m \u001b[0;34m\u001b[0m\u001b[0m\n\u001b[1;32m     44\u001b[0m         \u001b[0;32mfor\u001b[0m \u001b[0mkey\u001b[0m \u001b[0;32min\u001b[0m \u001b[0mlist\u001b[0m\u001b[0;34m(\u001b[0m\u001b[0mmatch_cover\u001b[0m\u001b[0;34m.\u001b[0m\u001b[0mkeys\u001b[0m\u001b[0;34m(\u001b[0m\u001b[0;34m)\u001b[0m \u001b[0;34m-\u001b[0m \u001b[0mcomparison_cover\u001b[0m\u001b[0;34m.\u001b[0m\u001b[0mkeys\u001b[0m\u001b[0;34m(\u001b[0m\u001b[0;34m)\u001b[0m\u001b[0;34m)\u001b[0m\u001b[0;34m:\u001b[0m\u001b[0;34m\u001b[0m\u001b[0;34m\u001b[0m\u001b[0m\n",
      "\u001b[0;32m/usr/local/lib/python3.10/dist-packages/dedupe/training.py\u001b[0m in \u001b[0;36mcover\u001b[0;34m(self, pairs)\u001b[0m\n\u001b[1;32m    142\u001b[0m         \u001b[0mpredicate_cover\u001b[0m \u001b[0;34m=\u001b[0m \u001b[0;34m{\u001b[0m\u001b[0;34m}\u001b[0m\u001b[0;34m\u001b[0m\u001b[0;34m\u001b[0m\u001b[0m\n\u001b[1;32m    143\u001b[0m         \u001b[0;32mfor\u001b[0m \u001b[0mpredicate\u001b[0m \u001b[0;32min\u001b[0m \u001b[0mself\u001b[0m\u001b[0;34m.\u001b[0m\u001b[0mblocker\u001b[0m\u001b[0;34m.\u001b[0m\u001b[0mpredicates\u001b[0m\u001b[0;34m:\u001b[0m\u001b[0;34m\u001b[0m\u001b[0;34m\u001b[0m\u001b[0m\n\u001b[0;32m--> 144\u001b[0;31m             coverage = frozenset(\n\u001b[0m\u001b[1;32m    145\u001b[0m                 \u001b[0mi\u001b[0m\u001b[0;34m\u001b[0m\u001b[0;34m\u001b[0m\u001b[0m\n\u001b[1;32m    146\u001b[0m                 \u001b[0;32mfor\u001b[0m \u001b[0mi\u001b[0m\u001b[0;34m,\u001b[0m \u001b[0;34m(\u001b[0m\u001b[0mrecord_1\u001b[0m\u001b[0;34m,\u001b[0m \u001b[0mrecord_2\u001b[0m\u001b[0;34m)\u001b[0m \u001b[0;32min\u001b[0m \u001b[0menumerate\u001b[0m\u001b[0;34m(\u001b[0m\u001b[0mpairs\u001b[0m\u001b[0;34m)\u001b[0m\u001b[0;34m\u001b[0m\u001b[0;34m\u001b[0m\u001b[0m\n",
      "\u001b[0;32m/usr/local/lib/python3.10/dist-packages/dedupe/training.py\u001b[0m in \u001b[0;36m<genexpr>\u001b[0;34m(.0)\u001b[0m\n\u001b[1;32m    145\u001b[0m                 \u001b[0mi\u001b[0m\u001b[0;34m\u001b[0m\u001b[0;34m\u001b[0m\u001b[0m\n\u001b[1;32m    146\u001b[0m                 \u001b[0;32mfor\u001b[0m \u001b[0mi\u001b[0m\u001b[0;34m,\u001b[0m \u001b[0;34m(\u001b[0m\u001b[0mrecord_1\u001b[0m\u001b[0;34m,\u001b[0m \u001b[0mrecord_2\u001b[0m\u001b[0;34m)\u001b[0m \u001b[0;32min\u001b[0m \u001b[0menumerate\u001b[0m\u001b[0;34m(\u001b[0m\u001b[0mpairs\u001b[0m\u001b[0;34m)\u001b[0m\u001b[0;34m\u001b[0m\u001b[0;34m\u001b[0m\u001b[0m\n\u001b[0;32m--> 147\u001b[0;31m                 \u001b[0;32mif\u001b[0m \u001b[0;34m(\u001b[0m\u001b[0mset\u001b[0m\u001b[0;34m(\u001b[0m\u001b[0mpredicate\u001b[0m\u001b[0;34m(\u001b[0m\u001b[0mrecord_1\u001b[0m\u001b[0;34m)\u001b[0m\u001b[0;34m)\u001b[0m \u001b[0;34m&\u001b[0m \u001b[0mset\u001b[0m\u001b[0;34m(\u001b[0m\u001b[0mpredicate\u001b[0m\u001b[0;34m(\u001b[0m\u001b[0mrecord_2\u001b[0m\u001b[0;34m,\u001b[0m \u001b[0mtarget\u001b[0m\u001b[0;34m=\u001b[0m\u001b[0;32mTrue\u001b[0m\u001b[0;34m)\u001b[0m\u001b[0;34m)\u001b[0m\u001b[0;34m)\u001b[0m\u001b[0;34m\u001b[0m\u001b[0;34m\u001b[0m\u001b[0m\n\u001b[0m\u001b[1;32m    148\u001b[0m             )\n\u001b[1;32m    149\u001b[0m             \u001b[0;32mif\u001b[0m \u001b[0mcoverage\u001b[0m\u001b[0;34m:\u001b[0m\u001b[0;34m\u001b[0m\u001b[0;34m\u001b[0m\u001b[0m\n",
      "\u001b[0;32m/usr/local/lib/python3.10/dist-packages/dedupe/predicates.py\u001b[0m in \u001b[0;36m__call__\u001b[0;34m(self, record, **kwargs)\u001b[0m\n\u001b[1;32m    202\u001b[0m                 \u001b[0;32massert\u001b[0m \u001b[0mself\u001b[0m\u001b[0;34m.\u001b[0m\u001b[0mindex\u001b[0m \u001b[0;32mis\u001b[0m \u001b[0;32mnot\u001b[0m \u001b[0;32mNone\u001b[0m\u001b[0;34m\u001b[0m\u001b[0;34m\u001b[0m\u001b[0m\n\u001b[1;32m    203\u001b[0m             \u001b[0;32mexcept\u001b[0m \u001b[0mAssertionError\u001b[0m\u001b[0;34m:\u001b[0m\u001b[0;34m\u001b[0m\u001b[0;34m\u001b[0m\u001b[0m\n\u001b[0;32m--> 204\u001b[0;31m                 raise NoIndexError(\n\u001b[0m\u001b[1;32m    205\u001b[0m                     \u001b[0;34m\"Attempting to block with an index \"\u001b[0m\u001b[0;34m\u001b[0m\u001b[0;34m\u001b[0m\u001b[0m\n\u001b[1;32m    206\u001b[0m                     \u001b[0;34m\"predicate without indexing records\"\u001b[0m\u001b[0;34m,\u001b[0m\u001b[0;34m\u001b[0m\u001b[0;34m\u001b[0m\u001b[0m\n",
      "\u001b[0;31mNoIndexError\u001b[0m: Attempting to block with an index predicate without indexing records"
     ]
    }
   ],
   "source": [
    "deduper.train(recall=0.9)"
   ]
  },
  {
   "cell_type": "code",
   "execution_count": null,
   "id": "5d8edfd9",
   "metadata": {},
   "outputs": [],
   "source": []
  }
 ],
 "metadata": {
  "kernelspec": {
   "display_name": "Python 3 (ipykernel)",
   "language": "python",
   "name": "python3"
  },
  "language_info": {
   "codemirror_mode": {
    "name": "ipython",
    "version": 3
   },
   "file_extension": ".py",
   "mimetype": "text/x-python",
   "name": "python",
   "nbconvert_exporter": "python",
   "pygments_lexer": "ipython3",
   "version": "3.10.4"
  }
 },
 "nbformat": 4,
 "nbformat_minor": 5
}
