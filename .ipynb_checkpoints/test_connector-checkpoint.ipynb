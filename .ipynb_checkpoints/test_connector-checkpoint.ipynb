{
 "cells": [
  {
   "cell_type": "raw",
   "id": "4ee1f165",
   "metadata": {},
   "source": [
    "\n",
    "\n",
    "from connectors.postgres_connector import PostgresConnector\n",
    "from feeds.postgres_feed import PostgresFeed\n",
    "\n",
    "pg_conn = PostgresConnector(db='defaultdb', username='jameyc', password='UXZSXXXSFZeU8XKw', host='silobuster-db-do-user-12298230-0.b.db.ondigitalocean.com', port=25060)\n",
    "select_qry = \"SELECT name, address FROM what_location WHERE address is not null and not address = '' and name is not null and not name = ''\"\n",
    "select_qry2 = \"SELECT name, address FROM what_location\"\n",
    "\n",
    "print (pg_conn.is_alive)\n",
    "\n",
    "raw_def_list = [\n",
    "    {\"field\": \"name\", \"type\": }\n",
    "]\n",
    "\n",
    "\n",
    "pg_feed = PostgresFeed(connector=pg_conn, query=select_qry, raw_definition=)\n",
    "\n",
    "select_qry = \"SELECT name, address FROM what_location WHERE address is not null and not address = '' and name is not null and not name = ''\"\n",
    "\n",
    "pg_feed.variable_definition\n",
    "\n"
   ]
  },
  {
   "cell_type": "raw",
   "id": "e2ed30a7",
   "metadata": {},
   "source": []
  },
  {
   "cell_type": "code",
   "execution_count": null,
   "id": "7faca678",
   "metadata": {},
   "outputs": [],
   "source": []
  }
 ],
 "metadata": {
  "kernelspec": {
   "display_name": "Python 3 (ipykernel)",
   "language": "python",
   "name": "python3"
  },
  "language_info": {
   "codemirror_mode": {
    "name": "ipython",
    "version": 3
   },
   "file_extension": ".py",
   "mimetype": "text/x-python",
   "name": "python",
   "nbconvert_exporter": "python",
   "pygments_lexer": "ipython3",
   "version": "3.10.4"
  }
 },
 "nbformat": 4,
 "nbformat_minor": 5
}
