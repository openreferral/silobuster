{
 "cells": [
  {
   "cell_type": "code",
   "execution_count": null,
   "id": "f6b1391c",
   "metadata": {},
   "outputs": [],
   "source": [
    "import random\n",
    "\n",
    "from psycopg2 import connect, extras\n",
    "\n",
    "from connectors.postgres_connector import PostgresConnector\n",
    "from feeds.postgres_feed import PostgresFeed\n",
    "\n",
    "host = 'silobuster-db-do-user-12298230-0.b.db.ondigitalocean.com'\n",
    "passwd = 'UXZSXXXSFZeU8XKw'\n",
    "\n",
    "print ('Starting connections...')\n",
    "source_conn = connect(\n",
    "        database=\"defaultdb\",\n",
    "        user=\"jameyc\",\n",
    "        password=passwd,\n",
    "        host=host,\n",
    "        port=25060\n",
    "    )\n",
    "\n",
    "training_conn = connect(\n",
    "        database=\"jameycdb\",\n",
    "        user=\"jameyc\",\n",
    "        password=passwd,\n",
    "        host=host,\n",
    "        port=25060\n",
    "    )\n",
    "\n",
    "print (\"Connected?\")\n",
    "\n",
    "select_qry = \"select t1.name, t1.description, t1.url, t3.address_1, t3.address_2, t3.city, t3.region, t3.state_province, t3.postal_code, t3.country, t3.type from organization t1 left join location t2 on t1.id = t2.organization_id left join address t3 on t3.location_id = t2.id where t3.type = 'physical' and t3.address_1 is not null order by t3.address_1 asc limit 10\"\n",
    "insert_qry = \"INSERT INTO organizations_normalized (name, description, url, address_1, address_2, city, state_province, postal_code, country, type, region) VALUES (%s, %s, %s, %s, %s, %s, %s, %s, %s, %s, %s)\"\n",
    "\n",
    "'''\n",
    "Build phony addresses\n",
    "'''\n",
    "with source_conn.cursor(cursor_factory=extras.RealDictCursor) as source_cur:\n",
    "    source_cur.execute(select_qry)\n",
    "    data = source_cur.fetchall()\n",
    "    print (\"Retrieved data...\")\n",
    "    for count, row in enumerate(data):\n",
    "\n"
   ]
  }
 ],
 "metadata": {
  "kernelspec": {
   "display_name": "Python 3 (ipykernel)",
   "language": "python",
   "name": "python3"
  },
  "language_info": {
   "codemirror_mode": {
    "name": "ipython",
    "version": 3
   },
   "file_extension": ".py",
   "mimetype": "text/x-python",
   "name": "python",
   "nbconvert_exporter": "python",
   "pygments_lexer": "ipython3",
   "version": "3.10.4"
  }
 },
 "nbformat": 4,
 "nbformat_minor": 5
}
