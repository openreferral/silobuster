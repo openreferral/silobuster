{
 "cells": [
  {
   "cell_type": "code",
   "execution_count": 1,
   "id": "00644965",
   "metadata": {},
   "outputs": [
    {
     "name": "stdout",
     "output_type": "stream",
     "text": [
      "['organization_id', 'o_name', 'o_url', 'location_id', 'l_name', 'latitude', 'longitude', 'address_1', 'address_2', 'city', 'state_province', 'postal_code']\n",
      "Creating table (test_mangle)...\n",
      "Table created\n",
      "Deleting previous data...\n",
      "Inserting new data (252 rows)...\n",
      "Progress: 0.07936507936507936\n",
      "Progress: 0.15873015873015872\n",
      "Progress: 0.23809523809523808\n",
      "Progress: 0.31746031746031744\n",
      "Progress: 0.3968253968253968\n",
      "Progress: 0.47619047619047616\n",
      "Progress: 0.5555555555555556\n",
      "Progress: 0.6349206349206349\n",
      "Progress: 0.7142857142857143\n",
      "Progress: 0.7936507936507936\n",
      "Progress: 0.873015873015873\n",
      "Progress: 0.9523809523809523\n",
      "True\n"
     ]
    }
   ],
   "source": [
    "import pandas as pd\n",
    "import pandas_dedupe\n",
    "\n",
    "from feeds.postgres_feed import PostgresFeed\n",
    "\n",
    "pg_feed = PostgresFeed.from_main()\n",
    "\n",
    "print (pg_feed.columns)\n",
    "\n",
    "def mangle_me(my_data):\n",
    "    return my_data\n",
    "\n",
    "print (pg_feed.mangle_data(staging_table_name=\"test_mangle\", callback=mangle_me))"
   ]
  },
  {
   "cell_type": "code",
   "execution_count": null,
   "id": "c454e983",
   "metadata": {},
   "outputs": [],
   "source": []
  },
  {
   "cell_type": "code",
   "execution_count": null,
   "id": "3dba3b29",
   "metadata": {},
   "outputs": [],
   "source": []
  },
  {
   "cell_type": "code",
   "execution_count": null,
   "id": "f0f3f9a1",
   "metadata": {},
   "outputs": [],
   "source": []
  },
  {
   "cell_type": "code",
   "execution_count": null,
   "id": "41ee539b",
   "metadata": {},
   "outputs": [],
   "source": []
  },
  {
   "cell_type": "code",
   "execution_count": null,
   "id": "e721e42e",
   "metadata": {},
   "outputs": [],
   "source": []
  }
 ],
 "metadata": {
  "kernelspec": {
   "display_name": "Python 3 (ipykernel)",
   "language": "python",
   "name": "python3"
  },
  "language_info": {
   "codemirror_mode": {
    "name": "ipython",
    "version": 3
   },
   "file_extension": ".py",
   "mimetype": "text/x-python",
   "name": "python",
   "nbconvert_exporter": "python",
   "pygments_lexer": "ipython3",
   "version": "3.10.6"
  }
 },
 "nbformat": 4,
 "nbformat_minor": 5
}
