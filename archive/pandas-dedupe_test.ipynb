{
 "cells": [
  {
   "cell_type": "code",
   "execution_count": 1,
   "id": "49dc1b89",
   "metadata": {},
   "outputs": [
    {
     "name": "stdout",
     "output_type": "stream",
     "text": [
      "                                     id  \\\n",
      "0  850f83f0-8ad7-4d1e-81c0-c7b19e5d380c   \n",
      "1  db0ab21f-64d9-469a-a25f-33e8765716f1   \n",
      "2  9febd2f6-0a23-4a3e-979c-34add947efe9   \n",
      "3  9ccfe539-c0b7-48c9-83e0-f19a630a1916   \n",
      "4  d358eaa9-bee0-48b6-b61e-ee8e68657950   \n",
      "\n",
      "                                        company_name              address_1  \\\n",
      "0  depressive and bipolar support alliance whatco...      800 chestnut str.   \n",
      "1           bellingham parks and recreation division      210 lottie street   \n",
      "2                        mount baker school district       4956 deming road   \n",
      "3                        mount baker school district         4956 deming rd   \n",
      "4                       bellingham technical college  3028 lindbergh avenue   \n",
      "\n",
      "  address_2        city state_province postal_code  \\\n",
      "0  suite 1c  bellingham             wa       98225   \n",
      "1            bellingham             wa       98225   \n",
      "2                deming             wa       98244   \n",
      "3                deming             wa       98244   \n",
      "4            bellingham             wa       98225   \n",
      "\n",
      "                                   url  \\\n",
      "0                                        \n",
      "1  https://cob.org/services/recreation   \n",
      "2        http://www.mtbaker.wednet.edu   \n",
      "3        http://www.mtbaker.wednet.edu   \n",
      "4                  https://www.btc.edu   \n",
      "\n",
      "                                         description  \\\n",
      "0                                                      \n",
      "1  the parks and recreation department supports a...   \n",
      "2                            public school district.   \n",
      "3                            public school district.   \n",
      "4  bellingham technical college provides student-...   \n",
      "\n",
      "                           duplicate_id      duplicate_type  \n",
      "0  9a1a5f22-ee70-407d-a112-1e01891871a2  street_dup|blanked  \n",
      "1                                  None                None  \n",
      "2                                  None                None  \n",
      "3  9febd2f6-0a23-4a3e-979c-34add947efe9          street_dup  \n",
      "4                                  None                None  \n",
      "Importing data ...\n",
      "Reading from dedupe_dataframe_learned_settings\n",
      "Clustering...\n"
     ]
    },
    {
     "name": "stderr",
     "output_type": "stream",
     "text": [
      "/tmp/ipykernel_30123/1591311375.py:28: FutureWarning: The default value of regex will change from True to False in a future version.\n",
      "  df_final = pandas_dedupe.dedupe_dataframe(pg_feed.df, [\n"
     ]
    },
    {
     "name": "stdout",
     "output_type": "stream",
     "text": [
      "# duplicate sets 372\n"
     ]
    }
   ],
   "source": [
    "import pandas as pd\n",
    "import pandas_dedupe\n",
    "\n",
    "from connectors.postgres_connector import PostgresConnector\n",
    "from feeds.postgres_feed import PostgresFeed\n",
    "\n",
    "\n",
    "pg_conn = PostgresConnector(db='jameycdb', username='jameyc', password='UXZSXXXSFZeU8XKw', host='silobuster-db-do-user-12298230-0.b.db.ondigitalocean.com', port=25060)\n",
    "# select_qry = \"SELECT id, name, address FROM what_location WHERE address is not null and not address = '' and name is not null and not name = ''\"\n",
    "# select_qry2 = \"SELECT id, name, address FROM what_location\"\n",
    "\n",
    "select_qry = \"SELECT id, name as company_name, address_1, address_2, city, state_province, postal_code, url, description, duplicate_id, duplicate_type FROM organizations_normalized WHERE name IS NOT NULL AND NOT name = '' AND address_1 IS NOT NULL AND NOT address_1 = '' AND city IS NOT NULL AND NOT city = ''\"\n",
    "raw_def = [\n",
    "    {\"field\": \"company_name\", \"type\": \"String\"},\n",
    "    {\"field\": \"address_1\", \"type\": \"String\", \"has missing\": True},\n",
    "    {\"field\": \"address_2\", \"type\": \"Exists\", \"has missing\": True},\n",
    "    {\"field\": \"city\", \"type\": \"String\", \"has missing\": True},\n",
    "    {\"field\": \"state_province\", \"type\": \"String\", \"has missing\": True},\n",
    "    {\"field\": \"postal_code\", \"type\": \"Exists\", \"has missing\": True},\n",
    "    {\"field\": \"url\", \"type\": \"Exists\", \"has missing\": True}\n",
    "]\n",
    "\n",
    "\n",
    "pg_feed = PostgresFeed.from_manual(connector=pg_conn, query=select_qry, column_definition=raw_def, primary_key='id')\n",
    "\n",
    "print (pg_feed.df.head(5))\n",
    "\n",
    "df_final = pandas_dedupe.dedupe_dataframe(pg_feed.df, [\n",
    "    ('company_name', 'String'),\n",
    "    ('address_1', 'String'), \n",
    "    ('address_2','String', 'has missing'), \n",
    "    ('city','String','has missing'), \n",
    "    ('state_province','String','has missing'), \n",
    "    ('postal_code','String','has missing'), \n",
    "    ('url','String','has missing'), \n",
    "    ('description','String','has missing')\n",
    "])\n",
    "\n",
    "df_final.to_csv('deduplication_output.csv')"
   ]
  },
  {
   "cell_type": "code",
   "execution_count": null,
   "id": "89cc550f",
   "metadata": {},
   "outputs": [],
   "source": []
  }
 ],
 "metadata": {
  "kernelspec": {
   "display_name": "Python 3 (ipykernel)",
   "language": "python",
   "name": "python3"
  },
  "language_info": {
   "codemirror_mode": {
    "name": "ipython",
    "version": 3
   },
   "file_extension": ".py",
   "mimetype": "text/x-python",
   "name": "python",
   "nbconvert_exporter": "python",
   "pygments_lexer": "ipython3",
   "version": "3.10.4"
  }
 },
 "nbformat": 4,
 "nbformat_minor": 5
}
