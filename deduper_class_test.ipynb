{
 "cells": [
  {
   "cell_type": "code",
   "execution_count": 1,
   "id": "a6c03349",
   "metadata": {},
   "outputs": [],
   "source": [
    "\n",
    "from connectors.postgres_connector import PostgresConnector\n",
    "from feeds.postgres_feed import PostgresFeed\n",
    "\n",
    "import dedupe\n",
    "\n",
    "pg_conn = PostgresConnector(db='jameycdb', username='jameyc', password='UXZSXXXSFZeU8XKw', host='silobuster-db-do-user-12298230-0.b.db.ondigitalocean.com', port=25060)\n",
    "# select_qry = \"SELECT id, name, address FROM what_location WHERE address is not null and not address = '' and name is not null and not name = ''\"\n",
    "# select_qry2 = \"SELECT id, name, address FROM what_location\"\n",
    "\n",
    "select_qry = \"SELECT id, name, address_1, address_2, city, state_province, postal_code, url, description, duplicate_id, duplicate_type FROM organizations_normalized WHERE name IS NOT NULL AND NOT name = '' AND address_1 IS NOT NULL AND NOT address_1 = '' AND city IS NOT NULL AND NOT city = ''\"\n",
    "raw_def = [\n",
    "    {\"field\": \"name\", \"type\": \"String\"},\n",
    "    {\"field\": \"address_1\", \"type\": \"String\", \"has missing\": True},\n",
    "    {\"field\": \"address_2\", \"type\": \"Exists\", \"has missing\": True},\n",
    "    {\"field\": \"city\", \"type\": \"String\", \"has missing\": True},\n",
    "    {\"field\": \"state_province\", \"type\": \"String\", \"has missing\": True},\n",
    "    {\"field\": \"postal_code\", \"type\": \"Exists\", \"has missing\": True},\n",
    "    {\"field\": \"url\", \"type\": \"Exists\", \"has missing\": True}\n",
    "]\n",
    "\n",
    "\n",
    "pg_feed = PostgresFeed.from_manual(connector=pg_conn, query=select_qry, column_definition=raw_def, primary_key='id')\n",
    "\n",
    "# select_qry = \"SELECT name, address FROM what_location WHERE address is not null and not address = '' and name is not null and not name = ''\"\n",
    "deduper = dedupe.Dedupe(pg_feed.variable_definition)\n",
    "\n"
   ]
  },
  {
   "cell_type": "code",
   "execution_count": 2,
   "id": "63a2a7c0",
   "metadata": {},
   "outputs": [],
   "source": [
    "#deduper.prepare_training(pg_feed.formatted_data, sample_size=100000, blocked_proportion=1)\n",
    "deduper.prepare_training(pg_feed.formatted_data)"
   ]
  },
  {
   "cell_type": "code",
   "execution_count": 3,
   "id": "a06aa97f",
   "metadata": {},
   "outputs": [],
   "source": [
    "#distinct_pairs = []\n",
    "#while True:\n",
    "#    try:\n",
    "#        pair = deduper.uncertain_pairs()\n",
    "#        distinct_pairs.extend(pair)\n",
    "#    except IndexError as e:\n",
    "#        break\n",
    "#    except Exception as e:\n",
    "#        raise\n",
    "\n",
    "#deduper.mark_pairs({\n",
    "#    \"match\": [],\n",
    "#    \"distinct\": distinct_pairs\n",
    "#})\n",
    "#print (distinct_pairs)"
   ]
  },
  {
   "cell_type": "code",
   "execution_count": null,
   "id": "56e7cecb",
   "metadata": {},
   "outputs": [],
   "source": []
  },
  {
   "cell_type": "code",
   "execution_count": 4,
   "id": "d301eb76",
   "metadata": {
    "scrolled": true
   },
   "outputs": [
    {
     "name": "stdout",
     "output_type": "stream",
     "text": [
      "Starting active labeling...\n"
     ]
    }
   ],
   "source": [
    "print(\"Starting active labeling...\")"
   ]
  },
  {
   "cell_type": "code",
   "execution_count": 5,
   "id": "992d1c23",
   "metadata": {},
   "outputs": [
    {
     "name": "stderr",
     "output_type": "stream",
     "text": [
      "name : new way ministries\n",
      "address_1 : 205 south british columbia avenue\n",
      "address_2 : \n",
      "city : lynden\n",
      "state_province : wa\n",
      "postal_code : 98264\n",
      "url : http://www.christianhopeassociation.org\n",
      "\n",
      "name : new way ministries\n",
      "address_1 : 205 south british columbia ave\n",
      "address_2 : \n",
      "city : lynden\n",
      "state_province : wa\n",
      "postal_code : 98264\n",
      "url : http://www.christianhopeassociation.org\n",
      "\n",
      "0/10 positive, 0/10 negative\n",
      "Do these records refer to the same thing?\n",
      "(y)es / (n)o / (u)nsure / (f)inished\n"
     ]
    },
    {
     "name": "stdout",
     "output_type": "stream",
     "text": [
      "y\n"
     ]
    },
    {
     "name": "stderr",
     "output_type": "stream",
     "text": [
      "name : whatcom family ymca\n",
      "address_1 : 1256 north state str\n",
      "address_2 : \n",
      "city : bellingham\n",
      "state_province : wa\n",
      "postal_code : 98225\n",
      "url : http://whatcomymca.org\n",
      "\n",
      "name : whatcom family ymca\n",
      "address_1 : 1256 north state st\n",
      "address_2 : \n",
      "city : bellingham\n",
      "state_province : wa\n",
      "postal_code : 98225\n",
      "url : http://whatcomymca.org\n",
      "\n",
      "1/10 positive, 0/10 negative\n",
      "Do these records refer to the same thing?\n",
      "(y)es / (n)o / (u)nsure / (f)inished / (p)revious\n"
     ]
    },
    {
     "name": "stdout",
     "output_type": "stream",
     "text": [
      "n\n"
     ]
    },
    {
     "name": "stderr",
     "output_type": "stream",
     "text": [
      "name : salvation army - bellingham\n",
      "address_1 : 1515 birchwood ave\n",
      "address_2 : \n",
      "city : bellingham\n",
      "state_province : wa\n",
      "postal_code : 98225\n",
      "url : https://bellingham.salvationarmy.org\n",
      "\n",
      "name : salvation army - bellingham\n",
      "address_1 : 1515 birchwood aven\n",
      "address_2 : \n",
      "city : bellingham\n",
      "state_province : wa\n",
      "postal_code : 98225\n",
      "url : https://bellingham.salvationarmy.org\n",
      "\n",
      "1/10 positive, 1/10 negative\n",
      "Do these records refer to the same thing?\n",
      "(y)es / (n)o / (u)nsure / (f)inished / (p)revious\n"
     ]
    },
    {
     "name": "stdout",
     "output_type": "stream",
     "text": [
      "y\n"
     ]
    },
    {
     "name": "stderr",
     "output_type": "stream",
     "text": [
      "name : salvation army - bellingham\n",
      "address_1 : 1515 birchwood ave\n",
      "address_2 : \n",
      "city : bellingham\n",
      "state_province : wa\n",
      "postal_code : 98225\n",
      "url : https://bellingham.salvationarmy.org\n",
      "\n",
      "name : salvation army - bellingham\n",
      "address_1 : 1515 birchwood aven\n",
      "address_2 : \n",
      "city : bellingham\n",
      "state_province : wa\n",
      "postal_code : 98225\n",
      "url : https://bellingham.salvationarmy.org\n",
      "\n",
      "2/10 positive, 1/10 negative\n",
      "Do these records refer to the same thing?\n",
      "(y)es / (n)o / (u)nsure / (f)inished / (p)revious\n"
     ]
    },
    {
     "name": "stdout",
     "output_type": "stream",
     "text": [
      "y\n"
     ]
    },
    {
     "name": "stderr",
     "output_type": "stream",
     "text": [
      "name : opportunity council in whatcom county\n",
      "address_1 : 1111 cornwall avenue\n",
      "address_2 : suite c\n",
      "city : bellingham\n",
      "state_province : wa\n",
      "postal_code : 98225\n",
      "url : http://www.oppco.org\n",
      "\n",
      "name : opportunity council in whatcom county\n",
      "address_1 : 1111 cornwall aven\n",
      "address_2 : suite c\n",
      "city : bellingham\n",
      "state_province : wa\n",
      "postal_code : 98225\n",
      "url : http://www.oppco.org\n",
      "\n",
      "3/10 positive, 1/10 negative\n",
      "Do these records refer to the same thing?\n",
      "(y)es / (n)o / (u)nsure / (f)inished / (p)revious\n"
     ]
    },
    {
     "name": "stdout",
     "output_type": "stream",
     "text": [
      "y\n"
     ]
    },
    {
     "name": "stderr",
     "output_type": "stream",
     "text": [
      "name : whatcom county\n",
      "address_1 : 332 north commercial street\n",
      "address_2 : suite 220\n",
      "city : bellingham\n",
      "state_province : wa\n",
      "postal_code : 98225\n",
      "url : http://www.co.whatcom.wa.us\n",
      "\n",
      "name : whatcom county\n",
      "address_1 : 332 north commercial st\n",
      "address_2 : suite 220\n",
      "city : bellingham\n",
      "state_province : wa\n",
      "postal_code : 98225\n",
      "url : http://www.co.whatcom.wa.us\n",
      "\n",
      "4/10 positive, 1/10 negative\n",
      "Do these records refer to the same thing?\n",
      "(y)es / (n)o / (u)nsure / (f)inished / (p)revious\n"
     ]
    },
    {
     "name": "stdout",
     "output_type": "stream",
     "text": [
      "n\n"
     ]
    },
    {
     "name": "stderr",
     "output_type": "stream",
     "text": [
      "name : blaine community/senior center\n",
      "address_1 : 763 g st\n",
      "address_2 : \n",
      "city : blaine\n",
      "state_province : wa\n",
      "postal_code : 98230\n",
      "url : https://www.blaineseniorcenter.org\n",
      "\n",
      "name : blaine community/senior center\n",
      "address_1 : 763 g str.\n",
      "address_2 : \n",
      "city : blaine\n",
      "state_province : wa\n",
      "postal_code : 98230\n",
      "url : https://www.blaineseniorcenter.org\n",
      "\n",
      "4/10 positive, 2/10 negative\n",
      "Do these records refer to the same thing?\n",
      "(y)es / (n)o / (u)nsure / (f)inished / (p)revious\n"
     ]
    },
    {
     "name": "stdout",
     "output_type": "stream",
     "text": [
      "n\n"
     ]
    },
    {
     "name": "stderr",
     "output_type": "stream",
     "text": [
      "name : blaine community/senior center\n",
      "address_1 : 763 g street\n",
      "address_2 : \n",
      "city : blaine\n",
      "state_province : wa\n",
      "postal_code : 98230\n",
      "url : https://www.blaineseniorcenter.org\n",
      "\n",
      "name : blaine community/senior center\n",
      "address_1 : 763 g st\n",
      "address_2 : \n",
      "city : blaine\n",
      "state_province : wa\n",
      "postal_code : 98230\n",
      "url : https://www.blaineseniorcenter.org\n",
      "\n",
      "4/10 positive, 3/10 negative\n",
      "Do these records refer to the same thing?\n",
      "(y)es / (n)o / (u)nsure / (f)inished / (p)revious\n"
     ]
    },
    {
     "name": "stdout",
     "output_type": "stream",
     "text": [
      "y\n"
     ]
    },
    {
     "name": "stderr",
     "output_type": "stream",
     "text": [
      "name : blaine food bank\n",
      "address_1 : 500 c street\n",
      "address_2 : \n",
      "city : blaine\n",
      "state_province : wa\n",
      "postal_code : 98230\n",
      "url : https://www.blainefoodbank.org\n",
      "\n",
      "name : blaine food bank\n",
      "address_1 : 500 c st\n",
      "address_2 : \n",
      "city : blaine\n",
      "state_province : wa\n",
      "postal_code : 98230\n",
      "url : https://www.blainefoodbank.org/\n",
      "\n",
      "5/10 positive, 3/10 negative\n",
      "Do these records refer to the same thing?\n",
      "(y)es / (n)o / (u)nsure / (f)inished / (p)revious\n"
     ]
    },
    {
     "name": "stdout",
     "output_type": "stream",
     "text": [
      "y\n"
     ]
    },
    {
     "name": "stderr",
     "output_type": "stream",
     "text": [
      "name : salvation army - bellingham\n",
      "address_1 : 1515 birchwood avenue\n",
      "address_2 : \n",
      "city : bellingham\n",
      "state_province : wa\n",
      "postal_code : 98225\n",
      "url : https://bellingham.salvationarmy.org\n",
      "\n",
      "name : salvation army - bellingham\n",
      "address_1 : 1515 birchwood aven\n",
      "address_2 : \n",
      "city : bellingham\n",
      "state_province : wa\n",
      "postal_code : 98225\n",
      "url : https://bellingham.salvationarmy.org\n",
      "\n",
      "6/10 positive, 3/10 negative\n",
      "Do these records refer to the same thing?\n",
      "(y)es / (n)o / (u)nsure / (f)inished / (p)revious\n"
     ]
    },
    {
     "name": "stdout",
     "output_type": "stream",
     "text": [
      "y\n"
     ]
    },
    {
     "name": "stderr",
     "output_type": "stream",
     "text": [
      "name : whatcom family ymca\n",
      "address_1 : 1256 north state str\n",
      "address_2 : \n",
      "city : bellingham\n",
      "state_province : wa\n",
      "postal_code : 98225\n",
      "url : http://whatcomymca.org\n",
      "\n",
      "name : whatcom family ymca\n",
      "address_1 : 1256 north state street\n",
      "address_2 : \n",
      "city : bellingham\n",
      "state_province : wa\n",
      "postal_code : 98225\n",
      "url : http://whatcomymca.org\n",
      "\n",
      "7/10 positive, 3/10 negative\n",
      "Do these records refer to the same thing?\n",
      "(y)es / (n)o / (u)nsure / (f)inished / (p)revious\n"
     ]
    },
    {
     "name": "stdout",
     "output_type": "stream",
     "text": [
      "n\n"
     ]
    },
    {
     "name": "stderr",
     "output_type": "stream",
     "text": [
      "name : whatcom hospice\n",
      "address_1 : 3001 squalicum parkway\n",
      "address_2 : suite 11\n",
      "city : bellingham\n",
      "state_province : wa\n",
      "postal_code : 98225\n",
      "url : http://whatcomhospice.org\n",
      "\n",
      "name : whatcom hospice\n",
      "address_1 : 2901 squalicum parkway\n",
      "address_2 : \n",
      "city : bellingham\n",
      "state_province : wa\n",
      "postal_code : 98225\n",
      "url : http://whatcomhospice.org\n",
      "\n",
      "7/10 positive, 4/10 negative\n",
      "Do these records refer to the same thing?\n",
      "(y)es / (n)o / (u)nsure / (f)inished / (p)revious\n"
     ]
    },
    {
     "name": "stdout",
     "output_type": "stream",
     "text": [
      "y\n"
     ]
    },
    {
     "name": "stderr",
     "output_type": "stream",
     "text": [
      "name : whatcom hospice\n",
      "address_1 : 3001 squalicum parkway\n",
      "address_2 : suite 11\n",
      "city : bellingham\n",
      "state_province : wa\n",
      "postal_code : 98225\n",
      "url : http://whatcomhospice.org\n",
      "\n",
      "name : whatcom hospice\n",
      "address_1 : 2901 squalicum parkway\n",
      "address_2 : \n",
      "city : bellingham\n",
      "state_province : wa\n",
      "postal_code : 98225\n",
      "url : http://whatcomhospice.org\n",
      "\n",
      "8/10 positive, 4/10 negative\n",
      "Do these records refer to the same thing?\n",
      "(y)es / (n)o / (u)nsure / (f)inished / (p)revious\n"
     ]
    },
    {
     "name": "stdout",
     "output_type": "stream",
     "text": [
      "n\n"
     ]
    },
    {
     "name": "stderr",
     "output_type": "stream",
     "text": [
      "name : united way of whatcom county\n",
      "address_1 : 1500 cornwall ave. ste 203\n",
      "address_2 : \n",
      "city : bellingham\n",
      "state_province : wa\n",
      "postal_code : 98225\n",
      "url : http://www.unitedwaywhatcom.org\n",
      "\n",
      "name : united way of whatcom county\n",
      "address_1 : 1500 cornwall ave\n",
      "address_2 : suite 203\n",
      "city : bellingham\n",
      "state_province : wa\n",
      "postal_code : 98225\n",
      "url : http://www.unitedwaywhatcom.org\n",
      "\n",
      "8/10 positive, 5/10 negative\n",
      "Do these records refer to the same thing?\n",
      "(y)es / (n)o / (u)nsure / (f)inished / (p)revious\n"
     ]
    },
    {
     "name": "stdout",
     "output_type": "stream",
     "text": [
      "y\n"
     ]
    },
    {
     "name": "stderr",
     "output_type": "stream",
     "text": [
      "name : northwest youth services\n",
      "address_1 : 1020 north state street\n",
      "address_2 : \n",
      "city : bellingham\n",
      "state_province : wa\n",
      "postal_code : 98225\n",
      "url : http://www.nwys.org/\n",
      "\n",
      "name : northwest youth services\n",
      "address_1 : 1020 north state str\n",
      "address_2 : \n",
      "city : bellingham\n",
      "state_province : wa\n",
      "postal_code : 98225\n",
      "url : http://www.nwys.org/\n",
      "\n",
      "9/10 positive, 5/10 negative\n",
      "Do these records refer to the same thing?\n",
      "(y)es / (n)o / (u)nsure / (f)inished / (p)revious\n"
     ]
    },
    {
     "name": "stdout",
     "output_type": "stream",
     "text": [
      "n\n"
     ]
    },
    {
     "name": "stderr",
     "output_type": "stream",
     "text": [
      "name : planned parenthood\n",
      "address_1 : 1530 ellis st\n",
      "address_2 : \n",
      "city : bellingham\n",
      "state_province : wa\n",
      "postal_code : 98225\n",
      "url : http://ppgnhi.org\n",
      "\n",
      "name : planned parenthood (bellingham)\n",
      "address_1 : 1530 ellis st\n",
      "address_2 : \n",
      "city : bellingham\n",
      "state_province : wa\n",
      "postal_code : 98225\n",
      "url : https://www.plannedparenthood.org/health-center/washington/bellingham/98225/bellingham-health-center-2454-91780\n",
      "\n",
      "9/10 positive, 6/10 negative\n",
      "Do these records refer to the same thing?\n",
      "(y)es / (n)o / (u)nsure / (f)inished / (p)revious\n"
     ]
    },
    {
     "name": "stdout",
     "output_type": "stream",
     "text": [
      "y\n"
     ]
    },
    {
     "name": "stderr",
     "output_type": "stream",
     "text": [
      "name : whatcom county\n",
      "address_1 : 311 grand avenue\n",
      "address_2 : \n",
      "city : bellingham\n",
      "state_province : wa\n",
      "postal_code : 98225\n",
      "url : http://www.co.whatcom.wa.us\n",
      "\n",
      "name : whatcom county courts\n",
      "address_1 : 311 grand avenue\n",
      "address_2 : suite 501\n",
      "city : bellingham\n",
      "state_province : wa\n",
      "postal_code : 98225\n",
      "url : http://www.courts.wa.gov/court_dir/orgs/296.html\n",
      "\n",
      "10/10 positive, 6/10 negative\n",
      "Do these records refer to the same thing?\n",
      "(y)es / (n)o / (u)nsure / (f)inished / (p)revious\n"
     ]
    },
    {
     "name": "stdout",
     "output_type": "stream",
     "text": [
      "y\n"
     ]
    },
    {
     "name": "stderr",
     "output_type": "stream",
     "text": [
      "name : whatcom county\n",
      "address_1 : 311 grand avenue\n",
      "address_2 : \n",
      "city : bellingham\n",
      "state_province : wa\n",
      "postal_code : 98225\n",
      "url : http://www.co.whatcom.wa.us\n",
      "\n",
      "name : whatcom county courts\n",
      "address_1 : 311 grand avenue\n",
      "address_2 : suite 301\n",
      "city : bellingham\n",
      "state_province : wa\n",
      "postal_code : 98225\n",
      "url : http://www.courts.wa.gov/court_dir/orgs/296.html\n",
      "\n",
      "11/10 positive, 6/10 negative\n",
      "Do these records refer to the same thing?\n",
      "(y)es / (n)o / (u)nsure / (f)inished / (p)revious\n"
     ]
    },
    {
     "name": "stdout",
     "output_type": "stream",
     "text": [
      "y\n"
     ]
    },
    {
     "name": "stderr",
     "output_type": "stream",
     "text": [
      "name : volunteer center of whatcom county\n",
      "address_1 : 1419 cornwall avenue\n",
      "address_2 : \n",
      "city : bellingham\n",
      "state_province : wa\n",
      "postal_code : 98225\n",
      "url : http://www.whatcomvolunteer.org\n",
      "\n",
      "name : volunteer center of whatcom county\n",
      "address_1 : 1111 cornwall avenue\n",
      "address_2 : \n",
      "city : bellingham\n",
      "state_province : wa\n",
      "postal_code : 98225\n",
      "url : http://www.whatcomvolunteer.org\n",
      "\n",
      "12/10 positive, 6/10 negative\n",
      "Do these records refer to the same thing?\n",
      "(y)es / (n)o / (u)nsure / (f)inished / (p)revious\n"
     ]
    },
    {
     "name": "stdout",
     "output_type": "stream",
     "text": [
      "y\n"
     ]
    },
    {
     "name": "stderr",
     "output_type": "stream",
     "text": [
      "name : volunteer center of whatcom county\n",
      "address_1 : 1419 cornwall avenue\n",
      "address_2 : \n",
      "city : bellingham\n",
      "state_province : wa\n",
      "postal_code : 98225\n",
      "url : http://www.whatcomvolunteer.org\n",
      "\n",
      "name : volunteer center of whatcom county\n",
      "address_1 : 1111 cornwall avenue\n",
      "address_2 : \n",
      "city : bellingham\n",
      "state_province : wa\n",
      "postal_code : 98225\n",
      "url : http://www.whatcomvolunteer.org\n",
      "\n",
      "13/10 positive, 6/10 negative\n",
      "Do these records refer to the same thing?\n",
      "(y)es / (n)o / (u)nsure / (f)inished / (p)revious\n"
     ]
    },
    {
     "name": "stdout",
     "output_type": "stream",
     "text": [
      "n\n"
     ]
    },
    {
     "name": "stderr",
     "output_type": "stream",
     "text": [
      "name : ferndale food bank\n",
      "address_1 : 1671 main street\n",
      "address_2 : wta transfer station property\n",
      "city : ferndale\n",
      "state_province : wa\n",
      "postal_code : 98248\n",
      "url : http://www.ferndalefoodbank.org\n",
      "\n",
      "name : ferndale food bank\n",
      "address_1 : 1671 main st\n",
      "address_2 : \n",
      "city : ferndale\n",
      "state_province : wa\n",
      "postal_code : 98248\n",
      "url : \n",
      "\n",
      "13/10 positive, 7/10 negative\n",
      "Do these records refer to the same thing?\n",
      "(y)es / (n)o / (u)nsure / (f)inished / (p)revious\n"
     ]
    },
    {
     "name": "stdout",
     "output_type": "stream",
     "text": [
      "n\n"
     ]
    },
    {
     "name": "stderr",
     "output_type": "stream",
     "text": [
      "name : lighthouse mission ministries\n",
      "address_1 : 910 west holly street\n",
      "address_2 : \n",
      "city : bellingham\n",
      "state_province : wa\n",
      "postal_code : 98225\n",
      "url : http://www.thelighthousemission.org\n",
      "\n",
      "name : lighthouse mission ministries\n",
      "address_1 : 910 west holly str\n",
      "address_2 : \n",
      "city : bellingham\n",
      "state_province : wa\n",
      "postal_code : 98225\n",
      "url : http://www.thelighthousemission.org\n",
      "\n",
      "13/10 positive, 8/10 negative\n",
      "Do these records refer to the same thing?\n",
      "(y)es / (n)o / (u)nsure / (f)inished / (p)revious\n"
     ]
    },
    {
     "name": "stdout",
     "output_type": "stream",
     "text": [
      "n\n"
     ]
    },
    {
     "name": "stderr",
     "output_type": "stream",
     "text": [
      "name : arc of whatcom county\n",
      "address_1 : 2602 mcleod road\n",
      "address_2 : \n",
      "city : bellingham\n",
      "state_province : wa\n",
      "postal_code : 98225\n",
      "url : http://www.arcwhatcom.org\n",
      "\n",
      "name : arc of whatcom county\n",
      "address_1 : 2602 mcleod rd\n",
      "address_2 : \n",
      "city : bellingham\n",
      "state_province : wa\n",
      "postal_code : 98225\n",
      "url : http://www.arcwhatcom.org\n",
      "\n",
      "13/10 positive, 9/10 negative\n",
      "Do these records refer to the same thing?\n",
      "(y)es / (n)o / (u)nsure / (f)inished / (p)revious\n"
     ]
    },
    {
     "name": "stdout",
     "output_type": "stream",
     "text": [
      "n\n"
     ]
    },
    {
     "name": "stderr",
     "output_type": "stream",
     "text": [
      "name : arc of whatcom county\n",
      "address_1 : 2602 mcleod road\n",
      "address_2 : \n",
      "city : bellingham\n",
      "state_province : wa\n",
      "postal_code : 98225\n",
      "url : http://www.arcwhatcom.org\n",
      "\n",
      "name : arc of whatcom county\n",
      "address_1 : 2602 mcleod rd\n",
      "address_2 : \n",
      "city : bellingham\n",
      "state_province : wa\n",
      "postal_code : 98225\n",
      "url : http://www.arcwhatcom.org\n",
      "\n",
      "13/10 positive, 10/10 negative\n",
      "Do these records refer to the same thing?\n",
      "(y)es / (n)o / (u)nsure / (f)inished / (p)revious\n"
     ]
    },
    {
     "name": "stdout",
     "output_type": "stream",
     "text": [
      "y\n"
     ]
    },
    {
     "name": "stderr",
     "output_type": "stream",
     "text": [
      "name : opportunity council in whatcom county\n",
      "address_1 : 1111 cornwall aven\n",
      "address_2 : suite c\n",
      "city : bellingham\n",
      "state_province : wa\n",
      "postal_code : 98225\n",
      "url : http://www.oppco.org\n",
      "\n",
      "name : opportunity council (whatcom & san juan)\n",
      "address_1 : 1111 cornwall ave,suite c\n",
      "address_2 : \n",
      "city : bellingham\n",
      "state_province : wa\n",
      "postal_code : 98225\n",
      "url : https://www.oppco.org/\n",
      "\n",
      "14/10 positive, 10/10 negative\n",
      "Do these records refer to the same thing?\n",
      "(y)es / (n)o / (u)nsure / (f)inished / (p)revious\n"
     ]
    },
    {
     "name": "stdout",
     "output_type": "stream",
     "text": [
      "y\n"
     ]
    },
    {
     "name": "stderr",
     "output_type": "stream",
     "text": [
      "name : whatcom county\n",
      "address_1 : 311 grand avenue\n",
      "address_2 : \n",
      "city : bellingham\n",
      "state_province : wa\n",
      "postal_code : 98225\n",
      "url : http://www.co.whatcom.wa.us\n",
      "\n",
      "name : whatcom county courts\n",
      "address_1 : 311 grand ave\n",
      "address_2 : suite 501\n",
      "city : bellingham\n",
      "state_province : wa\n",
      "postal_code : 98225\n",
      "url : http://www.courts.wa.gov/court_dir/orgs/296.html\n",
      "\n",
      "15/10 positive, 10/10 negative\n",
      "Do these records refer to the same thing?\n",
      "(y)es / (n)o / (u)nsure / (f)inished / (p)revious\n"
     ]
    },
    {
     "name": "stdout",
     "output_type": "stream",
     "text": [
      "y\n"
     ]
    },
    {
     "name": "stderr",
     "output_type": "stream",
     "text": [
      "name : bellingham food bank\n",
      "address_1 : 4173 meridian street\n",
      "address_2 : \n",
      "city : bellingham\n",
      "state_province : wa\n",
      "postal_code : 98226\n",
      "url : http://bellinghamfoodbank.org\n",
      "\n",
      "name : lifeline connections\n",
      "address_1 : 4120 meridian street\n",
      "address_2 : 220\n",
      "city : bellingham\n",
      "state_province : wa\n",
      "postal_code : 98226\n",
      "url : https://lifelineconnections.org/\n",
      "\n",
      "16/10 positive, 10/10 negative\n",
      "Do these records refer to the same thing?\n",
      "(y)es / (n)o / (u)nsure / (f)inished / (p)revious\n"
     ]
    },
    {
     "name": "stdout",
     "output_type": "stream",
     "text": [
      "y\n"
     ]
    },
    {
     "name": "stderr",
     "output_type": "stream",
     "text": [
      "name : journey housing and payee services\n",
      "address_1 : 1515 cornwall avenue\n",
      "address_2 : \n",
      "city : bellingham\n",
      "state_province : wa\n",
      "postal_code : 98225\n",
      "url : https://journeyhousingandpayee.org\n",
      "\n",
      "name : united way of whatcom county\n",
      "address_1 : 1500 cornwall avenue\n",
      "address_2 : suite 203\n",
      "city : bellingham\n",
      "state_province : wa\n",
      "postal_code : 98225\n",
      "url : http://www.unitedwaywhatcom.org\n",
      "\n",
      "17/10 positive, 10/10 negative\n",
      "Do these records refer to the same thing?\n",
      "(y)es / (n)o / (u)nsure / (f)inished / (p)revious\n"
     ]
    },
    {
     "name": "stdout",
     "output_type": "stream",
     "text": [
      "n\n"
     ]
    },
    {
     "name": "stderr",
     "output_type": "stream",
     "text": [
      "name : law advocates\n",
      "address_1 : 311 grand avenue\n",
      "address_2 : 5th floor\n",
      "city : bellingham\n",
      "state_province : wa\n",
      "postal_code : 98225\n",
      "url : http://www.lawadvocates.org\n",
      "\n",
      "name : whatcom county\n",
      "address_1 : 311 grand ave\n",
      "address_2 : \n",
      "city : bellingham\n",
      "state_province : wa\n",
      "postal_code : 98225\n",
      "url : http://www.co.whatcom.wa.us\n",
      "\n",
      "17/10 positive, 11/10 negative\n",
      "Do these records refer to the same thing?\n",
      "(y)es / (n)o / (u)nsure / (f)inished / (p)revious\n"
     ]
    },
    {
     "name": "stdout",
     "output_type": "stream",
     "text": [
      "n\n"
     ]
    },
    {
     "name": "stderr",
     "output_type": "stream",
     "text": [
      "name : whatcom county courts\n",
      "address_1 : 311 grand avenue\n",
      "address_2 : suite 501\n",
      "city : bellingham\n",
      "state_province : wa\n",
      "postal_code : 98225\n",
      "url : http://www.courts.wa.gov/court_dir/orgs/296.html\n",
      "\n",
      "name : whatcom county sheriff's office\n",
      "address_1 : 311 grand ave\n",
      "address_2 : \n",
      "city : bellingham\n",
      "state_province : wa\n",
      "postal_code : 98225\n",
      "url : http://www.co.whatcom.wa.us/sheriff/\n",
      "\n",
      "17/10 positive, 12/10 negative\n",
      "Do these records refer to the same thing?\n",
      "(y)es / (n)o / (u)nsure / (f)inished / (p)revious\n"
     ]
    },
    {
     "name": "stdout",
     "output_type": "stream",
     "text": [
      "n\n"
     ]
    },
    {
     "name": "stderr",
     "output_type": "stream",
     "text": [
      "name : whatcom county courts\n",
      "address_1 : 311 grand avenue\n",
      "address_2 : suite 501\n",
      "city : bellingham\n",
      "state_province : wa\n",
      "postal_code : 98225\n",
      "url : http://www.courts.wa.gov/court_dir/orgs/296.html\n",
      "\n",
      "name : whatcom county sheriff's office\n",
      "address_1 : 311 grand ave\n",
      "address_2 : \n",
      "city : bellingham\n",
      "state_province : wa\n",
      "postal_code : 98225\n",
      "url : http://www.co.whatcom.wa.us/sheriff/\n",
      "\n",
      "17/10 positive, 13/10 negative\n",
      "Do these records refer to the same thing?\n",
      "(y)es / (n)o / (u)nsure / (f)inished / (p)revious\n"
     ]
    },
    {
     "name": "stdout",
     "output_type": "stream",
     "text": [
      "n\n"
     ]
    },
    {
     "name": "stderr",
     "output_type": "stream",
     "text": [
      "name : whatcom county sheriff's office\n",
      "address_1 : 311 grand avenue\n",
      "address_2 : \n",
      "city : bellingham\n",
      "state_province : wa\n",
      "postal_code : 98225\n",
      "url : http://www.co.whatcom.wa.us/sheriff/\n",
      "\n",
      "name : whatcom county\n",
      "address_1 : 311 grand ave\n",
      "address_2 : \n",
      "city : bellingham\n",
      "state_province : wa\n",
      "postal_code : 98225\n",
      "url : http://www.co.whatcom.wa.us\n",
      "\n",
      "17/10 positive, 14/10 negative\n",
      "Do these records refer to the same thing?\n",
      "(y)es / (n)o / (u)nsure / (f)inished / (p)revious\n"
     ]
    },
    {
     "name": "stdout",
     "output_type": "stream",
     "text": [
      "y\n"
     ]
    },
    {
     "name": "stderr",
     "output_type": "stream",
     "text": [
      "name : whatcom county\n",
      "address_1 : 311 grand avenue\n",
      "address_2 : \n",
      "city : bellingham\n",
      "state_province : wa\n",
      "postal_code : 98225\n",
      "url : http://www.co.whatcom.wa.us\n",
      "\n",
      "name : whatcom county sheriff's office\n",
      "address_1 : 311 grand ave\n",
      "address_2 : \n",
      "city : bellingham\n",
      "state_province : wa\n",
      "postal_code : 98225\n",
      "url : http://www.co.whatcom.wa.us/sheriff/\n",
      "\n",
      "18/10 positive, 14/10 negative\n",
      "Do these records refer to the same thing?\n",
      "(y)es / (n)o / (u)nsure / (f)inished / (p)revious\n"
     ]
    },
    {
     "name": "stdout",
     "output_type": "stream",
     "text": [
      "y\n"
     ]
    },
    {
     "name": "stderr",
     "output_type": "stream",
     "text": [
      "name : whatcom county courts\n",
      "address_1 : po box 2914\n",
      "address_2 : \n",
      "city : ferndale\n",
      "state_province : wa\n",
      "postal_code : 98248\n",
      "url : http://www.courts.wa.gov/court_dir/orgs/296.html\n",
      "\n",
      "name : whatcom county courts\n",
      "address_1 : po box 9\n",
      "address_2 : \n",
      "city : sumas\n",
      "state_province : wa\n",
      "postal_code : 98295\n",
      "url : http://www.courts.wa.gov/court_dir/orgs/296.html\n",
      "\n",
      "19/10 positive, 14/10 negative\n",
      "Do these records refer to the same thing?\n",
      "(y)es / (n)o / (u)nsure / (f)inished / (p)revious\n"
     ]
    },
    {
     "name": "stdout",
     "output_type": "stream",
     "text": [
      "y\n"
     ]
    },
    {
     "name": "stderr",
     "output_type": "stream",
     "text": [
      "name : whatcom county courts\n",
      "address_1 : po box 315\n",
      "address_2 : \n",
      "city : everson\n",
      "state_province : wa\n",
      "postal_code : 98247\n",
      "url : http://www.courts.wa.gov/court_dir/orgs/296.html\n",
      "\n",
      "name : whatcom county courts\n",
      "address_1 : po box 9\n",
      "address_2 : \n",
      "city : sumas\n",
      "state_province : wa\n",
      "postal_code : 98295\n",
      "url : http://www.courts.wa.gov/court_dir/orgs/296.html\n",
      "\n",
      "20/10 positive, 14/10 negative\n",
      "Do these records refer to the same thing?\n",
      "(y)es / (n)o / (u)nsure / (f)inished / (p)revious\n"
     ]
    },
    {
     "name": "stdout",
     "output_type": "stream",
     "text": [
      "y\n"
     ]
    },
    {
     "name": "stderr",
     "output_type": "stream",
     "text": [
      "name : whatcom county courts\n",
      "address_1 : 433 cherry street\n",
      "address_2 : \n",
      "city : sumas\n",
      "state_province : wa\n",
      "postal_code : 98295\n",
      "url : http://www.courts.wa.gov/court_dir/orgs/296.html\n",
      "\n",
      "name : whatcom county courts\n",
      "address_1 : 435 martin street\n",
      "address_2 : suite 4000\n",
      "city : blaine\n",
      "state_province : wa\n",
      "postal_code : \n",
      "url : http://www.courts.wa.gov/court_dir/orgs/296.html\n",
      "\n",
      "21/10 positive, 14/10 negative\n",
      "Do these records refer to the same thing?\n",
      "(y)es / (n)o / (u)nsure / (f)inished / (p)revious\n"
     ]
    },
    {
     "name": "stdout",
     "output_type": "stream",
     "text": [
      "n\n"
     ]
    },
    {
     "name": "stderr",
     "output_type": "stream",
     "text": [
      "name : whatcom county courts\n",
      "address_1 : 205 4th street\n",
      "address_2 : \n",
      "city : lynden\n",
      "state_province : wa\n",
      "postal_code : 98264\n",
      "url : http://www.courts.wa.gov/court_dir/orgs/296.html\n",
      "\n",
      "name : whatcom county courts\n",
      "address_1 : 435 martin street\n",
      "address_2 : suite 4000\n",
      "city : blaine\n",
      "state_province : wa\n",
      "postal_code : \n",
      "url : http://www.courts.wa.gov/court_dir/orgs/296.html\n",
      "\n",
      "21/10 positive, 15/10 negative\n",
      "Do these records refer to the same thing?\n",
      "(y)es / (n)o / (u)nsure / (f)inished / (p)revious\n"
     ]
    },
    {
     "name": "stdout",
     "output_type": "stream",
     "text": [
      "n\n"
     ]
    },
    {
     "name": "stderr",
     "output_type": "stream",
     "text": [
      "name : *required* text\n",
      "address_1 : text\n",
      "address_2 : text\n",
      "city : text\n",
      "state_province : two character state (all caps)\n",
      "postal_code : 99999 or 99999-9999\n",
      "url : http://some.domain.com\n",
      "\n",
      "name : *required* text\n",
      "address_1 : text\n",
      "address_2 : text\n",
      "city : text\n",
      "state_province : two character state (all caps)\n",
      "postal_code : 99999 or 99999-9999\n",
      "url : http://some.domain.com\n",
      "\n",
      "21/10 positive, 16/10 negative\n",
      "Do these records refer to the same thing?\n",
      "(y)es / (n)o / (u)nsure / (f)inished / (p)revious\n"
     ]
    },
    {
     "name": "stdout",
     "output_type": "stream",
     "text": [
      "n\n"
     ]
    },
    {
     "name": "stderr",
     "output_type": "stream",
     "text": [
      "name : *required* text\n",
      "address_1 : text\n",
      "address_2 : text\n",
      "city : text\n",
      "state_province : two character state (all caps)\n",
      "postal_code : 99999 or 99999-9999\n",
      "url : http://some.domain.com\n",
      "\n",
      "name : *required* text\n",
      "address_1 : text\n",
      "address_2 : text\n",
      "city : text\n",
      "state_province : two character state (all caps)\n",
      "postal_code : 99999 or 99999-9999\n",
      "url : http://some.domain.com\n",
      "\n",
      "21/10 positive, 17/10 negative\n",
      "Do these records refer to the same thing?\n",
      "(y)es / (n)o / (u)nsure / (f)inished / (p)revious\n"
     ]
    },
    {
     "name": "stdout",
     "output_type": "stream",
     "text": [
      "n\n"
     ]
    },
    {
     "name": "stderr",
     "output_type": "stream",
     "text": [
      "name : pioneer human services\n",
      "address_1 : 2026 division street\n",
      "address_2 : \n",
      "city : bellingham\n",
      "state_province : wa\n",
      "postal_code : 98226\n",
      "url : http://pioneerhumanservices.org\n",
      "\n",
      "name : pioneer human services\n",
      "address_1 : 2030 division st\n",
      "address_2 : \n",
      "city : bellingham\n",
      "state_province : wa\n",
      "postal_code : 98226\n",
      "url : http://pioneerhumanservices.org\n",
      "\n",
      "21/10 positive, 18/10 negative\n",
      "Do these records refer to the same thing?\n",
      "(y)es / (n)o / (u)nsure / (f)inished / (p)revious\n"
     ]
    },
    {
     "name": "stdout",
     "output_type": "stream",
     "text": [
      "y\n"
     ]
    },
    {
     "name": "stderr",
     "output_type": "stream",
     "text": [
      "name : whatcom county parks and recreation department\n",
      "address_1 : 3373 mount baker highway\n",
      "address_2 : \n",
      "city : bellingham\n",
      "state_province : wa\n",
      "postal_code : 98226\n",
      "url : http://www.co.whatcom.wa.us/1787/parks-recreation\n",
      "\n",
      "name : whatcom county parks and recreation department\n",
      "address_1 : 3373 mt baker hwy\n",
      "address_2 : \n",
      "city : bellingham\n",
      "state_province : wa\n",
      "postal_code : 98226\n",
      "url : http://www.co.whatcom.wa.us/1787/parks-recreation\n",
      "\n",
      "22/10 positive, 18/10 negative\n",
      "Do these records refer to the same thing?\n",
      "(y)es / (n)o / (u)nsure / (f)inished / (p)revious\n"
     ]
    },
    {
     "name": "stdout",
     "output_type": "stream",
     "text": [
      "y\n"
     ]
    },
    {
     "name": "stderr",
     "output_type": "stream",
     "text": [
      "name : whatcom county courts\n",
      "address_1 : po box 9\n",
      "address_2 : \n",
      "city : sumas\n",
      "state_province : wa\n",
      "postal_code : 98295\n",
      "url : http://www.courts.wa.gov/court_dir/orgs/296.html\n",
      "\n",
      "name : whatcom county pregnancy clinic\n",
      "address_1 : po box 1663\n",
      "address_2 : \n",
      "city : bellingham\n",
      "state_province : wa\n",
      "postal_code : 98227\n",
      "url : http://www.whatcomclinic.com\n",
      "\n",
      "23/10 positive, 18/10 negative\n",
      "Do these records refer to the same thing?\n",
      "(y)es / (n)o / (u)nsure / (f)inished / (p)revious\n"
     ]
    },
    {
     "name": "stdout",
     "output_type": "stream",
     "text": [
      "y\n"
     ]
    },
    {
     "name": "stderr",
     "output_type": "stream",
     "text": [
      "name : sea mar community health centers\n",
      "address_1 : 4455 cordata parkway\n",
      "address_2 : \n",
      "city : bellingham\n",
      "state_province : wa\n",
      "postal_code : 98226\n",
      "url : https://www.seamar.org/\n",
      "\n",
      "name : sea mar community health center (bellingham)\n",
      "address_1 : 4455 cordata pkwy\n",
      "address_2 : \n",
      "city : bellingham\n",
      "state_province : wa\n",
      "postal_code : 98226\n",
      "url : https://www.seamar.org/whatcom-medical-bellingham.html\n",
      "\n",
      "24/10 positive, 18/10 negative\n",
      "Do these records refer to the same thing?\n",
      "(y)es / (n)o / (u)nsure / (f)inished / (p)revious\n"
     ]
    },
    {
     "name": "stdout",
     "output_type": "stream",
     "text": [
      "y\n"
     ]
    },
    {
     "name": "stderr",
     "output_type": "stream",
     "text": [
      "name : whatcom county\n",
      "address_1 : 311 grand ave\n",
      "address_2 : \n",
      "city : bellingham\n",
      "state_province : wa\n",
      "postal_code : 98225\n",
      "url : http://www.co.whatcom.wa.us\n",
      "\n",
      "name : whatcom unified emergency coordination center\n",
      "address_1 : 311 grand avenue\n",
      "address_2 : \n",
      "city : bellingham\n",
      "state_province : wa\n",
      "postal_code : 98225\n",
      "url : http://www.whatcomready.org\n",
      "\n",
      "25/10 positive, 18/10 negative\n",
      "Do these records refer to the same thing?\n",
      "(y)es / (n)o / (u)nsure / (f)inished / (p)revious\n"
     ]
    },
    {
     "name": "stdout",
     "output_type": "stream",
     "text": [
      "f\n",
      "Dumping training results...\n"
     ]
    },
    {
     "name": "stderr",
     "output_type": "stream",
     "text": [
      "Finished labeling\n"
     ]
    }
   ],
   "source": [
    "dedupe.convenience.console_label(deduper)\n",
    "\n",
    "print ('Dumping training results...')\n"
   ]
  },
  {
   "cell_type": "code",
   "execution_count": 9,
   "id": "dd174644",
   "metadata": {},
   "outputs": [],
   "source": [
    "with open(\"training_results.txt\", \"w\") as f:\n",
    "    deduper.write_training(f)"
   ]
  },
  {
   "cell_type": "code",
   "execution_count": 7,
   "id": "35f1c358",
   "metadata": {},
   "outputs": [],
   "source": [
    "#with open(\"training_settings.txt\", \"wb\") as f:\n",
    "#    deduper.write_settings(f)"
   ]
  },
  {
   "cell_type": "code",
   "execution_count": 12,
   "id": "a7c94337",
   "metadata": {},
   "outputs": [
    {
     "name": "stdout",
     "output_type": "stream",
     "text": [
      "training\n"
     ]
    },
    {
     "ename": "NoIndexError",
     "evalue": "Attempting to block with an index predicate without indexing records",
     "output_type": "error",
     "traceback": [
      "\u001b[0;31m---------------------------------------------------------------------------\u001b[0m",
      "\u001b[0;31mAssertionError\u001b[0m                            Traceback (most recent call last)",
      "\u001b[0;32m/usr/local/lib/python3.10/dist-packages/dedupe/predicates.py\u001b[0m in \u001b[0;36m__call__\u001b[0;34m(self, record, **kwargs)\u001b[0m\n\u001b[1;32m    201\u001b[0m             \u001b[0;32mtry\u001b[0m\u001b[0;34m:\u001b[0m\u001b[0;34m\u001b[0m\u001b[0;34m\u001b[0m\u001b[0m\n\u001b[0;32m--> 202\u001b[0;31m                 \u001b[0;32massert\u001b[0m \u001b[0mself\u001b[0m\u001b[0;34m.\u001b[0m\u001b[0mindex\u001b[0m \u001b[0;32mis\u001b[0m \u001b[0;32mnot\u001b[0m \u001b[0;32mNone\u001b[0m\u001b[0;34m\u001b[0m\u001b[0;34m\u001b[0m\u001b[0m\n\u001b[0m\u001b[1;32m    203\u001b[0m             \u001b[0;32mexcept\u001b[0m \u001b[0mAssertionError\u001b[0m\u001b[0;34m:\u001b[0m\u001b[0;34m\u001b[0m\u001b[0;34m\u001b[0m\u001b[0m\n",
      "\u001b[0;31mAssertionError\u001b[0m: ",
      "\nDuring handling of the above exception, another exception occurred:\n",
      "\u001b[0;31mNoIndexError\u001b[0m                              Traceback (most recent call last)",
      "\u001b[0;32m/tmp/ipykernel_28650/290895082.py\u001b[0m in \u001b[0;36m<module>\u001b[0;34m\u001b[0m\n\u001b[1;32m      1\u001b[0m \u001b[0;31m#for field in deduper.fingerprinter.index_fields:\u001b[0m\u001b[0;34m\u001b[0m\u001b[0;34m\u001b[0m\u001b[0m\n\u001b[1;32m      2\u001b[0m \u001b[0mprint\u001b[0m \u001b[0;34m(\u001b[0m\u001b[0;34m'training'\u001b[0m\u001b[0;34m)\u001b[0m\u001b[0;34m\u001b[0m\u001b[0;34m\u001b[0m\u001b[0m\n\u001b[0;32m----> 3\u001b[0;31m \u001b[0mdeduper\u001b[0m\u001b[0;34m.\u001b[0m\u001b[0mtrain\u001b[0m\u001b[0;34m(\u001b[0m\u001b[0;34m)\u001b[0m\u001b[0;34m\u001b[0m\u001b[0;34m\u001b[0m\u001b[0m\n\u001b[0m\u001b[1;32m      4\u001b[0m \u001b[0mprint\u001b[0m\u001b[0;34m(\u001b[0m\u001b[0;34m'trained'\u001b[0m\u001b[0;34m)\u001b[0m\u001b[0;34m\u001b[0m\u001b[0;34m\u001b[0m\u001b[0m\n",
      "\u001b[0;32m/usr/local/lib/python3.10/dist-packages/dedupe/api.py\u001b[0m in \u001b[0;36mtrain\u001b[0;34m(self, recall, index_predicates)\u001b[0m\n\u001b[1;32m   1127\u001b[0m         \u001b[0mself\u001b[0m\u001b[0;34m.\u001b[0m\u001b[0mclassifier\u001b[0m\u001b[0;34m.\u001b[0m\u001b[0mfit\u001b[0m\u001b[0;34m(\u001b[0m\u001b[0mself\u001b[0m\u001b[0;34m.\u001b[0m\u001b[0mdata_model\u001b[0m\u001b[0;34m.\u001b[0m\u001b[0mdistances\u001b[0m\u001b[0;34m(\u001b[0m\u001b[0mexamples\u001b[0m\u001b[0;34m)\u001b[0m\u001b[0;34m,\u001b[0m \u001b[0my\u001b[0m\u001b[0;34m)\u001b[0m\u001b[0;34m\u001b[0m\u001b[0;34m\u001b[0m\u001b[0m\n\u001b[1;32m   1128\u001b[0m \u001b[0;34m\u001b[0m\u001b[0m\n\u001b[0;32m-> 1129\u001b[0;31m         \u001b[0mself\u001b[0m\u001b[0;34m.\u001b[0m\u001b[0mpredicates\u001b[0m \u001b[0;34m=\u001b[0m \u001b[0mself\u001b[0m\u001b[0;34m.\u001b[0m\u001b[0mactive_learner\u001b[0m\u001b[0;34m.\u001b[0m\u001b[0mlearn_predicates\u001b[0m\u001b[0;34m(\u001b[0m\u001b[0mrecall\u001b[0m\u001b[0;34m,\u001b[0m \u001b[0mindex_predicates\u001b[0m\u001b[0;34m)\u001b[0m\u001b[0;34m\u001b[0m\u001b[0;34m\u001b[0m\u001b[0m\n\u001b[0m\u001b[1;32m   1130\u001b[0m         \u001b[0mself\u001b[0m\u001b[0;34m.\u001b[0m\u001b[0m_fingerprinter\u001b[0m \u001b[0;34m=\u001b[0m \u001b[0mblocking\u001b[0m\u001b[0;34m.\u001b[0m\u001b[0mFingerprinter\u001b[0m\u001b[0;34m(\u001b[0m\u001b[0mself\u001b[0m\u001b[0;34m.\u001b[0m\u001b[0mpredicates\u001b[0m\u001b[0;34m)\u001b[0m\u001b[0;34m\u001b[0m\u001b[0;34m\u001b[0m\u001b[0m\n\u001b[1;32m   1131\u001b[0m         \u001b[0mself\u001b[0m\u001b[0;34m.\u001b[0m\u001b[0mfingerprinter\u001b[0m\u001b[0;34m.\u001b[0m\u001b[0mreset_indices\u001b[0m\u001b[0;34m(\u001b[0m\u001b[0;34m)\u001b[0m\u001b[0;34m\u001b[0m\u001b[0;34m\u001b[0m\u001b[0m\n",
      "\u001b[0;32m/usr/local/lib/python3.10/dist-packages/dedupe/labeler.py\u001b[0m in \u001b[0;36mlearn_predicates\u001b[0;34m(self, recall, index_predicates)\u001b[0m\n\u001b[1;32m    420\u001b[0m \u001b[0;34m\u001b[0m\u001b[0m\n\u001b[1;32m    421\u001b[0m         \u001b[0;32melse\u001b[0m\u001b[0;34m:\u001b[0m\u001b[0;34m\u001b[0m\u001b[0;34m\u001b[0m\u001b[0m\n\u001b[0;32m--> 422\u001b[0;31m             learned_preds = self.blocker.block_learner.learn(\n\u001b[0m\u001b[1;32m    423\u001b[0m                 \u001b[0mdupes\u001b[0m\u001b[0;34m,\u001b[0m \u001b[0mrecall\u001b[0m\u001b[0;34m=\u001b[0m\u001b[0mrecall\u001b[0m\u001b[0;34m,\u001b[0m \u001b[0mcandidate_types\u001b[0m\u001b[0;34m=\u001b[0m\u001b[0;34m\"random forest\"\u001b[0m\u001b[0;34m\u001b[0m\u001b[0;34m\u001b[0m\u001b[0m\n\u001b[1;32m    424\u001b[0m             )\n",
      "\u001b[0;32m/usr/local/lib/python3.10/dist-packages/dedupe/training.py\u001b[0m in \u001b[0;36mlearn\u001b[0;34m(self, matches, recall, candidate_types)\u001b[0m\n\u001b[1;32m     40\u001b[0m \u001b[0;34m\u001b[0m\u001b[0m\n\u001b[1;32m     41\u001b[0m         \u001b[0mcomparison_cover\u001b[0m \u001b[0;34m=\u001b[0m \u001b[0mself\u001b[0m\u001b[0;34m.\u001b[0m\u001b[0mcomparison_cover\u001b[0m\u001b[0;34m\u001b[0m\u001b[0;34m\u001b[0m\u001b[0m\n\u001b[0;32m---> 42\u001b[0;31m         \u001b[0mmatch_cover\u001b[0m \u001b[0;34m=\u001b[0m \u001b[0mself\u001b[0m\u001b[0;34m.\u001b[0m\u001b[0mcover\u001b[0m\u001b[0;34m(\u001b[0m\u001b[0mmatches\u001b[0m\u001b[0;34m)\u001b[0m\u001b[0;34m\u001b[0m\u001b[0;34m\u001b[0m\u001b[0m\n\u001b[0m\u001b[1;32m     43\u001b[0m \u001b[0;34m\u001b[0m\u001b[0m\n\u001b[1;32m     44\u001b[0m         \u001b[0;32mfor\u001b[0m \u001b[0mkey\u001b[0m \u001b[0;32min\u001b[0m \u001b[0mlist\u001b[0m\u001b[0;34m(\u001b[0m\u001b[0mmatch_cover\u001b[0m\u001b[0;34m.\u001b[0m\u001b[0mkeys\u001b[0m\u001b[0;34m(\u001b[0m\u001b[0;34m)\u001b[0m \u001b[0;34m-\u001b[0m \u001b[0mcomparison_cover\u001b[0m\u001b[0;34m.\u001b[0m\u001b[0mkeys\u001b[0m\u001b[0;34m(\u001b[0m\u001b[0;34m)\u001b[0m\u001b[0;34m)\u001b[0m\u001b[0;34m:\u001b[0m\u001b[0;34m\u001b[0m\u001b[0;34m\u001b[0m\u001b[0m\n",
      "\u001b[0;32m/usr/local/lib/python3.10/dist-packages/dedupe/training.py\u001b[0m in \u001b[0;36mcover\u001b[0;34m(self, pairs)\u001b[0m\n\u001b[1;32m    142\u001b[0m         \u001b[0mpredicate_cover\u001b[0m \u001b[0;34m=\u001b[0m \u001b[0;34m{\u001b[0m\u001b[0;34m}\u001b[0m\u001b[0;34m\u001b[0m\u001b[0;34m\u001b[0m\u001b[0m\n\u001b[1;32m    143\u001b[0m         \u001b[0;32mfor\u001b[0m \u001b[0mpredicate\u001b[0m \u001b[0;32min\u001b[0m \u001b[0mself\u001b[0m\u001b[0;34m.\u001b[0m\u001b[0mblocker\u001b[0m\u001b[0;34m.\u001b[0m\u001b[0mpredicates\u001b[0m\u001b[0;34m:\u001b[0m\u001b[0;34m\u001b[0m\u001b[0;34m\u001b[0m\u001b[0m\n\u001b[0;32m--> 144\u001b[0;31m             coverage = frozenset(\n\u001b[0m\u001b[1;32m    145\u001b[0m                 \u001b[0mi\u001b[0m\u001b[0;34m\u001b[0m\u001b[0;34m\u001b[0m\u001b[0m\n\u001b[1;32m    146\u001b[0m                 \u001b[0;32mfor\u001b[0m \u001b[0mi\u001b[0m\u001b[0;34m,\u001b[0m \u001b[0;34m(\u001b[0m\u001b[0mrecord_1\u001b[0m\u001b[0;34m,\u001b[0m \u001b[0mrecord_2\u001b[0m\u001b[0;34m)\u001b[0m \u001b[0;32min\u001b[0m \u001b[0menumerate\u001b[0m\u001b[0;34m(\u001b[0m\u001b[0mpairs\u001b[0m\u001b[0;34m)\u001b[0m\u001b[0;34m\u001b[0m\u001b[0;34m\u001b[0m\u001b[0m\n",
      "\u001b[0;32m/usr/local/lib/python3.10/dist-packages/dedupe/training.py\u001b[0m in \u001b[0;36m<genexpr>\u001b[0;34m(.0)\u001b[0m\n\u001b[1;32m    145\u001b[0m                 \u001b[0mi\u001b[0m\u001b[0;34m\u001b[0m\u001b[0;34m\u001b[0m\u001b[0m\n\u001b[1;32m    146\u001b[0m                 \u001b[0;32mfor\u001b[0m \u001b[0mi\u001b[0m\u001b[0;34m,\u001b[0m \u001b[0;34m(\u001b[0m\u001b[0mrecord_1\u001b[0m\u001b[0;34m,\u001b[0m \u001b[0mrecord_2\u001b[0m\u001b[0;34m)\u001b[0m \u001b[0;32min\u001b[0m \u001b[0menumerate\u001b[0m\u001b[0;34m(\u001b[0m\u001b[0mpairs\u001b[0m\u001b[0;34m)\u001b[0m\u001b[0;34m\u001b[0m\u001b[0;34m\u001b[0m\u001b[0m\n\u001b[0;32m--> 147\u001b[0;31m                 \u001b[0;32mif\u001b[0m \u001b[0;34m(\u001b[0m\u001b[0mset\u001b[0m\u001b[0;34m(\u001b[0m\u001b[0mpredicate\u001b[0m\u001b[0;34m(\u001b[0m\u001b[0mrecord_1\u001b[0m\u001b[0;34m)\u001b[0m\u001b[0;34m)\u001b[0m \u001b[0;34m&\u001b[0m \u001b[0mset\u001b[0m\u001b[0;34m(\u001b[0m\u001b[0mpredicate\u001b[0m\u001b[0;34m(\u001b[0m\u001b[0mrecord_2\u001b[0m\u001b[0;34m,\u001b[0m \u001b[0mtarget\u001b[0m\u001b[0;34m=\u001b[0m\u001b[0;32mTrue\u001b[0m\u001b[0;34m)\u001b[0m\u001b[0;34m)\u001b[0m\u001b[0;34m)\u001b[0m\u001b[0;34m\u001b[0m\u001b[0;34m\u001b[0m\u001b[0m\n\u001b[0m\u001b[1;32m    148\u001b[0m             )\n\u001b[1;32m    149\u001b[0m             \u001b[0;32mif\u001b[0m \u001b[0mcoverage\u001b[0m\u001b[0;34m:\u001b[0m\u001b[0;34m\u001b[0m\u001b[0;34m\u001b[0m\u001b[0m\n",
      "\u001b[0;32m/usr/local/lib/python3.10/dist-packages/dedupe/predicates.py\u001b[0m in \u001b[0;36m__call__\u001b[0;34m(self, record, **kwargs)\u001b[0m\n\u001b[1;32m    202\u001b[0m                 \u001b[0;32massert\u001b[0m \u001b[0mself\u001b[0m\u001b[0;34m.\u001b[0m\u001b[0mindex\u001b[0m \u001b[0;32mis\u001b[0m \u001b[0;32mnot\u001b[0m \u001b[0;32mNone\u001b[0m\u001b[0;34m\u001b[0m\u001b[0;34m\u001b[0m\u001b[0m\n\u001b[1;32m    203\u001b[0m             \u001b[0;32mexcept\u001b[0m \u001b[0mAssertionError\u001b[0m\u001b[0;34m:\u001b[0m\u001b[0;34m\u001b[0m\u001b[0;34m\u001b[0m\u001b[0m\n\u001b[0;32m--> 204\u001b[0;31m                 raise NoIndexError(\n\u001b[0m\u001b[1;32m    205\u001b[0m                     \u001b[0;34m\"Attempting to block with an index \"\u001b[0m\u001b[0;34m\u001b[0m\u001b[0;34m\u001b[0m\u001b[0m\n\u001b[1;32m    206\u001b[0m                     \u001b[0;34m\"predicate without indexing records\"\u001b[0m\u001b[0;34m,\u001b[0m\u001b[0;34m\u001b[0m\u001b[0;34m\u001b[0m\u001b[0m\n",
      "\u001b[0;31mNoIndexError\u001b[0m: Attempting to block with an index predicate without indexing records"
     ]
    }
   ],
   "source": [
    "#for field in deduper.fingerprinter.index_fields:\n",
    "print ('training')\n",
    "deduper.train() \n",
    "print('trained')"
   ]
  },
  {
   "cell_type": "code",
   "execution_count": null,
   "id": "0b91c009",
   "metadata": {},
   "outputs": [],
   "source": []
  }
 ],
 "metadata": {
  "kernelspec": {
   "display_name": "Python 3 (ipykernel)",
   "language": "python",
   "name": "python3"
  },
  "language_info": {
   "codemirror_mode": {
    "name": "ipython",
    "version": 3
   },
   "file_extension": ".py",
   "mimetype": "text/x-python",
   "name": "python",
   "nbconvert_exporter": "python",
   "pygments_lexer": "ipython3",
   "version": "3.10.4"
  }
 },
 "nbformat": 4,
 "nbformat_minor": 5
}
