{
 "cells": [
  {
   "cell_type": "code",
   "execution_count": 1,
   "id": "49dc1b89",
   "metadata": {},
   "outputs": [
    {
     "ename": "TypeError",
     "evalue": "from_manual() missing 1 required positional argument: 'connector'",
     "output_type": "error",
     "traceback": [
      "\u001b[1;31m---------------------------------------------------------------------------\u001b[0m",
      "\u001b[1;31mTypeError\u001b[0m                                 Traceback (most recent call last)",
      "\u001b[1;32mc:\\Users\\minim\\DE_Projects\\silobuster-documentation\\src\\dedupe\\pandas-dedupe_main.ipynb Cell 1\u001b[0m in \u001b[0;36m<cell line: 27>\u001b[1;34m()\u001b[0m\n\u001b[0;32m      <a href='vscode-notebook-cell:/c%3A/Users/minim/DE_Projects/silobuster-documentation/src/dedupe/pandas-dedupe_main.ipynb#W0sZmlsZQ%3D%3D?line=5'>6</a>\u001b[0m \u001b[39m# pg_feed = PostgresFeed.from_main()\u001b[39;00m\n\u001b[0;32m      <a href='vscode-notebook-cell:/c%3A/Users/minim/DE_Projects/silobuster-documentation/src/dedupe/pandas-dedupe_main.ipynb#W0sZmlsZQ%3D%3D?line=7'>8</a>\u001b[0m manual_query \u001b[39m=\u001b[39m \u001b[39mf\u001b[39m\u001b[39m\"\"\"\u001b[39m\n\u001b[0;32m      <a href='vscode-notebook-cell:/c%3A/Users/minim/DE_Projects/silobuster-documentation/src/dedupe/pandas-dedupe_main.ipynb#W0sZmlsZQ%3D%3D?line=8'>9</a>\u001b[0m \u001b[39m    SELECT\u001b[39m\n\u001b[0;32m     <a href='vscode-notebook-cell:/c%3A/Users/minim/DE_Projects/silobuster-documentation/src/dedupe/pandas-dedupe_main.ipynb#W0sZmlsZQ%3D%3D?line=9'>10</a>\u001b[0m \u001b[39m          id\u001b[39m\n\u001b[1;32m   (...)\u001b[0m\n\u001b[0;32m     <a href='vscode-notebook-cell:/c%3A/Users/minim/DE_Projects/silobuster-documentation/src/dedupe/pandas-dedupe_main.ipynb#W0sZmlsZQ%3D%3D?line=24'>25</a>\u001b[0m \u001b[39m    FROM organizations_mangled\u001b[39m\n\u001b[0;32m     <a href='vscode-notebook-cell:/c%3A/Users/minim/DE_Projects/silobuster-documentation/src/dedupe/pandas-dedupe_main.ipynb#W0sZmlsZQ%3D%3D?line=25'>26</a>\u001b[0m \u001b[39m\"\"\"\u001b[39m\n\u001b[1;32m---> <a href='vscode-notebook-cell:/c%3A/Users/minim/DE_Projects/silobuster-documentation/src/dedupe/pandas-dedupe_main.ipynb#W0sZmlsZQ%3D%3D?line=26'>27</a>\u001b[0m pg_feed \u001b[39m=\u001b[39m PostgresFeed\u001b[39m.\u001b[39;49mfrom_manual(query \u001b[39m=\u001b[39;49m manual_query, column_definition\u001b[39m=\u001b[39;49m\u001b[39mNone\u001b[39;49;00m, primary_key\u001b[39m=\u001b[39;49m\u001b[39m'\u001b[39;49m\u001b[39mid\u001b[39;49m\u001b[39m'\u001b[39;49m)\n\u001b[0;32m     <a href='vscode-notebook-cell:/c%3A/Users/minim/DE_Projects/silobuster-documentation/src/dedupe/pandas-dedupe_main.ipynb#W0sZmlsZQ%3D%3D?line=28'>29</a>\u001b[0m \u001b[39mprint\u001b[39m(pg_feed\u001b[39m.\u001b[39mquery)\n\u001b[0;32m     <a href='vscode-notebook-cell:/c%3A/Users/minim/DE_Projects/silobuster-documentation/src/dedupe/pandas-dedupe_main.ipynb#W0sZmlsZQ%3D%3D?line=29'>30</a>\u001b[0m \u001b[39mprint\u001b[39m (pg_feed\u001b[39m.\u001b[39mdf\u001b[39m.\u001b[39mhead(\u001b[39m5\u001b[39m))\n",
      "\u001b[1;31mTypeError\u001b[0m: from_manual() missing 1 required positional argument: 'connector'"
     ]
    }
   ],
   "source": [
    "import pandas as pd\n",
    "import pandas_dedupe\n",
    "\n",
    "from libs.feeds.postgres_feed import PostgresFeed\n",
    "\n",
    "pg_feed = PostgresFeed.from_main()\n",
    "print(pg_feed.query)\n",
    "print (pg_feed.df.head(5))\n",
    "\n",
    "# The Levenshtein distance is used for fields identified as 'String'. However, it appears we \n",
    "# can't use \"has missing\" with Strings. Where fields may be empty, use type of \"Test\" instead.\n",
    "df_final = pandas_dedupe.dedupe_dataframe(pg_feed.df, [\n",
    "    ('o_name', 'String'),\n",
    "    ('address_1', 'String'), \n",
    "    ('address_2','Text', 'has missing'), \n",
    "    ('city','Text','has missing'), \n",
    "    ('state_province','Text','has missing'), \n",
    "    ('postal_code','Text','has missing'), \n",
    "    ('o_url','Text','has missing'), \n",
    "    #('l_description','Text','has missing')\n",
    "])\n",
    "\n",
    "df_final.to_csv('deduplication_output.csv')"
   ]
  }
 ],
 "metadata": {
  "kernelspec": {
   "display_name": "Python 3.9.12 64-bit",
   "language": "python",
   "name": "python3"
  },
  "language_info": {
   "codemirror_mode": {
    "name": "ipython",
    "version": 3
   },
   "file_extension": ".py",
   "mimetype": "text/x-python",
   "name": "python",
   "nbconvert_exporter": "python",
   "pygments_lexer": "ipython3",
   "version": "3.9.12"
  },
  "vscode": {
   "interpreter": {
    "hash": "81794d4967e6c3204c66dcd87b604927b115b27c00565d3d43f05ba2f3a2cb0d"
   }
  }
 },
 "nbformat": 4,
 "nbformat_minor": 5
}
