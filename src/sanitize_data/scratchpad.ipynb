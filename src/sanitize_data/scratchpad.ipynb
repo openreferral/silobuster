{
 "cells": [
  {
   "cell_type": "code",
   "execution_count": 8,
   "metadata": {},
   "outputs": [
    {
     "name": "stdout",
     "output_type": "stream",
     "text": [
      "['1-800-RUN-AWAY', '1-800-786-2929 24', '7 toll free #']\n"
     ]
    },
    {
     "data": {
      "text/plain": [
       "[]"
      ]
     },
     "execution_count": 8,
     "metadata": {},
     "output_type": "execute_result"
    }
   ],
   "source": [
    "import logging\n",
    "import sys\n",
    "from sanitization_code.sanitize_phone_nums import *\n",
    "from sanitization_code.sanitize_phone_nums import cleaning_engine\n",
    "import re\n",
    "logging.basicConfig(\n",
    "                    stream = sys.stdout, \n",
    "                    filemode = \"w\",\n",
    "                    format = \"%(levelname)s %(asctime)s - %(message)s\", \n",
    "                    level = logging.DEBUG)\n",
    "\n",
    "logger = logging.getLogger()\n",
    "phone_number_with_letters_regex = \"\\s*(?:\\+?1{1})?[-. (]?\\d{3}?[-. )](?:[A-Za-z]{3}[-. (][A-Za-z]{4})$\" \n",
    "\n",
    "exampstr = \"1-800-RUN-AWAY/1-800-786-2929 24/7 toll free #\"\n",
    "\n",
    "list = exampstr.split('/') \n",
    "\n",
    "print(list)\n",
    "\n",
    "re.findall(phone_number_with_letters_regex, exampstr)\n",
    "\n"
   ]
  },
  {
   "cell_type": "code",
   "execution_count": 11,
   "metadata": {},
   "outputs": [
    {
     "name": "stdout",
     "output_type": "stream",
     "text": [
      "DEBUG 2022-11-29 19:39:39,566 - multiple phone numbers inside of entry\n"
     ]
    },
    {
     "ename": "TypeError",
     "evalue": "pluck_phone_num() missing 1 required positional argument: 'logger'",
     "output_type": "error",
     "traceback": [
      "\u001b[1;31m---------------------------------------------------------------------------\u001b[0m",
      "\u001b[1;31mTypeError\u001b[0m                                 Traceback (most recent call last)",
      "Cell \u001b[1;32mIn [11], line 5\u001b[0m\n\u001b[0;32m      1\u001b[0m phonestr \u001b[39m=\u001b[39m \u001b[39m\"\u001b[39m\u001b[39m1-800-RUN-AWAY/1-800-786-2929 24/7 toll free #\u001b[39m\u001b[39m\"\u001b[39m \n\u001b[0;32m      3\u001b[0m raw_phone \u001b[39m=\u001b[39m pluck_phone_num(phone_regex, phonestr, logger) \n\u001b[1;32m----> 5\u001b[0m cleaning_engine(phone_regex, phonestr)\n",
      "File \u001b[1;32mc:\\Users\\shaha\\Documents\\Openreferral_stuff\\silobuster-documentation\\src\\sanitize_data\\sanitization_code\\sanitize_phone_nums.py:142\u001b[0m, in \u001b[0;36mcleaning_engine\u001b[1;34m(phone_regex, raw_phone_str)\u001b[0m\n\u001b[0;32m    141\u001b[0m \u001b[39mdef\u001b[39;00m \u001b[39mcleaning_engine\u001b[39m(phone_regex, raw_phone_str):\n\u001b[1;32m--> 142\u001b[0m     raw_phone_num \u001b[39m=\u001b[39m pluck_phone_num(phone_regex, raw_phone_str)\n\u001b[0;32m    143\u001b[0m     formatted_phone_list \u001b[39m=\u001b[39m format_phone_numbers(phone_regex, raw_phone_num )\n\u001b[0;32m    144\u001b[0m     sanitized_phone_numbers \u001b[39m=\u001b[39m phone_number_sieve(formatted_phone_list)\n",
      "\u001b[1;31mTypeError\u001b[0m: pluck_phone_num() missing 1 required positional argument: 'logger'"
     ]
    }
   ],
   "source": [
    "phonestr = \"1-800-RUN-AWAY/1-800-786-2929 24/7 toll free #\" \n",
    "\n",
    "raw_phone = pluck_phone_num(phone_regex, phonestr, logger) \n",
    "\n",
    "cleaning_engine(phone_regex, phonestr)\n",
    "\n"
   ]
  },
  {
   "cell_type": "code",
   "execution_count": null,
   "metadata": {},
   "outputs": [],
   "source": []
  },
  {
   "cell_type": "code",
   "execution_count": null,
   "metadata": {},
   "outputs": [],
   "source": []
  }
 ],
 "metadata": {
  "kernelspec": {
   "display_name": "Python 3.10.6 64-bit",
   "language": "python",
   "name": "python3"
  },
  "language_info": {
   "codemirror_mode": {
    "name": "ipython",
    "version": 3
   },
   "file_extension": ".py",
   "mimetype": "text/x-python",
   "name": "python",
   "nbconvert_exporter": "python",
   "pygments_lexer": "ipython3",
   "version": "3.10.6"
  },
  "orig_nbformat": 4,
  "vscode": {
   "interpreter": {
    "hash": "00248c7e84a80bad47604e0f3d20c0ccd742328565bc4da58205f5d9f809e3cc"
   }
  }
 },
 "nbformat": 4,
 "nbformat_minor": 2
}
