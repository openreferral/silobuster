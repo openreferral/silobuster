{
 "cells": [
  {
   "cell_type": "code",
   "execution_count": 3,
   "metadata": {},
   "outputs": [
    {
     "name": "stdout",
     "output_type": "stream",
     "text": [
      "DEBUG 2022-11-30 17:10:22,292 - multiple phone numbers inside of entry\n",
      "DEBUG 2022-11-30 17:10:22,293 - multiple phone numbers inside of entry\n"
     ]
    },
    {
     "data": {
      "text/plain": [
       "['360 398 0223', '+1 888 360 0223']"
      ]
     },
     "execution_count": 3,
     "metadata": {},
     "output_type": "execute_result"
    }
   ],
   "source": [
    "from sanitization_code.sanitize_phone_nums import * \n",
    "import logging\n",
    "import sys\n",
    "from sanitization_code.sanitize_phone_nums import *\n",
    "import datetime\n",
    "logging.basicConfig(\n",
    "                    stream = sys.stdout, \n",
    "                    filemode = \"w\",\n",
    "                    format = \"%(levelname)s %(asctime)s - %(message)s\", \n",
    "                    level = logging.DEBUG)\n",
    "\n",
    "logger = logging.getLogger()\n",
    "\n",
    "phonestr = \"(360) 398-0223 or 1 888-360-0223\"\n",
    "\n",
    "prospective_letter_regex = \"\\s*(?:\\+?1{1})?[-. (]?\\d{3}?[-. )](?:[A-Za-z]{3}[-. (][A-Za-z]{4})\"\n",
    "\n",
    "raw_list = pluck_phone_num(phone_regex, phonestr, logger)\n",
    "\n",
    "cleaning_engine(phone_regex, phonestr, logger)"
   ]
  },
  {
   "cell_type": "code",
   "execution_count": 38,
   "metadata": {},
   "outputs": [
    {
     "name": "stdout",
     "output_type": "stream",
     "text": [
      "DEBUG 2022-11-30 19:17:24,909 - multiple phone numbers inside of entry\n"
     ]
    },
    {
     "data": {
      "text/plain": [
       "'[{\"id\": \"23411d38574b25049b80a7d99b1dfd6b\", \"location_id\": \"\", \"service_id\": \"rece0LT47YID7hoU7\", \"organization_id\": \"6f43eeb1b4f368f8e46c2594b212ba3d\", \"contact_id\": \"\", \"service_at_location_id\": null, \"number\": \"360 398 0223\", \"extension\": null, \"type\": \"\", \"language\": \"\", \"description\": \"\"}, {\"id\": \"23411d38574b25049b80a7d99b1dfd6b\", \"location_id\": \"\", \"service_id\": \"rece0LT47YID7hoU7\", \"organization_id\": \"6f43eeb1b4f368f8e46c2594b212ba3d\", \"contact_id\": \"\", \"service_at_location_id\": null, \"number\": \"888 360 0223\", \"extension\": null, \"type\": \"\", \"language\": \"\", \"description\": \"\"}]'"
      ]
     },
     "execution_count": 38,
     "metadata": {},
     "output_type": "execute_result"
    }
   ],
   "source": [
    "import psycopg2\n",
    "import psycopg2.extras\n",
    "import json \n",
    "raw_phone_str = '(360) 398-0223 or 888-360-0223'\n",
    "sanitized_phone_numbers = cleaning_engine(phone_regex, raw_phone_str, logger)\n",
    "DB_CONNECTION = psycopg2.connect(dbname = 'defaultdb', user = 'postgres', password = 'postgres')\n",
    "\n",
    "cursor = DB_CONNECTION.cursor(cursor_factory = psycopg2.extras.RealDictCursor)\n",
    "# sql = \"\"\"select * from phone where number = '(360) 398-0223 or 888-360-0223'\"\"\"\n",
    "# cursor.execute(sql, (raw_phone_str,))\n",
    "\n",
    "results = []\n",
    "for number in sanitized_phone_numbers:\n",
    "    sql = \"\"\"select * from phone where number = %s\"\"\"\n",
    "    cursor.execute(sql, (raw_phone_str,))\n",
    "    result = cursor.fetchone()  \n",
    "    result['number'] = number \n",
    "    results.append(result)\n",
    "\n",
    "json.dumps(results)"
   ]
  },
  {
   "cell_type": "code",
   "execution_count": null,
   "metadata": {},
   "outputs": [],
   "source": []
  }
 ],
 "metadata": {
  "kernelspec": {
   "display_name": "Python 3.10.6 64-bit",
   "language": "python",
   "name": "python3"
  },
  "language_info": {
   "codemirror_mode": {
    "name": "ipython",
    "version": 3
   },
   "file_extension": ".py",
   "mimetype": "text/x-python",
   "name": "python",
   "nbconvert_exporter": "python",
   "pygments_lexer": "ipython3",
   "version": "3.10.6"
  },
  "orig_nbformat": 4,
  "vscode": {
   "interpreter": {
    "hash": "00248c7e84a80bad47604e0f3d20c0ccd742328565bc4da58205f5d9f809e3cc"
   }
  }
 },
 "nbformat": 4,
 "nbformat_minor": 2
}
