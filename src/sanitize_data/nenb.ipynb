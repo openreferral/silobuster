{
 "cells": [
  {
   "cell_type": "code",
   "execution_count": 5,
   "metadata": {},
   "outputs": [
    {
     "name": "stdout",
     "output_type": "stream",
     "text": [
      "DEBUG 2022-11-29 19:50:47,139 - multiple phone numbers inside of entry\n"
     ]
    },
    {
     "data": {
      "text/plain": [
       "['360 398 0223', '888 360 0223']"
      ]
     },
     "execution_count": 5,
     "metadata": {},
     "output_type": "execute_result"
    }
   ],
   "source": [
    "from sanitization_code.sanitize_phone_nums import * \n",
    "import logging\n",
    "import sys\n",
    "from sanitization_code.sanitize_phone_nums import *\n",
    "import datetime\n",
    "logging.basicConfig(\n",
    "                    stream = sys.stdout, \n",
    "                    filemode = \"w\",\n",
    "                    format = \"%(levelname)s %(asctime)s - %(message)s\", \n",
    "                    level = logging.DEBUG)\n",
    "\n",
    "logger = logging.getLogger()\n",
    "\n",
    "phonestr = \"(360) 398-0223 or 888-360-0223\"\n",
    "\n",
    "prospective_letter_regex = \"\\s*(?:\\+?1{1})?[-. (]?\\d{3}?[-. )](?:[A-Za-z]{3}[-. (][A-Za-z]{4})\"\"\n",
    "\n",
    "pluck_phone_num(phone, phonestr, logger)\n",
    "\n",
    "re.findall()\n"
   ]
  },
  {
   "cell_type": "code",
   "execution_count": null,
   "metadata": {},
   "outputs": [],
   "source": []
  }
 ],
 "metadata": {
  "kernelspec": {
   "display_name": "Python 3.10.6 64-bit",
   "language": "python",
   "name": "python3"
  },
  "language_info": {
   "codemirror_mode": {
    "name": "ipython",
    "version": 3
   },
   "file_extension": ".py",
   "mimetype": "text/x-python",
   "name": "python",
   "nbconvert_exporter": "python",
   "pygments_lexer": "ipython3",
   "version": "3.10.6"
  },
  "orig_nbformat": 4,
  "vscode": {
   "interpreter": {
    "hash": "00248c7e84a80bad47604e0f3d20c0ccd742328565bc4da58205f5d9f809e3cc"
   }
  }
 },
 "nbformat": 4,
 "nbformat_minor": 2
}
