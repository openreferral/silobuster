{
 "cells": [
  {
   "cell_type": "code",
   "execution_count": null,
   "id": "c9ca8ec4",
   "metadata": {},
   "outputs": [
    {
     "name": "stdout",
     "output_type": "stream",
     "text": [
      "['organization_id', 'o_name', 'o_url', 'location_id', 'l_name', 'latitude', 'longitude', 'address_1', 'address_2', 'city', 'state_province', 'postal_code']\n",
      "CREATE TABLE IF NOT EXISTS test_mangle (organization_id text, o_name text, o_url text, location_id text, l_name text, latitude text, longitude text, address_1 text, address_2 text, city text, state_province text, postal_code text)\n"
     ]
    }
   ],
   "source": [
    "import pandas as pd\n",
    "import pandas_dedupe\n",
    "\n",
    "from feeds.postgres_feed import PostgresFeed\n",
    "\n",
    "pg_feed = PostgresFeed.from_main()\n",
    "\n",
    "print (pg_feed.columns)\n",
    "\n",
    "def mangle_me(my_data):\n",
    "    return my_data\n",
    "\n",
    "print (pg_feed.mangle_data(staging_table_name=\"test_mangle\", callback=mangle_me))"
   ]
  },
  {
   "cell_type": "code",
   "execution_count": null,
   "id": "6d2c6fb5",
   "metadata": {},
   "outputs": [],
   "source": []
  },
  {
   "cell_type": "code",
   "execution_count": null,
   "id": "db8f1d05",
   "metadata": {},
   "outputs": [],
   "source": []
  },
  {
   "cell_type": "code",
   "execution_count": null,
   "id": "0d556b61",
   "metadata": {},
   "outputs": [],
   "source": []
  }
 ],
 "metadata": {
  "kernelspec": {
   "display_name": "Python 3 (ipykernel)",
   "language": "python",
   "name": "python3"
  },
  "language_info": {
   "codemirror_mode": {
    "name": "ipython",
    "version": 3
   },
   "file_extension": ".py",
   "mimetype": "text/x-python",
   "name": "python",
   "nbconvert_exporter": "python",
   "pygments_lexer": "ipython3",
   "version": "3.10.6"
  }
 },
 "nbformat": 4,
 "nbformat_minor": 5
}
